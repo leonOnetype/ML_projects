{
 "cells": [
  {
   "cell_type": "markdown",
   "id": "f8cf0dec",
   "metadata": {
    "papermill": {
     "duration": 0.008852,
     "end_time": "2024-09-01T13:58:49.904965",
     "exception": false,
     "start_time": "2024-09-01T13:58:49.896113",
     "status": "completed"
    },
    "tags": []
   },
   "source": [
    "# Notebook Versions\n",
    "\n",
    "- Verions 1 (09/01/2024)\n",
    "   * EDA and baseline modeling 1.0\n",
    "   \n",
    "# Loading Libraries"
   ]
  },
  {
   "cell_type": "code",
   "execution_count": 1,
   "id": "51a24651",
   "metadata": {
    "execution": {
     "iopub.execute_input": "2024-09-01T13:58:49.921380Z",
     "iopub.status.busy": "2024-09-01T13:58:49.921011Z",
     "iopub.status.idle": "2024-09-01T13:58:56.890679Z",
     "shell.execute_reply": "2024-09-01T13:58:56.889546Z"
    },
    "papermill": {
     "duration": 6.980537,
     "end_time": "2024-09-01T13:58:56.892972",
     "exception": false,
     "start_time": "2024-09-01T13:58:49.912435",
     "status": "completed"
    },
    "tags": []
   },
   "outputs": [
    {
     "name": "stdout",
     "output_type": "stream",
     "text": [
      "CPU times: user 3.96 s, sys: 492 ms, total: 4.45 s\n",
      "Wall time: 6.95 s\n"
     ]
    }
   ],
   "source": [
    "%%time\n",
    "import pandas as pd; pd.set_option('display.max_columns', 100)\n",
    "import numpy as np\n",
    "\n",
    "import warnings\n",
    "warnings.filterwarnings('ignore')\n",
    "\n",
    "from tqdm.notebook import tqdm\n",
    "\n",
    "import re\n",
    "\n",
    "from functools import partial\n",
    "from scipy.stats import mode\n",
    "\n",
    "import matplotlib.pyplot as plt; plt.style.use('ggplot')\n",
    "import seaborn as sns\n",
    "import plotly.express as px\n",
    "\n",
    "from sklearn.tree import DecisionTreeClassifier, plot_tree\n",
    "from sklearn.preprocessing import MinMaxScaler, StandardScaler, LabelEncoder, FunctionTransformer, PowerTransformer, PolynomialFeatures\n",
    "from sklearn.pipeline import make_pipeline, Pipeline, FeatureUnion\n",
    "from sklearn.decomposition import PCA\n",
    "from sklearn.cluster import KMeans\n",
    "from sklearn.compose import ColumnTransformer, make_column_transformer\n",
    "from sklearn.impute import KNNImputer\n",
    "from sklearn.multiclass import OneVsRestClassifier\n",
    "from sklearn.model_selection import KFold, StratifiedKFold, train_test_split, GridSearchCV, RepeatedStratifiedKFold, cross_val_score, cross_val_predict, RepeatedKFold\n",
    "from sklearn.metrics import roc_auc_score, roc_curve, RocCurveDisplay, cohen_kappa_score, log_loss, f1_score, mean_squared_error\n",
    "from sklearn.discriminant_analysis import LinearDiscriminantAnalysis, QuadraticDiscriminantAnalysis\n",
    "from sklearn.neighbors import KNeighborsClassifier\n",
    "from sklearn.feature_selection import RFE, RFECV\n",
    "from sklearn.isotonic import IsotonicRegression\n",
    "from sklearn.calibration import CalibrationDisplay, CalibratedClassifierCV\n",
    "from sklearn.inspection import PartialDependenceDisplay, permutation_importance\n",
    "from sklearn.linear_model import LogisticRegression, RidgeClassifier\n",
    "from collections import Counter\n",
    "from sklearn.ensemble import RandomForestRegressor, HistGradientBoostingRegressor, GradientBoostingRegressor, ExtraTreesRegressor, VotingRegressor\n",
    "from sklearn.svm import SVR\n",
    "from lightgbm import LGBMRegressor\n",
    "from xgboost import XGBRegressor\n",
    "from catboost import CatBoostRegressor\n",
    "\n",
    "import xgboost as xgb\n",
    "\n",
    "from sklearn.neural_network import MLPRegressor\n",
    "import optuna"
   ]
  },
  {
   "cell_type": "markdown",
   "id": "a6b9998d",
   "metadata": {
    "papermill": {
     "duration": 0.007528,
     "end_time": "2024-09-01T13:58:56.908204",
     "exception": false,
     "start_time": "2024-09-01T13:58:56.900676",
     "status": "completed"
    },
    "tags": []
   },
   "source": [
    "# Reading Data Files"
   ]
  },
  {
   "cell_type": "code",
   "execution_count": 2,
   "id": "d28cf5fe",
   "metadata": {
    "execution": {
     "iopub.execute_input": "2024-09-01T13:58:56.924998Z",
     "iopub.status.busy": "2024-09-01T13:58:56.923861Z",
     "iopub.status.idle": "2024-09-01T13:58:58.202471Z",
     "shell.execute_reply": "2024-09-01T13:58:58.201492Z"
    },
    "papermill": {
     "duration": 1.289297,
     "end_time": "2024-09-01T13:58:58.204789",
     "exception": false,
     "start_time": "2024-09-01T13:58:56.915492",
     "status": "completed"
    },
    "tags": []
   },
   "outputs": [
    {
     "name": "stdout",
     "output_type": "stream",
     "text": [
      "The dimension of the train dataset is: (188533, 12)\n",
      "The dimension of the test dataset is: (125690, 11)\n"
     ]
    }
   ],
   "source": [
    "train = pd.read_csv('../input/playground-series-s4e9/train.csv', index_col=0)\n",
    "test = pd.read_csv('../input/playground-series-s4e9/test.csv', index_col=0)\n",
    "\n",
    "print('The dimension of the train dataset is:', train.shape)\n",
    "print('The dimension of the test dataset is:', test.shape)"
   ]
  },
  {
   "cell_type": "code",
   "execution_count": 3,
   "id": "9567bc8f",
   "metadata": {
    "execution": {
     "iopub.execute_input": "2024-09-01T13:58:58.221625Z",
     "iopub.status.busy": "2024-09-01T13:58:58.221076Z",
     "iopub.status.idle": "2024-09-01T13:58:58.239159Z",
     "shell.execute_reply": "2024-09-01T13:58:58.238227Z"
    },
    "papermill": {
     "duration": 0.028587,
     "end_time": "2024-09-01T13:58:58.241093",
     "exception": false,
     "start_time": "2024-09-01T13:58:58.212506",
     "status": "completed"
    },
    "tags": []
   },
   "outputs": [
    {
     "data": {
      "text/html": [
       "<div>\n",
       "<style scoped>\n",
       "    .dataframe tbody tr th:only-of-type {\n",
       "        vertical-align: middle;\n",
       "    }\n",
       "\n",
       "    .dataframe tbody tr th {\n",
       "        vertical-align: top;\n",
       "    }\n",
       "\n",
       "    .dataframe thead th {\n",
       "        text-align: right;\n",
       "    }\n",
       "</style>\n",
       "<table border=\"1\" class=\"dataframe\">\n",
       "  <thead>\n",
       "    <tr style=\"text-align: right;\">\n",
       "      <th></th>\n",
       "      <th>brand</th>\n",
       "      <th>model</th>\n",
       "      <th>model_year</th>\n",
       "      <th>milage</th>\n",
       "      <th>fuel_type</th>\n",
       "      <th>engine</th>\n",
       "      <th>transmission</th>\n",
       "      <th>ext_col</th>\n",
       "      <th>int_col</th>\n",
       "      <th>accident</th>\n",
       "      <th>clean_title</th>\n",
       "      <th>price</th>\n",
       "    </tr>\n",
       "    <tr>\n",
       "      <th>id</th>\n",
       "      <th></th>\n",
       "      <th></th>\n",
       "      <th></th>\n",
       "      <th></th>\n",
       "      <th></th>\n",
       "      <th></th>\n",
       "      <th></th>\n",
       "      <th></th>\n",
       "      <th></th>\n",
       "      <th></th>\n",
       "      <th></th>\n",
       "      <th></th>\n",
       "    </tr>\n",
       "  </thead>\n",
       "  <tbody>\n",
       "    <tr>\n",
       "      <th>0</th>\n",
       "      <td>MINI</td>\n",
       "      <td>Cooper S Base</td>\n",
       "      <td>2007</td>\n",
       "      <td>213000</td>\n",
       "      <td>Gasoline</td>\n",
       "      <td>172.0HP 1.6L 4 Cylinder Engine Gasoline Fuel</td>\n",
       "      <td>A/T</td>\n",
       "      <td>Yellow</td>\n",
       "      <td>Gray</td>\n",
       "      <td>None reported</td>\n",
       "      <td>Yes</td>\n",
       "      <td>4200</td>\n",
       "    </tr>\n",
       "    <tr>\n",
       "      <th>1</th>\n",
       "      <td>Lincoln</td>\n",
       "      <td>LS V8</td>\n",
       "      <td>2002</td>\n",
       "      <td>143250</td>\n",
       "      <td>Gasoline</td>\n",
       "      <td>252.0HP 3.9L 8 Cylinder Engine Gasoline Fuel</td>\n",
       "      <td>A/T</td>\n",
       "      <td>Silver</td>\n",
       "      <td>Beige</td>\n",
       "      <td>At least 1 accident or damage reported</td>\n",
       "      <td>Yes</td>\n",
       "      <td>4999</td>\n",
       "    </tr>\n",
       "    <tr>\n",
       "      <th>2</th>\n",
       "      <td>Chevrolet</td>\n",
       "      <td>Silverado 2500 LT</td>\n",
       "      <td>2002</td>\n",
       "      <td>136731</td>\n",
       "      <td>E85 Flex Fuel</td>\n",
       "      <td>320.0HP 5.3L 8 Cylinder Engine Flex Fuel Capab...</td>\n",
       "      <td>A/T</td>\n",
       "      <td>Blue</td>\n",
       "      <td>Gray</td>\n",
       "      <td>None reported</td>\n",
       "      <td>Yes</td>\n",
       "      <td>13900</td>\n",
       "    </tr>\n",
       "    <tr>\n",
       "      <th>3</th>\n",
       "      <td>Genesis</td>\n",
       "      <td>G90 5.0 Ultimate</td>\n",
       "      <td>2017</td>\n",
       "      <td>19500</td>\n",
       "      <td>Gasoline</td>\n",
       "      <td>420.0HP 5.0L 8 Cylinder Engine Gasoline Fuel</td>\n",
       "      <td>Transmission w/Dual Shift Mode</td>\n",
       "      <td>Black</td>\n",
       "      <td>Black</td>\n",
       "      <td>None reported</td>\n",
       "      <td>Yes</td>\n",
       "      <td>45000</td>\n",
       "    </tr>\n",
       "    <tr>\n",
       "      <th>4</th>\n",
       "      <td>Mercedes-Benz</td>\n",
       "      <td>Metris Base</td>\n",
       "      <td>2021</td>\n",
       "      <td>7388</td>\n",
       "      <td>Gasoline</td>\n",
       "      <td>208.0HP 2.0L 4 Cylinder Engine Gasoline Fuel</td>\n",
       "      <td>7-Speed A/T</td>\n",
       "      <td>Black</td>\n",
       "      <td>Beige</td>\n",
       "      <td>None reported</td>\n",
       "      <td>Yes</td>\n",
       "      <td>97500</td>\n",
       "    </tr>\n",
       "  </tbody>\n",
       "</table>\n",
       "</div>"
      ],
      "text/plain": [
       "            brand              model  model_year  milage      fuel_type  \\\n",
       "id                                                                        \n",
       "0            MINI      Cooper S Base        2007  213000       Gasoline   \n",
       "1         Lincoln              LS V8        2002  143250       Gasoline   \n",
       "2       Chevrolet  Silverado 2500 LT        2002  136731  E85 Flex Fuel   \n",
       "3         Genesis   G90 5.0 Ultimate        2017   19500       Gasoline   \n",
       "4   Mercedes-Benz        Metris Base        2021    7388       Gasoline   \n",
       "\n",
       "                                               engine  \\\n",
       "id                                                      \n",
       "0        172.0HP 1.6L 4 Cylinder Engine Gasoline Fuel   \n",
       "1        252.0HP 3.9L 8 Cylinder Engine Gasoline Fuel   \n",
       "2   320.0HP 5.3L 8 Cylinder Engine Flex Fuel Capab...   \n",
       "3        420.0HP 5.0L 8 Cylinder Engine Gasoline Fuel   \n",
       "4        208.0HP 2.0L 4 Cylinder Engine Gasoline Fuel   \n",
       "\n",
       "                      transmission ext_col int_col  \\\n",
       "id                                                   \n",
       "0                              A/T  Yellow    Gray   \n",
       "1                              A/T  Silver   Beige   \n",
       "2                              A/T    Blue    Gray   \n",
       "3   Transmission w/Dual Shift Mode   Black   Black   \n",
       "4                      7-Speed A/T   Black   Beige   \n",
       "\n",
       "                                  accident clean_title  price  \n",
       "id                                                             \n",
       "0                            None reported         Yes   4200  \n",
       "1   At least 1 accident or damage reported         Yes   4999  \n",
       "2                            None reported         Yes  13900  \n",
       "3                            None reported         Yes  45000  \n",
       "4                            None reported         Yes  97500  "
      ]
     },
     "execution_count": 3,
     "metadata": {},
     "output_type": "execute_result"
    }
   ],
   "source": [
    "train.head()"
   ]
  },
  {
   "cell_type": "code",
   "execution_count": 4,
   "id": "4c66ad8f",
   "metadata": {
    "execution": {
     "iopub.execute_input": "2024-09-01T13:58:58.259362Z",
     "iopub.status.busy": "2024-09-01T13:58:58.259062Z",
     "iopub.status.idle": "2024-09-01T13:58:58.272784Z",
     "shell.execute_reply": "2024-09-01T13:58:58.271868Z"
    },
    "papermill": {
     "duration": 0.025737,
     "end_time": "2024-09-01T13:58:58.274778",
     "exception": false,
     "start_time": "2024-09-01T13:58:58.249041",
     "status": "completed"
    },
    "tags": []
   },
   "outputs": [
    {
     "data": {
      "text/html": [
       "<div>\n",
       "<style scoped>\n",
       "    .dataframe tbody tr th:only-of-type {\n",
       "        vertical-align: middle;\n",
       "    }\n",
       "\n",
       "    .dataframe tbody tr th {\n",
       "        vertical-align: top;\n",
       "    }\n",
       "\n",
       "    .dataframe thead th {\n",
       "        text-align: right;\n",
       "    }\n",
       "</style>\n",
       "<table border=\"1\" class=\"dataframe\">\n",
       "  <thead>\n",
       "    <tr style=\"text-align: right;\">\n",
       "      <th></th>\n",
       "      <th>brand</th>\n",
       "      <th>model</th>\n",
       "      <th>model_year</th>\n",
       "      <th>milage</th>\n",
       "      <th>fuel_type</th>\n",
       "      <th>engine</th>\n",
       "      <th>transmission</th>\n",
       "      <th>ext_col</th>\n",
       "      <th>int_col</th>\n",
       "      <th>accident</th>\n",
       "      <th>clean_title</th>\n",
       "    </tr>\n",
       "    <tr>\n",
       "      <th>id</th>\n",
       "      <th></th>\n",
       "      <th></th>\n",
       "      <th></th>\n",
       "      <th></th>\n",
       "      <th></th>\n",
       "      <th></th>\n",
       "      <th></th>\n",
       "      <th></th>\n",
       "      <th></th>\n",
       "      <th></th>\n",
       "      <th></th>\n",
       "    </tr>\n",
       "  </thead>\n",
       "  <tbody>\n",
       "    <tr>\n",
       "      <th>188533</th>\n",
       "      <td>Land</td>\n",
       "      <td>Rover LR2 Base</td>\n",
       "      <td>2015</td>\n",
       "      <td>98000</td>\n",
       "      <td>Gasoline</td>\n",
       "      <td>240.0HP 2.0L 4 Cylinder Engine Gasoline Fuel</td>\n",
       "      <td>6-Speed A/T</td>\n",
       "      <td>White</td>\n",
       "      <td>Beige</td>\n",
       "      <td>None reported</td>\n",
       "      <td>Yes</td>\n",
       "    </tr>\n",
       "    <tr>\n",
       "      <th>188534</th>\n",
       "      <td>Land</td>\n",
       "      <td>Rover Defender SE</td>\n",
       "      <td>2020</td>\n",
       "      <td>9142</td>\n",
       "      <td>Hybrid</td>\n",
       "      <td>395.0HP 3.0L Straight 6 Cylinder Engine Gasoli...</td>\n",
       "      <td>8-Speed A/T</td>\n",
       "      <td>Silver</td>\n",
       "      <td>Black</td>\n",
       "      <td>None reported</td>\n",
       "      <td>Yes</td>\n",
       "    </tr>\n",
       "    <tr>\n",
       "      <th>188535</th>\n",
       "      <td>Ford</td>\n",
       "      <td>Expedition Limited</td>\n",
       "      <td>2022</td>\n",
       "      <td>28121</td>\n",
       "      <td>Gasoline</td>\n",
       "      <td>3.5L V6 24V PDI DOHC Twin Turbo</td>\n",
       "      <td>10-Speed Automatic</td>\n",
       "      <td>White</td>\n",
       "      <td>Ebony</td>\n",
       "      <td>None reported</td>\n",
       "      <td>NaN</td>\n",
       "    </tr>\n",
       "    <tr>\n",
       "      <th>188536</th>\n",
       "      <td>Audi</td>\n",
       "      <td>A6 2.0T Sport</td>\n",
       "      <td>2016</td>\n",
       "      <td>61258</td>\n",
       "      <td>Gasoline</td>\n",
       "      <td>2.0 Liter TFSI</td>\n",
       "      <td>Automatic</td>\n",
       "      <td>Silician Yellow</td>\n",
       "      <td>Black</td>\n",
       "      <td>None reported</td>\n",
       "      <td>NaN</td>\n",
       "    </tr>\n",
       "    <tr>\n",
       "      <th>188537</th>\n",
       "      <td>Audi</td>\n",
       "      <td>A6 2.0T Premium Plus</td>\n",
       "      <td>2018</td>\n",
       "      <td>59000</td>\n",
       "      <td>Gasoline</td>\n",
       "      <td>252.0HP 2.0L 4 Cylinder Engine Gasoline Fuel</td>\n",
       "      <td>A/T</td>\n",
       "      <td>Gray</td>\n",
       "      <td>Black</td>\n",
       "      <td>None reported</td>\n",
       "      <td>Yes</td>\n",
       "    </tr>\n",
       "  </tbody>\n",
       "</table>\n",
       "</div>"
      ],
      "text/plain": [
       "       brand                 model  model_year  milage fuel_type  \\\n",
       "id                                                                 \n",
       "188533  Land        Rover LR2 Base        2015   98000  Gasoline   \n",
       "188534  Land     Rover Defender SE        2020    9142    Hybrid   \n",
       "188535  Ford    Expedition Limited        2022   28121  Gasoline   \n",
       "188536  Audi         A6 2.0T Sport        2016   61258  Gasoline   \n",
       "188537  Audi  A6 2.0T Premium Plus        2018   59000  Gasoline   \n",
       "\n",
       "                                                   engine        transmission  \\\n",
       "id                                                                              \n",
       "188533       240.0HP 2.0L 4 Cylinder Engine Gasoline Fuel         6-Speed A/T   \n",
       "188534  395.0HP 3.0L Straight 6 Cylinder Engine Gasoli...         8-Speed A/T   \n",
       "188535                    3.5L V6 24V PDI DOHC Twin Turbo  10-Speed Automatic   \n",
       "188536                                     2.0 Liter TFSI           Automatic   \n",
       "188537       252.0HP 2.0L 4 Cylinder Engine Gasoline Fuel                 A/T   \n",
       "\n",
       "                ext_col int_col       accident clean_title  \n",
       "id                                                          \n",
       "188533            White   Beige  None reported         Yes  \n",
       "188534           Silver   Black  None reported         Yes  \n",
       "188535            White   Ebony  None reported         NaN  \n",
       "188536  Silician Yellow   Black  None reported         NaN  \n",
       "188537             Gray   Black  None reported         Yes  "
      ]
     },
     "execution_count": 4,
     "metadata": {},
     "output_type": "execute_result"
    }
   ],
   "source": [
    "test.head()"
   ]
  },
  {
   "cell_type": "markdown",
   "id": "72e2a5e8",
   "metadata": {
    "papermill": {
     "duration": 0.007798,
     "end_time": "2024-09-01T13:58:58.290839",
     "exception": false,
     "start_time": "2024-09-01T13:58:58.283041",
     "status": "completed"
    },
    "tags": []
   },
   "source": [
    "First, let's check for missing values in the `train` and `test` data frames."
   ]
  },
  {
   "cell_type": "code",
   "execution_count": 5,
   "id": "a56ebfe8",
   "metadata": {
    "execution": {
     "iopub.execute_input": "2024-09-01T13:58:58.308339Z",
     "iopub.status.busy": "2024-09-01T13:58:58.308031Z",
     "iopub.status.idle": "2024-09-01T13:58:58.468112Z",
     "shell.execute_reply": "2024-09-01T13:58:58.467199Z"
    },
    "papermill": {
     "duration": 0.171525,
     "end_time": "2024-09-01T13:58:58.470295",
     "exception": false,
     "start_time": "2024-09-01T13:58:58.298770",
     "status": "completed"
    },
    "tags": []
   },
   "outputs": [
    {
     "data": {
      "text/plain": [
       "brand            0.000000\n",
       "model            0.000000\n",
       "model_year       0.000000\n",
       "milage           0.000000\n",
       "fuel_type        2.696080\n",
       "engine           0.000000\n",
       "transmission     0.000000\n",
       "ext_col          0.000000\n",
       "int_col          0.000000\n",
       "accident         1.300568\n",
       "clean_title     11.360876\n",
       "price            0.000000\n",
       "dtype: float64"
      ]
     },
     "execution_count": 5,
     "metadata": {},
     "output_type": "execute_result"
    }
   ],
   "source": [
    "100*train.isnull().sum() / train.shape[0]"
   ]
  },
  {
   "cell_type": "code",
   "execution_count": 6,
   "id": "96868788",
   "metadata": {
    "execution": {
     "iopub.execute_input": "2024-09-01T13:58:58.488483Z",
     "iopub.status.busy": "2024-09-01T13:58:58.488145Z",
     "iopub.status.idle": "2024-09-01T13:58:58.598411Z",
     "shell.execute_reply": "2024-09-01T13:58:58.597392Z"
    },
    "papermill": {
     "duration": 0.121664,
     "end_time": "2024-09-01T13:58:58.600493",
     "exception": false,
     "start_time": "2024-09-01T13:58:58.478829",
     "status": "completed"
    },
    "tags": []
   },
   "outputs": [
    {
     "data": {
      "text/plain": [
       "brand            0.000000\n",
       "model            0.000000\n",
       "model_year       0.000000\n",
       "milage           0.000000\n",
       "fuel_type        2.691543\n",
       "engine           0.000000\n",
       "transmission     0.000000\n",
       "ext_col          0.000000\n",
       "int_col          0.000000\n",
       "accident         1.298433\n",
       "clean_title     11.328666\n",
       "dtype: float64"
      ]
     },
     "execution_count": 6,
     "metadata": {},
     "output_type": "execute_result"
    }
   ],
   "source": [
    "100*test.isnull().sum() / test.shape[0]"
   ]
  },
  {
   "cell_type": "markdown",
   "id": "abc025a1",
   "metadata": {
    "papermill": {
     "duration": 0.008315,
     "end_time": "2024-09-01T13:58:58.617794",
     "exception": false,
     "start_time": "2024-09-01T13:58:58.609479",
     "status": "completed"
    },
    "tags": []
   },
   "source": [
    "From the above analysis, we can observe that both the `train` and `test` data frames contain approximately the same percentage of missing values. Next, we check for duplicates."
   ]
  },
  {
   "cell_type": "code",
   "execution_count": 7,
   "id": "f5644760",
   "metadata": {
    "execution": {
     "iopub.execute_input": "2024-09-01T13:58:58.635719Z",
     "iopub.status.busy": "2024-09-01T13:58:58.635366Z",
     "iopub.status.idle": "2024-09-01T13:58:59.285905Z",
     "shell.execute_reply": "2024-09-01T13:58:59.284980Z"
    },
    "papermill": {
     "duration": 0.662017,
     "end_time": "2024-09-01T13:58:59.288095",
     "exception": false,
     "start_time": "2024-09-01T13:58:58.626078",
     "status": "completed"
    },
    "tags": []
   },
   "outputs": [
    {
     "name": "stdout",
     "output_type": "stream",
     "text": [
      "There are 0 duplicated rows in the train data frame.\n",
      "\n",
      "\n",
      "After dropping the price column, there are 0 duplicated rows in the train data frame.\n",
      "\n",
      "\n",
      "There are 0 duplicated rows in the test data frame.\n"
     ]
    }
   ],
   "source": [
    "print(f\"There are {sum(train.duplicated())} duplicated rows in the train data frame.\")\n",
    "\n",
    "print(\"\\n\")\n",
    "print(f\"After dropping the price column, there are {sum(train.drop(columns=['price']).duplicated())} duplicated rows in the train data frame.\")\n",
    "\n",
    "print(\"\\n\")\n",
    "print(f\"There are {sum(test.duplicated())} duplicated rows in the test data frame.\")"
   ]
  },
  {
   "cell_type": "markdown",
   "id": "563886dd",
   "metadata": {
    "papermill": {
     "duration": 0.008344,
     "end_time": "2024-09-01T13:58:59.305147",
     "exception": false,
     "start_time": "2024-09-01T13:58:59.296803",
     "status": "completed"
    },
    "tags": []
   },
   "source": [
    "Finally, we check if there are any observations that appear in both the `train` and `test` data frames."
   ]
  },
  {
   "cell_type": "code",
   "execution_count": 8,
   "id": "bdb489e9",
   "metadata": {
    "execution": {
     "iopub.execute_input": "2024-09-01T13:58:59.323536Z",
     "iopub.status.busy": "2024-09-01T13:58:59.323223Z",
     "iopub.status.idle": "2024-09-01T13:58:59.892526Z",
     "shell.execute_reply": "2024-09-01T13:58:59.891497Z"
    },
    "papermill": {
     "duration": 0.581264,
     "end_time": "2024-09-01T13:58:59.895129",
     "exception": false,
     "start_time": "2024-09-01T13:58:59.313865",
     "status": "completed"
    },
    "tags": []
   },
   "outputs": [
    {
     "name": "stdout",
     "output_type": "stream",
     "text": [
      "There are 0 observations that appear in both the train and test data frames\n"
     ]
    }
   ],
   "source": [
    "temp_train = train.drop(columns=['price'], axis=1)\n",
    "temp_test = test\n",
    "\n",
    "inner_join = pd.merge(temp_train, temp_test)\n",
    "print(f\"There are {inner_join.shape[0]} observations that appear in both the train and test data frames\")"
   ]
  },
  {
   "cell_type": "markdown",
   "id": "51debdba",
   "metadata": {
    "papermill": {
     "duration": 0.010003,
     "end_time": "2024-09-01T13:58:59.915514",
     "exception": false,
     "start_time": "2024-09-01T13:58:59.905511",
     "status": "completed"
    },
    "tags": []
   },
   "source": [
    "# Data Exploration\n",
    "\n",
    "First, we start by visualizing the distribution of `price`."
   ]
  },
  {
   "cell_type": "code",
   "execution_count": 9,
   "id": "aa2b8eea",
   "metadata": {
    "_kg_hide-input": true,
    "execution": {
     "iopub.execute_input": "2024-09-01T13:58:59.936466Z",
     "iopub.status.busy": "2024-09-01T13:58:59.935717Z",
     "iopub.status.idle": "2024-09-01T13:59:01.285876Z",
     "shell.execute_reply": "2024-09-01T13:59:01.284842Z"
    },
    "papermill": {
     "duration": 1.362642,
     "end_time": "2024-09-01T13:59:01.287830",
     "exception": false,
     "start_time": "2024-09-01T13:58:59.925188",
     "status": "completed"
    },
    "tags": []
   },
   "outputs": [
    {
     "data": {
      "image/png": "[encoded data removed]",
      "text/plain": [
       "<Figure size 640x480 with 1 Axes>"
      ]
     },
     "metadata": {},
     "output_type": "display_data"
    }
   ],
   "source": [
    "ax = sns.kdeplot(data=train, x='price', color='steelblue', fill=True, log_scale=True)\n",
    "ax.set(xlabel='log price');"
   ]
  },
  {
   "cell_type": "markdown",
   "id": "58df7203",
   "metadata": {
    "papermill": {
     "duration": 0.008796,
     "end_time": "2024-09-01T13:59:01.305909",
     "exception": false,
     "start_time": "2024-09-01T13:59:01.297113",
     "status": "completed"
    },
    "tags": []
   },
   "source": [
    "From the above chart, we see that the `log-price` distribution is more or less symmetric around 5x10^4 with tail on the right side of the distribution. "
   ]
  },
  {
   "cell_type": "code",
   "execution_count": 10,
   "id": "5770be58",
   "metadata": {
    "execution": {
     "iopub.execute_input": "2024-09-01T13:59:01.325925Z",
     "iopub.status.busy": "2024-09-01T13:59:01.325239Z",
     "iopub.status.idle": "2024-09-01T13:59:02.232209Z",
     "shell.execute_reply": "2024-09-01T13:59:02.231263Z"
    },
    "papermill": {
     "duration": 0.920142,
     "end_time": "2024-09-01T13:59:02.235025",
     "exception": false,
     "start_time": "2024-09-01T13:59:01.314883",
     "status": "completed"
    },
    "tags": []
   },
   "outputs": [
    {
     "data": {
      "text/plain": [
       "<Axes: xlabel='milage', ylabel='price'>"
      ]
     },
     "execution_count": 10,
     "metadata": {},
     "output_type": "execute_result"
    },
    {
     "data": {
      "image/png": "[encoded data removed]",
      "text/plain": [
       "<Figure size 640x480 with 1 Axes>"
      ]
     },
     "metadata": {},
     "output_type": "display_data"
    }
   ],
   "source": [
    "sns.scatterplot(data=train, x='milage', y='price', color='steelblue')"
   ]
  },
  {
   "cell_type": "markdown",
   "id": "0422ee2c",
   "metadata": {
    "papermill": {
     "duration": 0.010513,
     "end_time": "2024-09-01T13:59:02.257003",
     "exception": false,
     "start_time": "2024-09-01T13:59:02.246490",
     "status": "completed"
    },
    "tags": []
   },
   "source": [
    "From the above chart, we can see that there is no a clear relationship between `mileage` and `price`. We next explore `model_year`."
   ]
  },
  {
   "cell_type": "code",
   "execution_count": 11,
   "id": "9979bd48",
   "metadata": {
    "execution": {
     "iopub.execute_input": "2024-09-01T13:59:02.279502Z",
     "iopub.status.busy": "2024-09-01T13:59:02.278817Z",
     "iopub.status.idle": "2024-09-01T13:59:02.286999Z",
     "shell.execute_reply": "2024-09-01T13:59:02.286183Z"
    },
    "papermill": {
     "duration": 0.021213,
     "end_time": "2024-09-01T13:59:02.289004",
     "exception": false,
     "start_time": "2024-09-01T13:59:02.267791",
     "status": "completed"
    },
    "tags": []
   },
   "outputs": [
    {
     "data": {
      "text/plain": [
       "array([2007, 2002, 2017, 2021, 2018, 2016, 2020, 2015, 2011, 2013, 2023,\n",
       "       2019, 2012, 2014, 2008, 2009, 2022, 2003, 2005, 2001, 2006, 2000,\n",
       "       2010, 2004, 1997, 1998, 1999, 1994, 1993, 1996, 1995, 2024, 1974,\n",
       "       1992])"
      ]
     },
     "execution_count": 11,
     "metadata": {},
     "output_type": "execute_result"
    }
   ],
   "source": [
    "train['model_year'].unique()"
   ]
  },
  {
   "cell_type": "code",
   "execution_count": 12,
   "id": "f76be301",
   "metadata": {
    "execution": {
     "iopub.execute_input": "2024-09-01T13:59:02.309862Z",
     "iopub.status.busy": "2024-09-01T13:59:02.309592Z",
     "iopub.status.idle": "2024-09-01T13:59:02.316039Z",
     "shell.execute_reply": "2024-09-01T13:59:02.315139Z"
    },
    "papermill": {
     "duration": 0.019146,
     "end_time": "2024-09-01T13:59:02.317878",
     "exception": false,
     "start_time": "2024-09-01T13:59:02.298732",
     "status": "completed"
    },
    "tags": []
   },
   "outputs": [
    {
     "data": {
      "text/plain": [
       "array([2015, 2020, 2022, 2016, 2018, 2013, 2008, 2019, 2017, 2002, 2023,\n",
       "       2014, 2021, 2012, 2004, 2009, 2011, 2010, 2001, 2007, 2005, 2000,\n",
       "       2003, 2006, 1999, 2024, 1997, 1993, 1994, 1998, 1995, 1996, 1992,\n",
       "       1974, 1982, 1988])"
      ]
     },
     "execution_count": 12,
     "metadata": {},
     "output_type": "execute_result"
    }
   ],
   "source": [
    "test['model_year'].unique()"
   ]
  },
  {
   "cell_type": "markdown",
   "id": "1424f812",
   "metadata": {
    "papermill": {
     "duration": 0.009836,
     "end_time": "2024-09-01T13:59:02.337572",
     "exception": false,
     "start_time": "2024-09-01T13:59:02.327736",
     "status": "completed"
    },
    "tags": []
   },
   "source": [
    "Notice that the `train` and `test` data-frames don't have the same `model_year` values."
   ]
  },
  {
   "cell_type": "markdown",
   "id": "361306f8",
   "metadata": {
    "papermill": {
     "duration": 0.009851,
     "end_time": "2024-09-01T13:59:02.357500",
     "exception": false,
     "start_time": "2024-09-01T13:59:02.347649",
     "status": "completed"
    },
    "tags": []
   },
   "source": [
    "# Baseline Modeling 1.0\n",
    "\n",
    "We build some standard models with the raw data. First, let's update the `dtype` of some of the features."
   ]
  },
  {
   "cell_type": "code",
   "execution_count": 13,
   "id": "91c6a51b",
   "metadata": {
    "execution": {
     "iopub.execute_input": "2024-09-01T13:59:02.378638Z",
     "iopub.status.busy": "2024-09-01T13:59:02.378325Z",
     "iopub.status.idle": "2024-09-01T13:59:02.716733Z",
     "shell.execute_reply": "2024-09-01T13:59:02.715703Z"
    },
    "papermill": {
     "duration": 0.351684,
     "end_time": "2024-09-01T13:59:02.719199",
     "exception": false,
     "start_time": "2024-09-01T13:59:02.367515",
     "status": "completed"
    },
    "tags": []
   },
   "outputs": [],
   "source": [
    "cat_cols = ['brand', 'model', 'fuel_type', 'engine', 'transmission', 'ext_col', 'int_col', 'accident', 'clean_title']\n",
    "for i in cat_cols:\n",
    "    train[i] = train[i].astype('category')\n",
    "    test[i] = test[i].astype('category')"
   ]
  },
  {
   "cell_type": "markdown",
   "id": "bd93dcfe",
   "metadata": {
    "papermill": {
     "duration": 0.009961,
     "end_time": "2024-09-01T13:59:02.739769",
     "exception": false,
     "start_time": "2024-09-01T13:59:02.729808",
     "status": "completed"
    },
    "tags": []
   },
   "source": [
    "Next, we define the input and target variables."
   ]
  },
  {
   "cell_type": "code",
   "execution_count": 14,
   "id": "fd425c58",
   "metadata": {
    "execution": {
     "iopub.execute_input": "2024-09-01T13:59:02.761680Z",
     "iopub.status.busy": "2024-09-01T13:59:02.761264Z",
     "iopub.status.idle": "2024-09-01T13:59:02.771571Z",
     "shell.execute_reply": "2024-09-01T13:59:02.770464Z"
    },
    "papermill": {
     "duration": 0.023745,
     "end_time": "2024-09-01T13:59:02.773788",
     "exception": false,
     "start_time": "2024-09-01T13:59:02.750043",
     "status": "completed"
    },
    "tags": []
   },
   "outputs": [],
   "source": [
    "X = train.drop(columns=['price'], axis=1)\n",
    "Y = train['price']\n",
    "\n",
    "skf = RepeatedKFold(n_splits=10, n_repeats=1, random_state=1)"
   ]
  },
  {
   "cell_type": "markdown",
   "id": "8bbec238",
   "metadata": {
    "papermill": {
     "duration": 0.009892,
     "end_time": "2024-09-01T13:59:02.793733",
     "exception": false,
     "start_time": "2024-09-01T13:59:02.783841",
     "status": "completed"
    },
    "tags": []
   },
   "source": [
    "Frist, we train the `LightGBM` model over a 10-fold cross validation strategy."
   ]
  },
  {
   "cell_type": "code",
   "execution_count": 15,
   "id": "bedda640",
   "metadata": {
    "execution": {
     "iopub.execute_input": "2024-09-01T13:59:02.814797Z",
     "iopub.status.busy": "2024-09-01T13:59:02.814469Z",
     "iopub.status.idle": "2024-09-01T13:59:17.911461Z",
     "shell.execute_reply": "2024-09-01T13:59:17.909916Z"
    },
    "papermill": {
     "duration": 15.110198,
     "end_time": "2024-09-01T13:59:17.913884",
     "exception": false,
     "start_time": "2024-09-01T13:59:02.803686",
     "status": "completed"
    },
    "tags": []
   },
   "outputs": [
    {
     "name": "stdout",
     "output_type": "stream",
     "text": [
      "The average oof 10-fold RMSE of the LGBM is 72827.82670319131\n",
      "CPU times: user 176 ms, sys: 127 ms, total: 303 ms\n",
      "Wall time: 15.1 s\n"
     ]
    }
   ],
   "source": [
    "%%time\n",
    "lgb_params = {'n_estimators': 70, \n",
    "              'num_leaves': 57, \n",
    "              'min_child_samples': 128, \n",
    "              'learning_rate': 0.04750785540030444, \n",
    "              'colsample_bytree': 0.35875616040417896, \n",
    "              'reg_alpha': 0.007962434988143124, \n",
    "              'reg_lambda': 0.8598527013940332, \n",
    "              'verbose': -1}\n",
    "\n",
    "lgb_cv = cross_val_score(LGBMRegressor(**lgb_params), X, Y, cv=skf, scoring='neg_root_mean_squared_error', n_jobs=-1)\n",
    "print(f'The average oof 10-fold RMSE of the LGBM is {-1*lgb_cv.mean()}')"
   ]
  },
  {
   "cell_type": "markdown",
   "id": "f7843fe5",
   "metadata": {
    "papermill": {
     "duration": 0.01041,
     "end_time": "2024-09-01T13:59:17.937326",
     "exception": false,
     "start_time": "2024-09-01T13:59:17.926916",
     "status": "completed"
    },
    "tags": []
   },
   "source": [
    "Next, we train the `XGBoost` model over a 10-fold cross validation strategy."
   ]
  },
  {
   "cell_type": "code",
   "execution_count": 16,
   "id": "47e9471c",
   "metadata": {
    "execution": {
     "iopub.execute_input": "2024-09-01T13:59:17.961081Z",
     "iopub.status.busy": "2024-09-01T13:59:17.960093Z",
     "iopub.status.idle": "2024-09-01T14:11:52.521425Z",
     "shell.execute_reply": "2024-09-01T14:11:52.520205Z"
    },
    "papermill": {
     "duration": 754.575825,
     "end_time": "2024-09-01T14:11:52.523682",
     "exception": false,
     "start_time": "2024-09-01T13:59:17.947857",
     "status": "completed"
    },
    "tags": []
   },
   "outputs": [
    {
     "name": "stdout",
     "output_type": "stream",
     "text": [
      "------------ Working on Fold 0 ------------\n",
      "The oof RMSE score is 57720.58921356998\n",
      "------------ Working on Fold 1 ------------\n",
      "The oof RMSE score is 66759.11329679469\n",
      "------------ Working on Fold 2 ------------\n",
      "The oof RMSE score is 73404.78688997985\n",
      "------------ Working on Fold 3 ------------\n",
      "The oof RMSE score is 72752.55026053153\n",
      "------------ Working on Fold 4 ------------\n",
      "The oof RMSE score is 83758.15783399898\n",
      "------------ Working on Fold 5 ------------\n",
      "The oof RMSE score is 79615.6553399277\n",
      "------------ Working on Fold 6 ------------\n",
      "The oof RMSE score is 77709.41604981679\n",
      "------------ Working on Fold 7 ------------\n",
      "The oof RMSE score is 72957.14620152964\n",
      "------------ Working on Fold 8 ------------\n",
      "The oof RMSE score is 70395.91230728757\n",
      "------------ Working on Fold 9 ------------\n",
      "The oof RMSE score is 69495.85858720727\n",
      "The 10-fold average oof ROC-AUC score of the XGBClassifier model is 72456.9185980644\n",
      "CPU times: user 12min 38s, sys: 9.02 s, total: 12min 47s\n",
      "Wall time: 12min 34s\n"
     ]
    }
   ],
   "source": [
    "%%time\n",
    "xgb_params = {'device': 'cuda',\n",
    "              'max_depth': 7, \n",
    "              'min_child_weight': 93.53475555896287, \n",
    "              'learning_rate': 0.0014052948291504795, \n",
    "              'subsample': 0.8836178514907704, \n",
    "              'colsample_bylevel': 0.8730381265316601, \n",
    "              'colsample_bytree': 0.5852449246109913, \n",
    "              'reg_alpha': 0.0009765625, \n",
    "              'reg_lambda': 9.686259987751722,\n",
    "              'n_jobs': -1}\n",
    "\n",
    "scores, test_preds = list(), list()\n",
    "for i, (train_index, test_index) in enumerate(skf.split(X, Y)):\n",
    "    \n",
    "    print(f\"------------ Working on Fold {i} ------------\")\n",
    "    \n",
    "    X_train, X_test = X.iloc[train_index], X.iloc[test_index]\n",
    "    y_train, y_test = Y[train_index], Y.iloc[test_index]\n",
    "            \n",
    "    dtrain = xgb.DMatrix(X_train, label=y_train, enable_categorical=True)\n",
    "    dvalid = xgb.DMatrix(X_test, label=y_test, enable_categorical=True)\n",
    "    dtest = xgb.DMatrix(test, enable_categorical=True)\n",
    "            \n",
    "    xgb_md = xgb.train(xgb_params, dtrain, num_boost_round=6411, evals=[(dvalid, 'validation')], verbose_eval=False)\n",
    "    preds = xgb_md.predict(dvalid)\n",
    "    score = mean_squared_error(y_test, preds, squared=False)\n",
    "    print(f\"The oof RMSE score is {score}\")\n",
    "    scores.append(score)\n",
    "    \n",
    "    test_preds.append(xgb_md.predict(dtest))\n",
    "    \n",
    "print(f\"The 10-fold average oof ROC-AUC score of the XGBClassifier model is {np.mean(scores)}\")"
   ]
  },
  {
   "cell_type": "code",
   "execution_count": 17,
   "id": "21ba7bd6",
   "metadata": {
    "execution": {
     "iopub.execute_input": "2024-09-01T14:11:52.549141Z",
     "iopub.status.busy": "2024-09-01T14:11:52.548761Z",
     "iopub.status.idle": "2024-09-01T14:11:52.620422Z",
     "shell.execute_reply": "2024-09-01T14:11:52.619396Z"
    },
    "papermill": {
     "duration": 0.086952,
     "end_time": "2024-09-01T14:11:52.622608",
     "exception": false,
     "start_time": "2024-09-01T14:11:52.535656",
     "status": "completed"
    },
    "tags": []
   },
   "outputs": [
    {
     "name": "stdout",
     "output_type": "stream",
     "text": [
      "CPU times: user 37.4 ms, sys: 992 µs, total: 38.4 ms\n",
      "Wall time: 59.9 ms\n"
     ]
    },
    {
     "data": {
      "text/html": [
       "<div>\n",
       "<style scoped>\n",
       "    .dataframe tbody tr th:only-of-type {\n",
       "        vertical-align: middle;\n",
       "    }\n",
       "\n",
       "    .dataframe tbody tr th {\n",
       "        vertical-align: top;\n",
       "    }\n",
       "\n",
       "    .dataframe thead th {\n",
       "        text-align: right;\n",
       "    }\n",
       "</style>\n",
       "<table border=\"1\" class=\"dataframe\">\n",
       "  <thead>\n",
       "    <tr style=\"text-align: right;\">\n",
       "      <th></th>\n",
       "      <th>id</th>\n",
       "      <th>price</th>\n",
       "    </tr>\n",
       "  </thead>\n",
       "  <tbody>\n",
       "    <tr>\n",
       "      <th>0</th>\n",
       "      <td>188533</td>\n",
       "      <td>22150.105469</td>\n",
       "    </tr>\n",
       "    <tr>\n",
       "      <th>1</th>\n",
       "      <td>188534</td>\n",
       "      <td>85958.718750</td>\n",
       "    </tr>\n",
       "    <tr>\n",
       "      <th>2</th>\n",
       "      <td>188535</td>\n",
       "      <td>54882.042969</td>\n",
       "    </tr>\n",
       "    <tr>\n",
       "      <th>3</th>\n",
       "      <td>188536</td>\n",
       "      <td>35130.609375</td>\n",
       "    </tr>\n",
       "    <tr>\n",
       "      <th>4</th>\n",
       "      <td>188537</td>\n",
       "      <td>34602.304688</td>\n",
       "    </tr>\n",
       "  </tbody>\n",
       "</table>\n",
       "</div>"
      ],
      "text/plain": [
       "       id         price\n",
       "0  188533  22150.105469\n",
       "1  188534  85958.718750\n",
       "2  188535  54882.042969\n",
       "3  188536  35130.609375\n",
       "4  188537  34602.304688"
      ]
     },
     "execution_count": 17,
     "metadata": {},
     "output_type": "execute_result"
    }
   ],
   "source": [
    "%%time\n",
    "submission = pd.read_csv('../input/playground-series-s4e9/sample_submission.csv')\n",
    "submission['price'] = np.mean(test_preds, axis=0)\n",
    "submission.head()"
   ]
  },
  {
   "cell_type": "code",
   "execution_count": 18,
   "id": "5d934d33",
   "metadata": {
    "execution": {
     "iopub.execute_input": "2024-09-01T14:11:52.649146Z",
     "iopub.status.busy": "2024-09-01T14:11:52.648780Z",
     "iopub.status.idle": "2024-09-01T14:11:52.911788Z",
     "shell.execute_reply": "2024-09-01T14:11:52.910917Z"
    },
    "papermill": {
     "duration": 0.279025,
     "end_time": "2024-09-01T14:11:52.914036",
     "exception": false,
     "start_time": "2024-09-01T14:11:52.635011",
     "status": "completed"
    },
    "tags": []
   },
   "outputs": [
    {
     "name": "stdout",
     "output_type": "stream",
     "text": [
      "CPU times: user 3 µs, sys: 0 ns, total: 3 µs\n",
      "Wall time: 6.91 µs\n"
     ]
    }
   ],
   "source": [
    "%time\n",
    "submission.to_csv('baseline_sub_1.csv', index=False)"
   ]
  }
 ],
 "metadata": {
  "kaggle": {
   "accelerator": "gpu",
   "dataSources": [
    {
     "databundleVersionId": 9057646,
     "sourceId": 76728,
     "sourceType": "competition"
    }
   ],
   "dockerImageVersionId": 30761,
   "isGpuEnabled": true,
   "isInternetEnabled": true,
   "language": "python",
   "sourceType": "notebook"
  },
  "kernelspec": {
   "display_name": "Python 3",
   "language": "python",
   "name": "python3"
  },
  "language_info": {
   "codemirror_mode": {
    "name": "ipython",
    "version": 3
   },
   "file_extension": ".py",
   "mimetype": "text/x-python",
   "name": "python",
   "nbconvert_exporter": "python",
   "pygments_lexer": "ipython3",
   "version": "3.10.14"
  },
  "papermill": {
   "default_parameters": {},
   "duration": 788.354383,
   "end_time": "2024-09-01T14:11:55.544376",
   "environment_variables": {},
   "exception": null,
   "input_path": "__notebook__.ipynb",
   "output_path": "__notebook__.ipynb",
   "parameters": {},
   "start_time": "2024-09-01T13:58:47.189993",
   "version": "2.6.0"
  }
 },
 "nbformat": 4,
 "nbformat_minor": 5
}
