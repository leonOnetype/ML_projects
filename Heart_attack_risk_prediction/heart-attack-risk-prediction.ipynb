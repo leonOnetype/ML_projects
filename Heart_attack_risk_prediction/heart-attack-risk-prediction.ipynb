{
 "cells": [
  {
   "cell_type": "markdown",
   "id": "ac5ba58c",
   "metadata": {
    "papermill": {
     "duration": 0.028605,
     "end_time": "2024-08-31T14:09:52.869440",
     "exception": false,
     "start_time": "2024-08-31T14:09:52.840835",
     "status": "completed"
    },
    "tags": []
   },
   "source": [
    "# Part I (Familiarization with the Dataset)"
   ]
  },
  {
   "cell_type": "code",
   "execution_count": 1,
   "id": "7ea6d357",
   "metadata": {
    "execution": {
     "iopub.execute_input": "2024-08-31T14:09:52.926668Z",
     "iopub.status.busy": "2024-08-31T14:09:52.926066Z",
     "iopub.status.idle": "2024-08-31T14:09:55.749832Z",
     "shell.execute_reply": "2024-08-31T14:09:55.748361Z"
    },
    "papermill": {
     "duration": 2.856074,
     "end_time": "2024-08-31T14:09:55.753595",
     "exception": false,
     "start_time": "2024-08-31T14:09:52.897521",
     "status": "completed"
    },
    "tags": []
   },
   "outputs": [],
   "source": [
    "# Importing Libraries\n",
    "import pandas as pd\n",
    "import numpy as np\n",
    "import matplotlib.pyplot as plt\n",
    "import seaborn as sns\n",
    "import warnings"
   ]
  },
  {
   "cell_type": "code",
   "execution_count": 2,
   "id": "02dfe575",
   "metadata": {
    "execution": {
     "iopub.execute_input": "2024-08-31T14:09:55.812935Z",
     "iopub.status.busy": "2024-08-31T14:09:55.811156Z",
     "iopub.status.idle": "2024-08-31T14:09:55.819700Z",
     "shell.execute_reply": "2024-08-31T14:09:55.817806Z"
    },
    "papermill": {
     "duration": 0.04162,
     "end_time": "2024-08-31T14:09:55.822977",
     "exception": false,
     "start_time": "2024-08-31T14:09:55.781357",
     "status": "completed"
    },
    "tags": []
   },
   "outputs": [],
   "source": [
    "warnings.filterwarnings('ignore')"
   ]
  },
  {
   "cell_type": "markdown",
   "id": "d3a3dd9e",
   "metadata": {
    "papermill": {
     "duration": 0.026121,
     "end_time": "2024-08-31T14:09:55.879626",
     "exception": false,
     "start_time": "2024-08-31T14:09:55.853505",
     "status": "completed"
    },
    "tags": []
   },
   "source": [
    "#### Loading the Dataset"
   ]
  },
  {
   "cell_type": "code",
   "execution_count": 3,
   "id": "9acb92c8",
   "metadata": {
    "execution": {
     "iopub.execute_input": "2024-08-31T14:09:55.936166Z",
     "iopub.status.busy": "2024-08-31T14:09:55.935531Z",
     "iopub.status.idle": "2024-08-31T14:09:55.987916Z",
     "shell.execute_reply": "2024-08-31T14:09:55.986496Z"
    },
    "papermill": {
     "duration": 0.083767,
     "end_time": "2024-08-31T14:09:55.990762",
     "exception": false,
     "start_time": "2024-08-31T14:09:55.906995",
     "status": "completed"
    },
    "tags": []
   },
   "outputs": [
    {
     "data": {
      "text/html": [
       "<div>\n",
       "<style scoped>\n",
       "    .dataframe tbody tr th:only-of-type {\n",
       "        vertical-align: middle;\n",
       "    }\n",
       "\n",
       "    .dataframe tbody tr th {\n",
       "        vertical-align: top;\n",
       "    }\n",
       "\n",
       "    .dataframe thead th {\n",
       "        text-align: right;\n",
       "    }\n",
       "</style>\n",
       "<table border=\"1\" class=\"dataframe\">\n",
       "  <thead>\n",
       "    <tr style=\"text-align: right;\">\n",
       "      <th></th>\n",
       "      <th>age</th>\n",
       "      <th>sex</th>\n",
       "      <th>cp</th>\n",
       "      <th>trtbps</th>\n",
       "      <th>chol</th>\n",
       "      <th>fbs</th>\n",
       "      <th>restecg</th>\n",
       "      <th>thalachh</th>\n",
       "      <th>exng</th>\n",
       "      <th>oldpeak</th>\n",
       "      <th>slp</th>\n",
       "      <th>caa</th>\n",
       "      <th>thall</th>\n",
       "      <th>output</th>\n",
       "    </tr>\n",
       "  </thead>\n",
       "  <tbody>\n",
       "    <tr>\n",
       "      <th>0</th>\n",
       "      <td>63</td>\n",
       "      <td>1</td>\n",
       "      <td>3</td>\n",
       "      <td>145</td>\n",
       "      <td>233</td>\n",
       "      <td>1</td>\n",
       "      <td>0</td>\n",
       "      <td>150</td>\n",
       "      <td>0</td>\n",
       "      <td>2.3</td>\n",
       "      <td>0</td>\n",
       "      <td>0</td>\n",
       "      <td>1</td>\n",
       "      <td>1</td>\n",
       "    </tr>\n",
       "    <tr>\n",
       "      <th>1</th>\n",
       "      <td>37</td>\n",
       "      <td>1</td>\n",
       "      <td>2</td>\n",
       "      <td>130</td>\n",
       "      <td>250</td>\n",
       "      <td>0</td>\n",
       "      <td>1</td>\n",
       "      <td>187</td>\n",
       "      <td>0</td>\n",
       "      <td>3.5</td>\n",
       "      <td>0</td>\n",
       "      <td>0</td>\n",
       "      <td>2</td>\n",
       "      <td>1</td>\n",
       "    </tr>\n",
       "    <tr>\n",
       "      <th>2</th>\n",
       "      <td>41</td>\n",
       "      <td>0</td>\n",
       "      <td>1</td>\n",
       "      <td>130</td>\n",
       "      <td>204</td>\n",
       "      <td>0</td>\n",
       "      <td>0</td>\n",
       "      <td>172</td>\n",
       "      <td>0</td>\n",
       "      <td>1.4</td>\n",
       "      <td>2</td>\n",
       "      <td>0</td>\n",
       "      <td>2</td>\n",
       "      <td>1</td>\n",
       "    </tr>\n",
       "    <tr>\n",
       "      <th>3</th>\n",
       "      <td>56</td>\n",
       "      <td>1</td>\n",
       "      <td>1</td>\n",
       "      <td>120</td>\n",
       "      <td>236</td>\n",
       "      <td>0</td>\n",
       "      <td>1</td>\n",
       "      <td>178</td>\n",
       "      <td>0</td>\n",
       "      <td>0.8</td>\n",
       "      <td>2</td>\n",
       "      <td>0</td>\n",
       "      <td>2</td>\n",
       "      <td>1</td>\n",
       "    </tr>\n",
       "    <tr>\n",
       "      <th>4</th>\n",
       "      <td>57</td>\n",
       "      <td>0</td>\n",
       "      <td>0</td>\n",
       "      <td>120</td>\n",
       "      <td>354</td>\n",
       "      <td>0</td>\n",
       "      <td>1</td>\n",
       "      <td>163</td>\n",
       "      <td>1</td>\n",
       "      <td>0.6</td>\n",
       "      <td>2</td>\n",
       "      <td>0</td>\n",
       "      <td>2</td>\n",
       "      <td>1</td>\n",
       "    </tr>\n",
       "  </tbody>\n",
       "</table>\n",
       "</div>"
      ],
      "text/plain": [
       "   age  sex  cp  trtbps  chol  fbs  restecg  thalachh  exng  oldpeak  slp  \\\n",
       "0   63    1   3     145   233    1        0       150     0      2.3    0   \n",
       "1   37    1   2     130   250    0        1       187     0      3.5    0   \n",
       "2   41    0   1     130   204    0        0       172     0      1.4    2   \n",
       "3   56    1   1     120   236    0        1       178     0      0.8    2   \n",
       "4   57    0   0     120   354    0        1       163     1      0.6    2   \n",
       "\n",
       "   caa  thall  output  \n",
       "0    0      1       1  \n",
       "1    0      2       1  \n",
       "2    0      2       1  \n",
       "3    0      2       1  \n",
       "4    0      2       1  "
      ]
     },
     "execution_count": 3,
     "metadata": {},
     "output_type": "execute_result"
    }
   ],
   "source": [
    "df_cardiaque = pd.read_csv(\"datas/heart.csv\", sep=',')\n",
    "df_cardiaque.head()"
   ]
  },
  {
   "cell_type": "code",
   "execution_count": 4,
   "id": "c68e9fa7",
   "metadata": {
    "execution": {
     "iopub.execute_input": "2024-08-31T14:09:56.051003Z",
     "iopub.status.busy": "2024-08-31T14:09:56.049815Z",
     "iopub.status.idle": "2024-08-31T14:09:56.056707Z",
     "shell.execute_reply": "2024-08-31T14:09:56.055359Z"
    },
    "papermill": {
     "duration": 0.039967,
     "end_time": "2024-08-31T14:09:56.059895",
     "exception": false,
     "start_time": "2024-08-31T14:09:56.019928",
     "status": "completed"
    },
    "tags": []
   },
   "outputs": [
    {
     "name": "stdout",
     "output_type": "stream",
     "text": [
      "The dataset contains : 303 rows and 14 columns.\n"
     ]
    }
   ],
   "source": [
    "print(f\"The dataset contains : {df_cardiaque.shape[0]} rows and {df_cardiaque.shape[1]} columns.\")"
   ]
  },
  {
   "cell_type": "code",
   "execution_count": 5,
   "id": "f68d3b47",
   "metadata": {
    "execution": {
     "iopub.execute_input": "2024-08-31T14:09:56.120039Z",
     "iopub.status.busy": "2024-08-31T14:09:56.119545Z",
     "iopub.status.idle": "2024-08-31T14:09:56.135376Z",
     "shell.execute_reply": "2024-08-31T14:09:56.133689Z"
    },
    "papermill": {
     "duration": 0.051373,
     "end_time": "2024-08-31T14:09:56.138782",
     "exception": false,
     "start_time": "2024-08-31T14:09:56.087409",
     "status": "completed"
    },
    "tags": []
   },
   "outputs": [
    {
     "name": "stdout",
     "output_type": "stream",
     "text": [
      "The number of missing values per column:\n"
     ]
    },
    {
     "data": {
      "text/plain": [
       "age         0\n",
       "sex         0\n",
       "cp          0\n",
       "trtbps      0\n",
       "chol        0\n",
       "fbs         0\n",
       "restecg     0\n",
       "thalachh    0\n",
       "exng        0\n",
       "oldpeak     0\n",
       "slp         0\n",
       "caa         0\n",
       "thall       0\n",
       "output      0\n",
       "dtype: int64"
      ]
     },
     "execution_count": 5,
     "metadata": {},
     "output_type": "execute_result"
    }
   ],
   "source": [
    "print(\"The number of missing values per column:\")\n",
    "df_cardiaque.isna().sum()"
   ]
  },
  {
   "cell_type": "markdown",
   "id": "f2b3f7dd",
   "metadata": {
    "execution": {
     "iopub.execute_input": "2024-08-30T12:58:58.699319Z",
     "iopub.status.busy": "2024-08-30T12:58:58.698786Z",
     "iopub.status.idle": "2024-08-30T12:58:58.707808Z",
     "shell.execute_reply": "2024-08-30T12:58:58.706085Z",
     "shell.execute_reply.started": "2024-08-30T12:58:58.699269Z"
    },
    "papermill": {
     "duration": 0.027126,
     "end_time": "2024-08-31T14:09:56.194641",
     "exception": false,
     "start_time": "2024-08-31T14:09:56.167515",
     "status": "completed"
    },
    "tags": []
   },
   "source": [
    "Great! We have no missing values in any of the columns."
   ]
  },
  {
   "cell_type": "code",
   "execution_count": 6,
   "id": "9375a1ac",
   "metadata": {
    "execution": {
     "iopub.execute_input": "2024-08-31T14:09:56.252351Z",
     "iopub.status.busy": "2024-08-31T14:09:56.251891Z",
     "iopub.status.idle": "2024-08-31T14:09:56.266972Z",
     "shell.execute_reply": "2024-08-31T14:09:56.265086Z"
    },
    "papermill": {
     "duration": 0.047862,
     "end_time": "2024-08-31T14:09:56.270130",
     "exception": false,
     "start_time": "2024-08-31T14:09:56.222268",
     "status": "completed"
    },
    "tags": []
   },
   "outputs": [
    {
     "name": "stdout",
     "output_type": "stream",
     "text": [
      "Number of duplicate rows:: 1\n"
     ]
    }
   ],
   "source": [
    "print(f\"Number of duplicate rows:: {df_cardiaque.duplicated().sum()}\")"
   ]
  },
  {
   "cell_type": "code",
   "execution_count": 7,
   "id": "f7069ab5",
   "metadata": {
    "execution": {
     "iopub.execute_input": "2024-08-31T14:09:56.327361Z",
     "iopub.status.busy": "2024-08-31T14:09:56.326932Z",
     "iopub.status.idle": "2024-08-31T14:09:56.342330Z",
     "shell.execute_reply": "2024-08-31T14:09:56.341021Z"
    },
    "papermill": {
     "duration": 0.048462,
     "end_time": "2024-08-31T14:09:56.346014",
     "exception": false,
     "start_time": "2024-08-31T14:09:56.297552",
     "status": "completed"
    },
    "tags": []
   },
   "outputs": [],
   "source": [
    "df_cardiaque.drop_duplicates(inplace=True)"
   ]
  },
  {
   "cell_type": "code",
   "execution_count": 8,
   "id": "73b72e5e",
   "metadata": {
    "execution": {
     "iopub.execute_input": "2024-08-31T14:09:56.407518Z",
     "iopub.status.busy": "2024-08-31T14:09:56.407011Z",
     "iopub.status.idle": "2024-08-31T14:09:56.432359Z",
     "shell.execute_reply": "2024-08-31T14:09:56.430852Z"
    },
    "papermill": {
     "duration": 0.059906,
     "end_time": "2024-08-31T14:09:56.435423",
     "exception": false,
     "start_time": "2024-08-31T14:09:56.375517",
     "status": "completed"
    },
    "tags": []
   },
   "outputs": [
    {
     "name": "stdout",
     "output_type": "stream",
     "text": [
      "<class 'pandas.core.frame.DataFrame'>\n",
      "Index: 302 entries, 0 to 302\n",
      "Data columns (total 14 columns):\n",
      " #   Column    Non-Null Count  Dtype  \n",
      "---  ------    --------------  -----  \n",
      " 0   age       302 non-null    int64  \n",
      " 1   sex       302 non-null    int64  \n",
      " 2   cp        302 non-null    int64  \n",
      " 3   trtbps    302 non-null    int64  \n",
      " 4   chol      302 non-null    int64  \n",
      " 5   fbs       302 non-null    int64  \n",
      " 6   restecg   302 non-null    int64  \n",
      " 7   thalachh  302 non-null    int64  \n",
      " 8   exng      302 non-null    int64  \n",
      " 9   oldpeak   302 non-null    float64\n",
      " 10  slp       302 non-null    int64  \n",
      " 11  caa       302 non-null    int64  \n",
      " 12  thall     302 non-null    int64  \n",
      " 13  output    302 non-null    int64  \n",
      "dtypes: float64(1), int64(13)\n",
      "memory usage: 35.4 KB\n"
     ]
    }
   ],
   "source": [
    "df_cardiaque.info()"
   ]
  },
  {
   "cell_type": "code",
   "execution_count": 9,
   "id": "03b893d1",
   "metadata": {
    "execution": {
     "iopub.execute_input": "2024-08-31T14:09:56.497969Z",
     "iopub.status.busy": "2024-08-31T14:09:56.497466Z",
     "iopub.status.idle": "2024-08-31T14:09:56.562991Z",
     "shell.execute_reply": "2024-08-31T14:09:56.561463Z"
    },
    "papermill": {
     "duration": 0.099955,
     "end_time": "2024-08-31T14:09:56.566070",
     "exception": false,
     "start_time": "2024-08-31T14:09:56.466115",
     "status": "completed"
    },
    "tags": []
   },
   "outputs": [
    {
     "data": {
      "text/html": [
       "<div>\n",
       "<style scoped>\n",
       "    .dataframe tbody tr th:only-of-type {\n",
       "        vertical-align: middle;\n",
       "    }\n",
       "\n",
       "    .dataframe tbody tr th {\n",
       "        vertical-align: top;\n",
       "    }\n",
       "\n",
       "    .dataframe thead th {\n",
       "        text-align: right;\n",
       "    }\n",
       "</style>\n",
       "<table border=\"1\" class=\"dataframe\">\n",
       "  <thead>\n",
       "    <tr style=\"text-align: right;\">\n",
       "      <th></th>\n",
       "      <th>age</th>\n",
       "      <th>sex</th>\n",
       "      <th>cp</th>\n",
       "      <th>trtbps</th>\n",
       "      <th>chol</th>\n",
       "      <th>fbs</th>\n",
       "      <th>restecg</th>\n",
       "      <th>thalachh</th>\n",
       "      <th>exng</th>\n",
       "      <th>oldpeak</th>\n",
       "      <th>slp</th>\n",
       "      <th>caa</th>\n",
       "      <th>thall</th>\n",
       "      <th>output</th>\n",
       "    </tr>\n",
       "  </thead>\n",
       "  <tbody>\n",
       "    <tr>\n",
       "      <th>count</th>\n",
       "      <td>302.00000</td>\n",
       "      <td>302.000000</td>\n",
       "      <td>302.000000</td>\n",
       "      <td>302.000000</td>\n",
       "      <td>302.000000</td>\n",
       "      <td>302.000000</td>\n",
       "      <td>302.000000</td>\n",
       "      <td>302.000000</td>\n",
       "      <td>302.000000</td>\n",
       "      <td>302.000000</td>\n",
       "      <td>302.000000</td>\n",
       "      <td>302.000000</td>\n",
       "      <td>302.000000</td>\n",
       "      <td>302.000000</td>\n",
       "    </tr>\n",
       "    <tr>\n",
       "      <th>mean</th>\n",
       "      <td>54.42053</td>\n",
       "      <td>0.682119</td>\n",
       "      <td>0.963576</td>\n",
       "      <td>131.602649</td>\n",
       "      <td>246.500000</td>\n",
       "      <td>0.149007</td>\n",
       "      <td>0.526490</td>\n",
       "      <td>149.569536</td>\n",
       "      <td>0.327815</td>\n",
       "      <td>1.043046</td>\n",
       "      <td>1.397351</td>\n",
       "      <td>0.718543</td>\n",
       "      <td>2.314570</td>\n",
       "      <td>0.543046</td>\n",
       "    </tr>\n",
       "    <tr>\n",
       "      <th>std</th>\n",
       "      <td>9.04797</td>\n",
       "      <td>0.466426</td>\n",
       "      <td>1.032044</td>\n",
       "      <td>17.563394</td>\n",
       "      <td>51.753489</td>\n",
       "      <td>0.356686</td>\n",
       "      <td>0.526027</td>\n",
       "      <td>22.903527</td>\n",
       "      <td>0.470196</td>\n",
       "      <td>1.161452</td>\n",
       "      <td>0.616274</td>\n",
       "      <td>1.006748</td>\n",
       "      <td>0.613026</td>\n",
       "      <td>0.498970</td>\n",
       "    </tr>\n",
       "    <tr>\n",
       "      <th>min</th>\n",
       "      <td>29.00000</td>\n",
       "      <td>0.000000</td>\n",
       "      <td>0.000000</td>\n",
       "      <td>94.000000</td>\n",
       "      <td>126.000000</td>\n",
       "      <td>0.000000</td>\n",
       "      <td>0.000000</td>\n",
       "      <td>71.000000</td>\n",
       "      <td>0.000000</td>\n",
       "      <td>0.000000</td>\n",
       "      <td>0.000000</td>\n",
       "      <td>0.000000</td>\n",
       "      <td>0.000000</td>\n",
       "      <td>0.000000</td>\n",
       "    </tr>\n",
       "    <tr>\n",
       "      <th>25%</th>\n",
       "      <td>48.00000</td>\n",
       "      <td>0.000000</td>\n",
       "      <td>0.000000</td>\n",
       "      <td>120.000000</td>\n",
       "      <td>211.000000</td>\n",
       "      <td>0.000000</td>\n",
       "      <td>0.000000</td>\n",
       "      <td>133.250000</td>\n",
       "      <td>0.000000</td>\n",
       "      <td>0.000000</td>\n",
       "      <td>1.000000</td>\n",
       "      <td>0.000000</td>\n",
       "      <td>2.000000</td>\n",
       "      <td>0.000000</td>\n",
       "    </tr>\n",
       "    <tr>\n",
       "      <th>50%</th>\n",
       "      <td>55.50000</td>\n",
       "      <td>1.000000</td>\n",
       "      <td>1.000000</td>\n",
       "      <td>130.000000</td>\n",
       "      <td>240.500000</td>\n",
       "      <td>0.000000</td>\n",
       "      <td>1.000000</td>\n",
       "      <td>152.500000</td>\n",
       "      <td>0.000000</td>\n",
       "      <td>0.800000</td>\n",
       "      <td>1.000000</td>\n",
       "      <td>0.000000</td>\n",
       "      <td>2.000000</td>\n",
       "      <td>1.000000</td>\n",
       "    </tr>\n",
       "    <tr>\n",
       "      <th>75%</th>\n",
       "      <td>61.00000</td>\n",
       "      <td>1.000000</td>\n",
       "      <td>2.000000</td>\n",
       "      <td>140.000000</td>\n",
       "      <td>274.750000</td>\n",
       "      <td>0.000000</td>\n",
       "      <td>1.000000</td>\n",
       "      <td>166.000000</td>\n",
       "      <td>1.000000</td>\n",
       "      <td>1.600000</td>\n",
       "      <td>2.000000</td>\n",
       "      <td>1.000000</td>\n",
       "      <td>3.000000</td>\n",
       "      <td>1.000000</td>\n",
       "    </tr>\n",
       "    <tr>\n",
       "      <th>max</th>\n",
       "      <td>77.00000</td>\n",
       "      <td>1.000000</td>\n",
       "      <td>3.000000</td>\n",
       "      <td>200.000000</td>\n",
       "      <td>564.000000</td>\n",
       "      <td>1.000000</td>\n",
       "      <td>2.000000</td>\n",
       "      <td>202.000000</td>\n",
       "      <td>1.000000</td>\n",
       "      <td>6.200000</td>\n",
       "      <td>2.000000</td>\n",
       "      <td>4.000000</td>\n",
       "      <td>3.000000</td>\n",
       "      <td>1.000000</td>\n",
       "    </tr>\n",
       "  </tbody>\n",
       "</table>\n",
       "</div>"
      ],
      "text/plain": [
       "             age         sex          cp      trtbps        chol         fbs  \\\n",
       "count  302.00000  302.000000  302.000000  302.000000  302.000000  302.000000   \n",
       "mean    54.42053    0.682119    0.963576  131.602649  246.500000    0.149007   \n",
       "std      9.04797    0.466426    1.032044   17.563394   51.753489    0.356686   \n",
       "min     29.00000    0.000000    0.000000   94.000000  126.000000    0.000000   \n",
       "25%     48.00000    0.000000    0.000000  120.000000  211.000000    0.000000   \n",
       "50%     55.50000    1.000000    1.000000  130.000000  240.500000    0.000000   \n",
       "75%     61.00000    1.000000    2.000000  140.000000  274.750000    0.000000   \n",
       "max     77.00000    1.000000    3.000000  200.000000  564.000000    1.000000   \n",
       "\n",
       "          restecg    thalachh        exng     oldpeak         slp         caa  \\\n",
       "count  302.000000  302.000000  302.000000  302.000000  302.000000  302.000000   \n",
       "mean     0.526490  149.569536    0.327815    1.043046    1.397351    0.718543   \n",
       "std      0.526027   22.903527    0.470196    1.161452    0.616274    1.006748   \n",
       "min      0.000000   71.000000    0.000000    0.000000    0.000000    0.000000   \n",
       "25%      0.000000  133.250000    0.000000    0.000000    1.000000    0.000000   \n",
       "50%      1.000000  152.500000    0.000000    0.800000    1.000000    0.000000   \n",
       "75%      1.000000  166.000000    1.000000    1.600000    2.000000    1.000000   \n",
       "max      2.000000  202.000000    1.000000    6.200000    2.000000    4.000000   \n",
       "\n",
       "            thall      output  \n",
       "count  302.000000  302.000000  \n",
       "mean     2.314570    0.543046  \n",
       "std      0.613026    0.498970  \n",
       "min      0.000000    0.000000  \n",
       "25%      2.000000    0.000000  \n",
       "50%      2.000000    1.000000  \n",
       "75%      3.000000    1.000000  \n",
       "max      3.000000    1.000000  "
      ]
     },
     "execution_count": 9,
     "metadata": {},
     "output_type": "execute_result"
    }
   ],
   "source": [
    "# Some statistical informations about the variables:\n",
    "df_cardiaque.describe()"
   ]
  },
  {
   "cell_type": "markdown",
   "id": "a538f03c",
   "metadata": {
    "papermill": {
     "duration": 0.028315,
     "end_time": "2024-08-31T14:09:56.624145",
     "exception": false,
     "start_time": "2024-08-31T14:09:56.595830",
     "status": "completed"
    },
    "tags": []
   },
   "source": [
    "<font color=green>**Interpretations:** </font>\n",
    "- For the feature age, the range of values is the interval [29, 77]. With a std of 9.04 and a mean of 54.42053, we can conclude that the values taken for this feature are not too dispersed relative to the mean, and it does not contain outliers.\n",
    "- For the feature chol, the range of values is the interval [126, 564]. With a std of 51.75 (somewhat high) and a mean of 246.5, it is likely that there are outliers.\n",
    "- .....\n",
    "- Several variables are categorical(**sex**, **cp**, **fbs**, **restecg**, **exng**, **slp**, **caa**, **thall**). The little challenge will be to determine which are ordinal and which are nominal.\n"
   ]
  },
  {
   "cell_type": "markdown",
   "id": "f1a1c581",
   "metadata": {
    "papermill": {
     "duration": 0.029268,
     "end_time": "2024-08-31T14:09:56.682096",
     "exception": false,
     "start_time": "2024-08-31T14:09:56.652828",
     "status": "completed"
    },
    "tags": []
   },
   "source": [
    "### 2- Data Exploration"
   ]
  },
  {
   "cell_type": "markdown",
   "id": "56e9604b",
   "metadata": {
    "papermill": {
     "duration": 0.03027,
     "end_time": "2024-08-31T14:09:56.741492",
     "exception": false,
     "start_time": "2024-08-31T14:09:56.711222",
     "status": "completed"
    },
    "tags": []
   },
   "source": [
    "### 2.1- Univariate Exploration"
   ]
  },
  {
   "cell_type": "markdown",
   "id": "b0c04c92",
   "metadata": {
    "papermill": {
     "duration": 0.027451,
     "end_time": "2024-08-31T14:09:56.797083",
     "exception": false,
     "start_time": "2024-08-31T14:09:56.769632",
     "status": "completed"
    },
    "tags": []
   },
   "source": [
    "#### The distribution of our target"
   ]
  },
  {
   "cell_type": "code",
   "execution_count": 10,
   "id": "074627c5",
   "metadata": {
    "execution": {
     "iopub.execute_input": "2024-08-31T14:09:56.858191Z",
     "iopub.status.busy": "2024-08-31T14:09:56.857745Z",
     "iopub.status.idle": "2024-08-31T14:09:56.869727Z",
     "shell.execute_reply": "2024-08-31T14:09:56.868225Z"
    },
    "papermill": {
     "duration": 0.047339,
     "end_time": "2024-08-31T14:09:56.872400",
     "exception": false,
     "start_time": "2024-08-31T14:09:56.825061",
     "status": "completed"
    },
    "tags": []
   },
   "outputs": [
    {
     "data": {
      "text/plain": [
       "output\n",
       "1    164\n",
       "0    138\n",
       "Name: count, dtype: int64"
      ]
     },
     "execution_count": 10,
     "metadata": {},
     "output_type": "execute_result"
    }
   ],
   "source": [
    "df_cardiaque['output'].value_counts()"
   ]
  },
  {
   "cell_type": "code",
   "execution_count": 11,
   "id": "d290b118",
   "metadata": {
    "execution": {
     "iopub.execute_input": "2024-08-31T14:09:56.991160Z",
     "iopub.status.busy": "2024-08-31T14:09:56.990698Z",
     "iopub.status.idle": "2024-08-31T14:09:57.508719Z",
     "shell.execute_reply": "2024-08-31T14:09:57.507411Z"
    },
    "papermill": {
     "duration": 0.611486,
     "end_time": "2024-08-31T14:09:57.511925",
     "exception": false,
     "start_time": "2024-08-31T14:09:56.900439",
     "status": "completed"
    },
    "tags": []
   },
   "outputs": [
    {
     "data": {
      "image/png": "[encoded data removed]",
      "text/plain": [
       "<Figure size 1200x400 with 2 Axes>"
      ]
     },
     "metadata": {},
     "output_type": "display_data"
    }
   ],
   "source": [
    "plt.figure(figsize=(12, 4))\n",
    "\n",
    "plt.subplot(1, 2, 1)\n",
    "sns.countplot(data=df_cardiaque, x='output', order=df_cardiaque['output'].value_counts().index, hue='output')\n",
    "plt.title('Distribution of classes in the target feature.')\n",
    "\n",
    "\n",
    "plt.subplot(1, 2, 2)\n",
    "data = df_cardiaque['output'].value_counts()\n",
    "plt.pie(data, explode=((0, 0.05)), labels=data.index , startangle=90, autopct='%1.01f%%');\n"
   ]
  },
  {
   "cell_type": "markdown",
   "id": "ded2015b",
   "metadata": {
    "papermill": {
     "duration": 0.028685,
     "end_time": "2024-08-31T14:09:57.571537",
     "exception": false,
     "start_time": "2024-08-31T14:09:57.542852",
     "status": "completed"
    },
    "tags": []
   },
   "source": [
    "<font color=green> ***Interpretation <font/>:***\n",
    "\n",
    "The classes are relatively close in size, which is a good sign of balance. Class 2 is slightly more represented, but the difference is not significant. We can be confident that during training, the model will not favor one class over the other."
   ]
  },
  {
   "cell_type": "markdown",
   "id": "a359053f",
   "metadata": {
    "papermill": {
     "duration": 0.029396,
     "end_time": "2024-08-31T14:09:57.629905",
     "exception": false,
     "start_time": "2024-08-31T14:09:57.600509",
     "status": "completed"
    },
    "tags": []
   },
   "source": [
    "#### Distribution of numerical variables"
   ]
  },
  {
   "cell_type": "code",
   "execution_count": 12,
   "id": "7e9ebbab",
   "metadata": {
    "execution": {
     "iopub.execute_input": "2024-08-31T14:09:57.690750Z",
     "iopub.status.busy": "2024-08-31T14:09:57.690200Z",
     "iopub.status.idle": "2024-08-31T14:10:00.508110Z",
     "shell.execute_reply": "2024-08-31T14:10:00.505749Z"
    },
    "papermill": {
     "duration": 2.853949,
     "end_time": "2024-08-31T14:10:00.512970",
     "exception": false,
     "start_time": "2024-08-31T14:09:57.659021",
     "status": "completed"
    },
    "scrolled": true,
    "tags": []
   },
   "outputs": [
    {
     "data": {
      "text/plain": [
       "<Figure size 1000x800 with 0 Axes>"
      ]
     },
     "metadata": {},
     "output_type": "display_data"
    },
    {
     "data": {
      "image/png": "[encoded data removed]",
      "text/plain": [
       "<Figure size 500x500 with 1 Axes>"
      ]
     },
     "metadata": {},
     "output_type": "display_data"
    },
    {
     "data": {
      "image/png": "[encoded data removed]",
      "text/plain": [
       "<Figure size 500x500 with 1 Axes>"
      ]
     },
     "metadata": {},
     "output_type": "display_data"
    },
    {
     "data": {
      "image/png": "[encoded data removed]",
      "text/plain": [
       "<Figure size 500x500 with 1 Axes>"
      ]
     },
     "metadata": {},
     "output_type": "display_data"
    },
    {
     "data": {
      "image/png": "[encoded data removed]",
      "text/plain": [
       "<Figure size 500x500 with 1 Axes>"
      ]
     },
     "metadata": {},
     "output_type": "display_data"
    },
    {
     "data": {
      "image/png": "[encoded data removed]",
      "text/plain": [
       "<Figure size 500x500 with 1 Axes>"
      ]
     },
     "metadata": {},
     "output_type": "display_data"
    }
   ],
   "source": [
    "numerical_cols = [\"age\", \"trtbps\", \"chol\", \"thalachh\", \"oldpeak\"]\n",
    "plt.figure(figsize=(10, 8))\n",
    "\n",
    "for i in range(0, len(numerical_cols)):\n",
    "    sns.displot(data=df_cardiaque[numerical_cols[i]], kind='kde')\n",
    "    plt.title(f\"Distribution of the feature {numerical_cols[i]}\")\n"
   ]
  },
  {
   "cell_type": "markdown",
   "id": "14cd798a",
   "metadata": {
    "papermill": {
     "duration": 0.036827,
     "end_time": "2024-08-31T14:10:00.587337",
     "exception": false,
     "start_time": "2024-08-31T14:10:00.550510",
     "status": "completed"
    },
    "tags": []
   },
   "source": [
    "<font color=green> ***Interpretation:*** </font> \n",
    "- Except for the feature oldpeak, all other features have symmetric distributions. This already gives us an idea of the normalization technique to use on these variables (either StandardScaler or RobustScaler)."
   ]
  },
  {
   "cell_type": "markdown",
   "id": "126f644f",
   "metadata": {
    "papermill": {
     "duration": 0.035867,
     "end_time": "2024-08-31T14:10:00.661469",
     "exception": false,
     "start_time": "2024-08-31T14:10:00.625602",
     "status": "completed"
    },
    "tags": []
   },
   "source": [
    "### 3- Data preprocessing"
   ]
  },
  {
   "cell_type": "markdown",
   "id": "d0dbb774",
   "metadata": {
    "papermill": {
     "duration": 0.039095,
     "end_time": "2024-08-31T14:10:00.736221",
     "exception": false,
     "start_time": "2024-08-31T14:10:00.697126",
     "status": "completed"
    },
    "tags": []
   },
   "source": [
    "#### 3.1- Outlier handling"
   ]
  },
  {
   "cell_type": "code",
   "execution_count": 13,
   "id": "fe4dd377",
   "metadata": {
    "execution": {
     "iopub.execute_input": "2024-08-31T14:10:00.821948Z",
     "iopub.status.busy": "2024-08-31T14:10:00.821431Z",
     "iopub.status.idle": "2024-08-31T14:10:02.072729Z",
     "shell.execute_reply": "2024-08-31T14:10:02.071063Z"
    },
    "papermill": {
     "duration": 1.299788,
     "end_time": "2024-08-31T14:10:02.076051",
     "exception": false,
     "start_time": "2024-08-31T14:10:00.776263",
     "status": "completed"
    },
    "tags": []
   },
   "outputs": [
    {
     "data": {
      "image/png": "[encoded data removed]",
      "text/plain": [
       "<Figure size 1200x800 with 5 Axes>"
      ]
     },
     "metadata": {},
     "output_type": "display_data"
    }
   ],
   "source": [
    "fig = plt.figure(figsize=(12,8))\n",
    "\n",
    "num_rows = 2\n",
    "num_cols = 3\n",
    "\n",
    "for i in range(len(numerical_cols)):\n",
    "    \n",
    "    fig.add_subplot(num_rows, num_cols, i+1)\n",
    "    ax = sns.boxplot(data=df_cardiaque, y=numerical_cols[i-1])\n",
    "    ax.set_xlim()\n",
    "    plt.xlabel(numerical_cols[i-1])"
   ]
  },
  {
   "cell_type": "markdown",
   "id": "56286014",
   "metadata": {
    "papermill": {
     "duration": 0.04226,
     "end_time": "2024-08-31T14:10:02.160467",
     "exception": false,
     "start_time": "2024-08-31T14:10:02.118207",
     "status": "completed"
    },
    "tags": []
   },
   "source": [
    "<font color=green> ***Interpretations:*** </font>\n",
    "- We observe the presence of outliers in these box plots.\n",
    "- Although it is normal to have outliers in any distribution, we need to analyze them to determine whether they are errors or not in the dataset."
   ]
  },
  {
   "cell_type": "markdown",
   "id": "bdcbf13b",
   "metadata": {
    "papermill": {
     "duration": 0.041849,
     "end_time": "2024-08-31T14:10:02.241086",
     "exception": false,
     "start_time": "2024-08-31T14:10:02.199237",
     "status": "completed"
    },
    "tags": []
   },
   "source": [
    "### Let's identify whether these outliers are errors or actual values.\n",
    "\n",
    "For each feature, we will identify and extract from the dataset the observations where the value of that feature is considered an outlier. We will use the z-score, which calculates the distance of a point from the mean. If the z-score of a point is less than -3 or greater than 3, it is considered an outlier."
   ]
  },
  {
   "cell_type": "code",
   "execution_count": 14,
   "id": "15111019",
   "metadata": {
    "execution": {
     "iopub.execute_input": "2024-08-31T14:10:02.332303Z",
     "iopub.status.busy": "2024-08-31T14:10:02.331784Z",
     "iopub.status.idle": "2024-08-31T14:10:02.343855Z",
     "shell.execute_reply": "2024-08-31T14:10:02.341784Z"
    },
    "papermill": {
     "duration": 0.060896,
     "end_time": "2024-08-31T14:10:02.350061",
     "exception": false,
     "start_time": "2024-08-31T14:10:02.289165",
     "status": "completed"
    },
    "tags": []
   },
   "outputs": [
    {
     "data": {
      "text/plain": [
       "['age', 'trtbps', 'chol', 'thalachh', 'oldpeak']"
      ]
     },
     "execution_count": 14,
     "metadata": {},
     "output_type": "execute_result"
    }
   ],
   "source": [
    "numerical_cols"
   ]
  },
  {
   "cell_type": "code",
   "execution_count": 15,
   "id": "50bf87b8",
   "metadata": {
    "execution": {
     "iopub.execute_input": "2024-08-31T14:10:02.441064Z",
     "iopub.status.busy": "2024-08-31T14:10:02.438881Z",
     "iopub.status.idle": "2024-08-31T14:10:02.453829Z",
     "shell.execute_reply": "2024-08-31T14:10:02.451987Z"
    },
    "papermill": {
     "duration": 0.068983,
     "end_time": "2024-08-31T14:10:02.457334",
     "exception": false,
     "start_time": "2024-08-31T14:10:02.388351",
     "status": "completed"
    },
    "tags": []
   },
   "outputs": [],
   "source": [
    "from scipy.stats import zscore"
   ]
  },
  {
   "cell_type": "markdown",
   "id": "e9a57ac3",
   "metadata": {
    "papermill": {
     "duration": 0.046783,
     "end_time": "2024-08-31T14:10:02.550986",
     "exception": false,
     "start_time": "2024-08-31T14:10:02.504203",
     "status": "completed"
    },
    "tags": []
   },
   "source": [
    "##### For the feature **oldpeak**:"
   ]
  },
  {
   "cell_type": "code",
   "execution_count": 16,
   "id": "588f55ff",
   "metadata": {
    "execution": {
     "iopub.execute_input": "2024-08-31T14:10:02.648613Z",
     "iopub.status.busy": "2024-08-31T14:10:02.647931Z",
     "iopub.status.idle": "2024-08-31T14:10:02.681001Z",
     "shell.execute_reply": "2024-08-31T14:10:02.678162Z"
    },
    "papermill": {
     "duration": 0.089784,
     "end_time": "2024-08-31T14:10:02.686139",
     "exception": false,
     "start_time": "2024-08-31T14:10:02.596355",
     "status": "completed"
    },
    "tags": []
   },
   "outputs": [
    {
     "data": {
      "text/html": [
       "<div>\n",
       "<style scoped>\n",
       "    .dataframe tbody tr th:only-of-type {\n",
       "        vertical-align: middle;\n",
       "    }\n",
       "\n",
       "    .dataframe tbody tr th {\n",
       "        vertical-align: top;\n",
       "    }\n",
       "\n",
       "    .dataframe thead th {\n",
       "        text-align: right;\n",
       "    }\n",
       "</style>\n",
       "<table border=\"1\" class=\"dataframe\">\n",
       "  <thead>\n",
       "    <tr style=\"text-align: right;\">\n",
       "      <th></th>\n",
       "      <th>age</th>\n",
       "      <th>sex</th>\n",
       "      <th>cp</th>\n",
       "      <th>trtbps</th>\n",
       "      <th>chol</th>\n",
       "      <th>fbs</th>\n",
       "      <th>restecg</th>\n",
       "      <th>thalachh</th>\n",
       "      <th>exng</th>\n",
       "      <th>oldpeak</th>\n",
       "      <th>slp</th>\n",
       "      <th>caa</th>\n",
       "      <th>thall</th>\n",
       "      <th>output</th>\n",
       "    </tr>\n",
       "  </thead>\n",
       "  <tbody>\n",
       "    <tr>\n",
       "      <th>204</th>\n",
       "      <td>62</td>\n",
       "      <td>0</td>\n",
       "      <td>0</td>\n",
       "      <td>160</td>\n",
       "      <td>164</td>\n",
       "      <td>0</td>\n",
       "      <td>0</td>\n",
       "      <td>145</td>\n",
       "      <td>0</td>\n",
       "      <td>6.2</td>\n",
       "      <td>0</td>\n",
       "      <td>3</td>\n",
       "      <td>3</td>\n",
       "      <td>0</td>\n",
       "    </tr>\n",
       "    <tr>\n",
       "      <th>221</th>\n",
       "      <td>55</td>\n",
       "      <td>1</td>\n",
       "      <td>0</td>\n",
       "      <td>140</td>\n",
       "      <td>217</td>\n",
       "      <td>0</td>\n",
       "      <td>1</td>\n",
       "      <td>111</td>\n",
       "      <td>1</td>\n",
       "      <td>5.6</td>\n",
       "      <td>0</td>\n",
       "      <td>0</td>\n",
       "      <td>3</td>\n",
       "      <td>0</td>\n",
       "    </tr>\n",
       "  </tbody>\n",
       "</table>\n",
       "</div>"
      ],
      "text/plain": [
       "     age  sex  cp  trtbps  chol  fbs  restecg  thalachh  exng  oldpeak  slp  \\\n",
       "204   62    0   0     160   164    0        0       145     0      6.2    0   \n",
       "221   55    1   0     140   217    0        1       111     1      5.6    0   \n",
       "\n",
       "     caa  thall  output  \n",
       "204    3      3       0  \n",
       "221    0      3       0  "
      ]
     },
     "execution_count": 16,
     "metadata": {},
     "output_type": "execute_result"
    }
   ],
   "source": [
    " df_cardiaque[abs(zscore(df_cardiaque[\"oldpeak\"])) >= 3]"
   ]
  },
  {
   "cell_type": "markdown",
   "id": "489a43fe",
   "metadata": {
    "papermill": {
     "duration": 0.04465,
     "end_time": "2024-08-31T14:10:02.788589",
     "exception": false,
     "start_time": "2024-08-31T14:10:02.743939",
     "status": "completed"
    },
    "tags": []
   },
   "source": [
    "##### For the feature **trtbps**:"
   ]
  },
  {
   "cell_type": "code",
   "execution_count": 17,
   "id": "f2810a52",
   "metadata": {
    "execution": {
     "iopub.execute_input": "2024-08-31T14:10:02.879425Z",
     "iopub.status.busy": "2024-08-31T14:10:02.876537Z",
     "iopub.status.idle": "2024-08-31T14:10:02.914326Z",
     "shell.execute_reply": "2024-08-31T14:10:02.910302Z"
    },
    "papermill": {
     "duration": 0.085712,
     "end_time": "2024-08-31T14:10:02.919816",
     "exception": false,
     "start_time": "2024-08-31T14:10:02.834104",
     "status": "completed"
    },
    "tags": []
   },
   "outputs": [
    {
     "data": {
      "text/html": [
       "<div>\n",
       "<style scoped>\n",
       "    .dataframe tbody tr th:only-of-type {\n",
       "        vertical-align: middle;\n",
       "    }\n",
       "\n",
       "    .dataframe tbody tr th {\n",
       "        vertical-align: top;\n",
       "    }\n",
       "\n",
       "    .dataframe thead th {\n",
       "        text-align: right;\n",
       "    }\n",
       "</style>\n",
       "<table border=\"1\" class=\"dataframe\">\n",
       "  <thead>\n",
       "    <tr style=\"text-align: right;\">\n",
       "      <th></th>\n",
       "      <th>age</th>\n",
       "      <th>sex</th>\n",
       "      <th>cp</th>\n",
       "      <th>trtbps</th>\n",
       "      <th>chol</th>\n",
       "      <th>fbs</th>\n",
       "      <th>restecg</th>\n",
       "      <th>thalachh</th>\n",
       "      <th>exng</th>\n",
       "      <th>oldpeak</th>\n",
       "      <th>slp</th>\n",
       "      <th>caa</th>\n",
       "      <th>thall</th>\n",
       "      <th>output</th>\n",
       "    </tr>\n",
       "  </thead>\n",
       "  <tbody>\n",
       "    <tr>\n",
       "      <th>223</th>\n",
       "      <td>56</td>\n",
       "      <td>0</td>\n",
       "      <td>0</td>\n",
       "      <td>200</td>\n",
       "      <td>288</td>\n",
       "      <td>1</td>\n",
       "      <td>0</td>\n",
       "      <td>133</td>\n",
       "      <td>1</td>\n",
       "      <td>4.0</td>\n",
       "      <td>0</td>\n",
       "      <td>2</td>\n",
       "      <td>3</td>\n",
       "      <td>0</td>\n",
       "    </tr>\n",
       "    <tr>\n",
       "      <th>248</th>\n",
       "      <td>54</td>\n",
       "      <td>1</td>\n",
       "      <td>1</td>\n",
       "      <td>192</td>\n",
       "      <td>283</td>\n",
       "      <td>0</td>\n",
       "      <td>0</td>\n",
       "      <td>195</td>\n",
       "      <td>0</td>\n",
       "      <td>0.0</td>\n",
       "      <td>2</td>\n",
       "      <td>1</td>\n",
       "      <td>3</td>\n",
       "      <td>0</td>\n",
       "    </tr>\n",
       "  </tbody>\n",
       "</table>\n",
       "</div>"
      ],
      "text/plain": [
       "     age  sex  cp  trtbps  chol  fbs  restecg  thalachh  exng  oldpeak  slp  \\\n",
       "223   56    0   0     200   288    1        0       133     1      4.0    0   \n",
       "248   54    1   1     192   283    0        0       195     0      0.0    2   \n",
       "\n",
       "     caa  thall  output  \n",
       "223    2      3       0  \n",
       "248    1      3       0  "
      ]
     },
     "execution_count": 17,
     "metadata": {},
     "output_type": "execute_result"
    }
   ],
   "source": [
    " df_cardiaque[abs(zscore(df_cardiaque[\"trtbps\"])) >= 3]"
   ]
  },
  {
   "cell_type": "markdown",
   "id": "ea13f491",
   "metadata": {
    "papermill": {
     "duration": 0.043446,
     "end_time": "2024-08-31T14:10:03.008326",
     "exception": false,
     "start_time": "2024-08-31T14:10:02.964880",
     "status": "completed"
    },
    "tags": []
   },
   "source": [
    "##### For the feature **chol**:"
   ]
  },
  {
   "cell_type": "code",
   "execution_count": 18,
   "id": "e687825d",
   "metadata": {
    "execution": {
     "iopub.execute_input": "2024-08-31T14:10:03.089621Z",
     "iopub.status.busy": "2024-08-31T14:10:03.088639Z",
     "iopub.status.idle": "2024-08-31T14:10:03.125886Z",
     "shell.execute_reply": "2024-08-31T14:10:03.123291Z"
    },
    "papermill": {
     "duration": 0.082387,
     "end_time": "2024-08-31T14:10:03.130168",
     "exception": false,
     "start_time": "2024-08-31T14:10:03.047781",
     "status": "completed"
    },
    "scrolled": true,
    "tags": []
   },
   "outputs": [
    {
     "data": {
      "text/html": [
       "<div>\n",
       "<style scoped>\n",
       "    .dataframe tbody tr th:only-of-type {\n",
       "        vertical-align: middle;\n",
       "    }\n",
       "\n",
       "    .dataframe tbody tr th {\n",
       "        vertical-align: top;\n",
       "    }\n",
       "\n",
       "    .dataframe thead th {\n",
       "        text-align: right;\n",
       "    }\n",
       "</style>\n",
       "<table border=\"1\" class=\"dataframe\">\n",
       "  <thead>\n",
       "    <tr style=\"text-align: right;\">\n",
       "      <th></th>\n",
       "      <th>age</th>\n",
       "      <th>sex</th>\n",
       "      <th>cp</th>\n",
       "      <th>trtbps</th>\n",
       "      <th>chol</th>\n",
       "      <th>fbs</th>\n",
       "      <th>restecg</th>\n",
       "      <th>thalachh</th>\n",
       "      <th>exng</th>\n",
       "      <th>oldpeak</th>\n",
       "      <th>slp</th>\n",
       "      <th>caa</th>\n",
       "      <th>thall</th>\n",
       "      <th>output</th>\n",
       "    </tr>\n",
       "  </thead>\n",
       "  <tbody>\n",
       "    <tr>\n",
       "      <th>28</th>\n",
       "      <td>65</td>\n",
       "      <td>0</td>\n",
       "      <td>2</td>\n",
       "      <td>140</td>\n",
       "      <td>417</td>\n",
       "      <td>1</td>\n",
       "      <td>0</td>\n",
       "      <td>157</td>\n",
       "      <td>0</td>\n",
       "      <td>0.8</td>\n",
       "      <td>2</td>\n",
       "      <td>1</td>\n",
       "      <td>2</td>\n",
       "      <td>1</td>\n",
       "    </tr>\n",
       "    <tr>\n",
       "      <th>85</th>\n",
       "      <td>67</td>\n",
       "      <td>0</td>\n",
       "      <td>2</td>\n",
       "      <td>115</td>\n",
       "      <td>564</td>\n",
       "      <td>0</td>\n",
       "      <td>0</td>\n",
       "      <td>160</td>\n",
       "      <td>0</td>\n",
       "      <td>1.6</td>\n",
       "      <td>1</td>\n",
       "      <td>0</td>\n",
       "      <td>3</td>\n",
       "      <td>1</td>\n",
       "    </tr>\n",
       "    <tr>\n",
       "      <th>220</th>\n",
       "      <td>63</td>\n",
       "      <td>0</td>\n",
       "      <td>0</td>\n",
       "      <td>150</td>\n",
       "      <td>407</td>\n",
       "      <td>0</td>\n",
       "      <td>0</td>\n",
       "      <td>154</td>\n",
       "      <td>0</td>\n",
       "      <td>4.0</td>\n",
       "      <td>1</td>\n",
       "      <td>3</td>\n",
       "      <td>3</td>\n",
       "      <td>0</td>\n",
       "    </tr>\n",
       "    <tr>\n",
       "      <th>246</th>\n",
       "      <td>56</td>\n",
       "      <td>0</td>\n",
       "      <td>0</td>\n",
       "      <td>134</td>\n",
       "      <td>409</td>\n",
       "      <td>0</td>\n",
       "      <td>0</td>\n",
       "      <td>150</td>\n",
       "      <td>1</td>\n",
       "      <td>1.9</td>\n",
       "      <td>1</td>\n",
       "      <td>2</td>\n",
       "      <td>3</td>\n",
       "      <td>0</td>\n",
       "    </tr>\n",
       "  </tbody>\n",
       "</table>\n",
       "</div>"
      ],
      "text/plain": [
       "     age  sex  cp  trtbps  chol  fbs  restecg  thalachh  exng  oldpeak  slp  \\\n",
       "28    65    0   2     140   417    1        0       157     0      0.8    2   \n",
       "85    67    0   2     115   564    0        0       160     0      1.6    1   \n",
       "220   63    0   0     150   407    0        0       154     0      4.0    1   \n",
       "246   56    0   0     134   409    0        0       150     1      1.9    1   \n",
       "\n",
       "     caa  thall  output  \n",
       "28     1      2       1  \n",
       "85     0      3       1  \n",
       "220    3      3       0  \n",
       "246    2      3       0  "
      ]
     },
     "execution_count": 18,
     "metadata": {},
     "output_type": "execute_result"
    }
   ],
   "source": [
    " df_cardiaque[abs(zscore(df_cardiaque[\"chol\"])) >= 3]"
   ]
  },
  {
   "cell_type": "markdown",
   "id": "1fac0a58",
   "metadata": {
    "papermill": {
     "duration": 0.051304,
     "end_time": "2024-08-31T14:10:03.230628",
     "exception": false,
     "start_time": "2024-08-31T14:10:03.179324",
     "status": "completed"
    },
    "tags": []
   },
   "source": [
    "<font color=green> **Interpretation:** </font>\n",
    "It seems that these values are actual values and not errors. We will keep them in the dataset."
   ]
  },
  {
   "cell_type": "markdown",
   "id": "1fb8cb10",
   "metadata": {
    "papermill": {
     "duration": 0.039026,
     "end_time": "2024-08-31T14:10:03.320071",
     "exception": false,
     "start_time": "2024-08-31T14:10:03.281045",
     "status": "completed"
    },
    "tags": []
   },
   "source": [
    "# Partie II: Feature selection and preprocessing"
   ]
  },
  {
   "cell_type": "code",
   "execution_count": 19,
   "id": "2e8bd3a6",
   "metadata": {
    "execution": {
     "iopub.execute_input": "2024-08-31T14:10:03.398716Z",
     "iopub.status.busy": "2024-08-31T14:10:03.398164Z",
     "iopub.status.idle": "2024-08-31T14:10:03.406845Z",
     "shell.execute_reply": "2024-08-31T14:10:03.404761Z"
    },
    "papermill": {
     "duration": 0.053088,
     "end_time": "2024-08-31T14:10:03.410841",
     "exception": false,
     "start_time": "2024-08-31T14:10:03.357753",
     "status": "completed"
    },
    "tags": []
   },
   "outputs": [],
   "source": [
    "df_copie = df_cardiaque.copy()"
   ]
  },
  {
   "cell_type": "markdown",
   "id": "649a82e6",
   "metadata": {
    "papermill": {
     "duration": 0.037391,
     "end_time": "2024-08-31T14:10:03.488087",
     "exception": false,
     "start_time": "2024-08-31T14:10:03.450696",
     "status": "completed"
    },
    "tags": []
   },
   "source": [
    "### II- 1 Feature selection"
   ]
  },
  {
   "cell_type": "markdown",
   "id": "480872a4",
   "metadata": {
    "papermill": {
     "duration": 0.040966,
     "end_time": "2024-08-31T14:10:03.570004",
     "exception": false,
     "start_time": "2024-08-31T14:10:03.529038",
     "status": "completed"
    },
    "tags": []
   },
   "source": [
    "For feature selection to provide to future models, we will rely on a dependency-based variable selection technique. Since our target is categorical:\n",
    "\n",
    "1. For continuous numeric variables, we will use the ANOVA test.\n",
    "2. For categorical variables, we will use the Chi-squared test.\n",
    "3. Finally, we will check if there are any two features that are strongly correlated with each other. If so, we will retain only one of them."
   ]
  },
  {
   "cell_type": "code",
   "execution_count": 20,
   "id": "87005666",
   "metadata": {
    "execution": {
     "iopub.execute_input": "2024-08-31T14:10:03.658883Z",
     "iopub.status.busy": "2024-08-31T14:10:03.658317Z",
     "iopub.status.idle": "2024-08-31T14:10:04.614891Z",
     "shell.execute_reply": "2024-08-31T14:10:04.612268Z"
    },
    "papermill": {
     "duration": 1.003081,
     "end_time": "2024-08-31T14:10:04.618774",
     "exception": false,
     "start_time": "2024-08-31T14:10:03.615693",
     "status": "completed"
    },
    "tags": []
   },
   "outputs": [],
   "source": [
    "from sklearn.feature_selection import SelectKBest, chi2, f_classif"
   ]
  },
  {
   "cell_type": "markdown",
   "id": "e826df87",
   "metadata": {
    "papermill": {
     "duration": 0.041175,
     "end_time": "2024-08-31T14:10:04.707480",
     "exception": false,
     "start_time": "2024-08-31T14:10:04.666305",
     "status": "completed"
    },
    "tags": []
   },
   "source": [
    "#### 1.1 Selection of categorical features: Chi-squared test."
   ]
  },
  {
   "cell_type": "code",
   "execution_count": 21,
   "id": "45658d73",
   "metadata": {
    "execution": {
     "iopub.execute_input": "2024-08-31T14:10:04.783567Z",
     "iopub.status.busy": "2024-08-31T14:10:04.783066Z",
     "iopub.status.idle": "2024-08-31T14:10:04.794933Z",
     "shell.execute_reply": "2024-08-31T14:10:04.792864Z"
    },
    "papermill": {
     "duration": 0.052146,
     "end_time": "2024-08-31T14:10:04.797863",
     "exception": false,
     "start_time": "2024-08-31T14:10:04.745717",
     "status": "completed"
    },
    "tags": []
   },
   "outputs": [
    {
     "data": {
      "text/plain": [
       "['slp', 'restecg', 'cp', 'caa', 'thall', 'exng', 'sex', 'fbs']"
      ]
     },
     "execution_count": 21,
     "metadata": {},
     "output_type": "execute_result"
    }
   ],
   "source": [
    "categorical_cols = list(set(df_cardiaque.columns) - set(numerical_cols) - set([\"output\"]))\n",
    "categorical_cols"
   ]
  },
  {
   "cell_type": "code",
   "execution_count": 22,
   "id": "9a45fd00",
   "metadata": {
    "execution": {
     "iopub.execute_input": "2024-08-31T14:10:04.890098Z",
     "iopub.status.busy": "2024-08-31T14:10:04.889534Z",
     "iopub.status.idle": "2024-08-31T14:10:04.920012Z",
     "shell.execute_reply": "2024-08-31T14:10:04.917805Z"
    },
    "papermill": {
     "duration": 0.083412,
     "end_time": "2024-08-31T14:10:04.923295",
     "exception": false,
     "start_time": "2024-08-31T14:10:04.839883",
     "status": "completed"
    },
    "tags": []
   },
   "outputs": [],
   "source": [
    "X_cat, y = df_copie[categorical_cols], df_copie[\"output\"]\n",
    "chi2_score, p_values = chi2(X_cat, y )"
   ]
  },
  {
   "cell_type": "code",
   "execution_count": 23,
   "id": "a02bb02d",
   "metadata": {
    "execution": {
     "iopub.execute_input": "2024-08-31T14:10:05.006619Z",
     "iopub.status.busy": "2024-08-31T14:10:05.006122Z",
     "iopub.status.idle": "2024-08-31T14:10:05.018346Z",
     "shell.execute_reply": "2024-08-31T14:10:05.016631Z"
    },
    "papermill": {
     "duration": 0.059352,
     "end_time": "2024-08-31T14:10:05.021890",
     "exception": false,
     "start_time": "2024-08-31T14:10:04.962538",
     "status": "completed"
    },
    "tags": []
   },
   "outputs": [
    {
     "name": "stdout",
     "output_type": "stream",
     "text": [
      "The selected categorical features:  ['slp' 'cp' 'caa' 'thall' 'exng' 'sex']\n"
     ]
    }
   ],
   "source": [
    "# Conversion of categorical_cols to Numpy array in order to perform boolean indexing\n",
    "categorical_cols = np.array(categorical_cols)\n",
    "cat_features_selected = categorical_cols[p_values <= 0.05]\n",
    "print(f\"The selected categorical features:  {cat_features_selected}\")"
   ]
  },
  {
   "cell_type": "markdown",
   "id": "e0ab0729",
   "metadata": {
    "papermill": {
     "duration": 0.044574,
     "end_time": "2024-08-31T14:10:05.120378",
     "exception": false,
     "start_time": "2024-08-31T14:10:05.075804",
     "status": "completed"
    },
    "tags": []
   },
   "source": [
    "#### 1.2 Selection of numerical features: ANOVA test."
   ]
  },
  {
   "cell_type": "code",
   "execution_count": 24,
   "id": "9157a79f",
   "metadata": {
    "execution": {
     "iopub.execute_input": "2024-08-31T14:10:05.231740Z",
     "iopub.status.busy": "2024-08-31T14:10:05.228498Z",
     "iopub.status.idle": "2024-08-31T14:10:05.242371Z",
     "shell.execute_reply": "2024-08-31T14:10:05.240995Z"
    },
    "papermill": {
     "duration": 0.080103,
     "end_time": "2024-08-31T14:10:05.247185",
     "exception": false,
     "start_time": "2024-08-31T14:10:05.167082",
     "status": "completed"
    },
    "tags": []
   },
   "outputs": [],
   "source": [
    "X_num, y = df_copie[numerical_cols], df_copie[\"output\"]"
   ]
  },
  {
   "cell_type": "code",
   "execution_count": 25,
   "id": "8e94cb3a",
   "metadata": {
    "execution": {
     "iopub.execute_input": "2024-08-31T14:10:05.352499Z",
     "iopub.status.busy": "2024-08-31T14:10:05.350298Z",
     "iopub.status.idle": "2024-08-31T14:10:05.370088Z",
     "shell.execute_reply": "2024-08-31T14:10:05.367781Z"
    },
    "papermill": {
     "duration": 0.079898,
     "end_time": "2024-08-31T14:10:05.373488",
     "exception": false,
     "start_time": "2024-08-31T14:10:05.293590",
     "status": "completed"
    },
    "tags": []
   },
   "outputs": [
    {
     "data": {
      "text/plain": [
       "(array([15.47451133,  6.55867635,  2.00288848, 64.2377925 , 67.72193074]),\n",
       " array([1.03948373e-04, 1.09265389e-02, 1.58036975e-01, 2.47614605e-14,\n",
       "        5.81456695e-15]))"
      ]
     },
     "execution_count": 25,
     "metadata": {},
     "output_type": "execute_result"
    }
   ],
   "source": [
    "f_statistic, p_values = f_classif(X_num, y)\n",
    "f_statistic, p_values "
   ]
  },
  {
   "cell_type": "code",
   "execution_count": 26,
   "id": "4d398b63",
   "metadata": {
    "execution": {
     "iopub.execute_input": "2024-08-31T14:10:05.457776Z",
     "iopub.status.busy": "2024-08-31T14:10:05.457264Z",
     "iopub.status.idle": "2024-08-31T14:10:05.465821Z",
     "shell.execute_reply": "2024-08-31T14:10:05.464293Z"
    },
    "papermill": {
     "duration": 0.055614,
     "end_time": "2024-08-31T14:10:05.469144",
     "exception": false,
     "start_time": "2024-08-31T14:10:05.413530",
     "status": "completed"
    },
    "tags": []
   },
   "outputs": [
    {
     "name": "stdout",
     "output_type": "stream",
     "text": [
      "The selected numerical features:  ['age' 'trtbps' 'thalachh' 'oldpeak']\n"
     ]
    }
   ],
   "source": [
    "numerical_cols = np.array(numerical_cols)\n",
    "num_features_selected = numerical_cols[p_values <= 0.05]\n",
    "print(f\"The selected numerical features:  {num_features_selected}\")"
   ]
  },
  {
   "cell_type": "code",
   "execution_count": 27,
   "id": "5ad44b6e",
   "metadata": {
    "execution": {
     "iopub.execute_input": "2024-08-31T14:10:05.550372Z",
     "iopub.status.busy": "2024-08-31T14:10:05.549764Z",
     "iopub.status.idle": "2024-08-31T14:10:05.561755Z",
     "shell.execute_reply": "2024-08-31T14:10:05.559924Z"
    },
    "papermill": {
     "duration": 0.056724,
     "end_time": "2024-08-31T14:10:05.564845",
     "exception": false,
     "start_time": "2024-08-31T14:10:05.508121",
     "status": "completed"
    },
    "tags": []
   },
   "outputs": [
    {
     "data": {
      "text/plain": [
       "array(['age', 'trtbps', 'thalachh', 'oldpeak', 'slp', 'cp', 'caa',\n",
       "       'thall', 'exng', 'sex'], dtype='<U8')"
      ]
     },
     "execution_count": 27,
     "metadata": {},
     "output_type": "execute_result"
    }
   ],
   "source": [
    "features_selected = np.concatenate([num_features_selected, cat_features_selected])\n",
    "features_selected"
   ]
  },
  {
   "cell_type": "code",
   "execution_count": 28,
   "id": "0872e965",
   "metadata": {
    "execution": {
     "iopub.execute_input": "2024-08-31T14:10:05.658093Z",
     "iopub.status.busy": "2024-08-31T14:10:05.656862Z",
     "iopub.status.idle": "2024-08-31T14:10:05.690234Z",
     "shell.execute_reply": "2024-08-31T14:10:05.688049Z"
    },
    "papermill": {
     "duration": 0.090728,
     "end_time": "2024-08-31T14:10:05.694452",
     "exception": false,
     "start_time": "2024-08-31T14:10:05.603724",
     "status": "completed"
    },
    "scrolled": true,
    "tags": []
   },
   "outputs": [
    {
     "data": {
      "text/html": [
       "<div>\n",
       "<style scoped>\n",
       "    .dataframe tbody tr th:only-of-type {\n",
       "        vertical-align: middle;\n",
       "    }\n",
       "\n",
       "    .dataframe tbody tr th {\n",
       "        vertical-align: top;\n",
       "    }\n",
       "\n",
       "    .dataframe thead th {\n",
       "        text-align: right;\n",
       "    }\n",
       "</style>\n",
       "<table border=\"1\" class=\"dataframe\">\n",
       "  <thead>\n",
       "    <tr style=\"text-align: right;\">\n",
       "      <th></th>\n",
       "      <th>age</th>\n",
       "      <th>trtbps</th>\n",
       "      <th>thalachh</th>\n",
       "      <th>oldpeak</th>\n",
       "      <th>slp</th>\n",
       "      <th>cp</th>\n",
       "      <th>caa</th>\n",
       "      <th>thall</th>\n",
       "      <th>exng</th>\n",
       "      <th>sex</th>\n",
       "    </tr>\n",
       "  </thead>\n",
       "  <tbody>\n",
       "    <tr>\n",
       "      <th>0</th>\n",
       "      <td>63</td>\n",
       "      <td>145</td>\n",
       "      <td>150</td>\n",
       "      <td>2.3</td>\n",
       "      <td>0</td>\n",
       "      <td>3</td>\n",
       "      <td>0</td>\n",
       "      <td>1</td>\n",
       "      <td>0</td>\n",
       "      <td>1</td>\n",
       "    </tr>\n",
       "    <tr>\n",
       "      <th>1</th>\n",
       "      <td>37</td>\n",
       "      <td>130</td>\n",
       "      <td>187</td>\n",
       "      <td>3.5</td>\n",
       "      <td>0</td>\n",
       "      <td>2</td>\n",
       "      <td>0</td>\n",
       "      <td>2</td>\n",
       "      <td>0</td>\n",
       "      <td>1</td>\n",
       "    </tr>\n",
       "    <tr>\n",
       "      <th>2</th>\n",
       "      <td>41</td>\n",
       "      <td>130</td>\n",
       "      <td>172</td>\n",
       "      <td>1.4</td>\n",
       "      <td>2</td>\n",
       "      <td>1</td>\n",
       "      <td>0</td>\n",
       "      <td>2</td>\n",
       "      <td>0</td>\n",
       "      <td>0</td>\n",
       "    </tr>\n",
       "    <tr>\n",
       "      <th>3</th>\n",
       "      <td>56</td>\n",
       "      <td>120</td>\n",
       "      <td>178</td>\n",
       "      <td>0.8</td>\n",
       "      <td>2</td>\n",
       "      <td>1</td>\n",
       "      <td>0</td>\n",
       "      <td>2</td>\n",
       "      <td>0</td>\n",
       "      <td>1</td>\n",
       "    </tr>\n",
       "    <tr>\n",
       "      <th>4</th>\n",
       "      <td>57</td>\n",
       "      <td>120</td>\n",
       "      <td>163</td>\n",
       "      <td>0.6</td>\n",
       "      <td>2</td>\n",
       "      <td>0</td>\n",
       "      <td>0</td>\n",
       "      <td>2</td>\n",
       "      <td>1</td>\n",
       "      <td>0</td>\n",
       "    </tr>\n",
       "  </tbody>\n",
       "</table>\n",
       "</div>"
      ],
      "text/plain": [
       "   age  trtbps  thalachh  oldpeak  slp  cp  caa  thall  exng  sex\n",
       "0   63     145       150      2.3    0   3    0      1     0    1\n",
       "1   37     130       187      3.5    0   2    0      2     0    1\n",
       "2   41     130       172      1.4    2   1    0      2     0    0\n",
       "3   56     120       178      0.8    2   1    0      2     0    1\n",
       "4   57     120       163      0.6    2   0    0      2     1    0"
      ]
     },
     "execution_count": 28,
     "metadata": {},
     "output_type": "execute_result"
    }
   ],
   "source": [
    "final_df = df_copie[features_selected]\n",
    "final_df.head()"
   ]
  },
  {
   "cell_type": "code",
   "execution_count": 29,
   "id": "7d7dc3fa",
   "metadata": {
    "execution": {
     "iopub.execute_input": "2024-08-31T14:10:05.786091Z",
     "iopub.status.busy": "2024-08-31T14:10:05.785500Z",
     "iopub.status.idle": "2024-08-31T14:10:06.785543Z",
     "shell.execute_reply": "2024-08-31T14:10:06.781816Z"
    },
    "papermill": {
     "duration": 1.045718,
     "end_time": "2024-08-31T14:10:06.788835",
     "exception": false,
     "start_time": "2024-08-31T14:10:05.743117",
     "status": "completed"
    },
    "tags": []
   },
   "outputs": [
    {
     "data": {
      "image/png": "[encoded data removed]",
      "text/plain": [
       "<Figure size 1200x800 with 2 Axes>"
      ]
     },
     "metadata": {},
     "output_type": "display_data"
    }
   ],
   "source": [
    "# Plot the correlation heatmap\n",
    "plt.figure(figsize=(12, 8))\n",
    "sns.heatmap(final_df.corr(), annot=True, cmap='coolwarm')\n",
    "plt.title('Correlation Heatmap')\n",
    "plt.show()"
   ]
  },
  {
   "cell_type": "markdown",
   "id": "cbe0bb93",
   "metadata": {
    "papermill": {
     "duration": 0.055458,
     "end_time": "2024-08-31T14:10:06.890839",
     "exception": false,
     "start_time": "2024-08-31T14:10:06.835381",
     "status": "completed"
    },
    "tags": []
   },
   "source": [
    "<font color=green> **Interpretation:** </font>\n",
    "There are no two features among the selected features that are strongly correlated. If that were the case, we would have retained only one."
   ]
  },
  {
   "cell_type": "markdown",
   "id": "e9bc0738",
   "metadata": {
    "papermill": {
     "duration": 0.04122,
     "end_time": "2024-08-31T14:10:06.978586",
     "exception": false,
     "start_time": "2024-08-31T14:10:06.937366",
     "status": "completed"
    },
    "tags": []
   },
   "source": [
    "Before splitting the data, we will perform a transformation on the feature **sex**. As it is represented in the dataset, it is considered as an ordinal qualitave variable, however, there is no ordinal relationship between the values taken by this feature. For example, M(0) is neither greater than nor less than F(1). We need to apply a different encoding to this feature, OneHot encoding or Dummy encoding."
   ]
  },
  {
   "cell_type": "code",
   "execution_count": 30,
   "id": "b5b6ccad",
   "metadata": {
    "execution": {
     "iopub.execute_input": "2024-08-31T14:10:07.068316Z",
     "iopub.status.busy": "2024-08-31T14:10:07.067573Z",
     "iopub.status.idle": "2024-08-31T14:10:07.101432Z",
     "shell.execute_reply": "2024-08-31T14:10:07.099459Z"
    },
    "papermill": {
     "duration": 0.083215,
     "end_time": "2024-08-31T14:10:07.105107",
     "exception": false,
     "start_time": "2024-08-31T14:10:07.021892",
     "status": "completed"
    },
    "tags": []
   },
   "outputs": [
    {
     "data": {
      "text/html": [
       "<div>\n",
       "<style scoped>\n",
       "    .dataframe tbody tr th:only-of-type {\n",
       "        vertical-align: middle;\n",
       "    }\n",
       "\n",
       "    .dataframe tbody tr th {\n",
       "        vertical-align: top;\n",
       "    }\n",
       "\n",
       "    .dataframe thead th {\n",
       "        text-align: right;\n",
       "    }\n",
       "</style>\n",
       "<table border=\"1\" class=\"dataframe\">\n",
       "  <thead>\n",
       "    <tr style=\"text-align: right;\">\n",
       "      <th></th>\n",
       "      <th>age</th>\n",
       "      <th>trtbps</th>\n",
       "      <th>thalachh</th>\n",
       "      <th>oldpeak</th>\n",
       "      <th>slp</th>\n",
       "      <th>cp</th>\n",
       "      <th>caa</th>\n",
       "      <th>thall</th>\n",
       "      <th>exng</th>\n",
       "      <th>sex_0</th>\n",
       "      <th>sex_1</th>\n",
       "      <th>output</th>\n",
       "    </tr>\n",
       "  </thead>\n",
       "  <tbody>\n",
       "    <tr>\n",
       "      <th>0</th>\n",
       "      <td>63</td>\n",
       "      <td>145</td>\n",
       "      <td>150</td>\n",
       "      <td>2.3</td>\n",
       "      <td>0</td>\n",
       "      <td>3</td>\n",
       "      <td>0</td>\n",
       "      <td>1</td>\n",
       "      <td>0</td>\n",
       "      <td>False</td>\n",
       "      <td>True</td>\n",
       "      <td>1</td>\n",
       "    </tr>\n",
       "    <tr>\n",
       "      <th>1</th>\n",
       "      <td>37</td>\n",
       "      <td>130</td>\n",
       "      <td>187</td>\n",
       "      <td>3.5</td>\n",
       "      <td>0</td>\n",
       "      <td>2</td>\n",
       "      <td>0</td>\n",
       "      <td>2</td>\n",
       "      <td>0</td>\n",
       "      <td>False</td>\n",
       "      <td>True</td>\n",
       "      <td>1</td>\n",
       "    </tr>\n",
       "    <tr>\n",
       "      <th>2</th>\n",
       "      <td>41</td>\n",
       "      <td>130</td>\n",
       "      <td>172</td>\n",
       "      <td>1.4</td>\n",
       "      <td>2</td>\n",
       "      <td>1</td>\n",
       "      <td>0</td>\n",
       "      <td>2</td>\n",
       "      <td>0</td>\n",
       "      <td>True</td>\n",
       "      <td>False</td>\n",
       "      <td>1</td>\n",
       "    </tr>\n",
       "    <tr>\n",
       "      <th>3</th>\n",
       "      <td>56</td>\n",
       "      <td>120</td>\n",
       "      <td>178</td>\n",
       "      <td>0.8</td>\n",
       "      <td>2</td>\n",
       "      <td>1</td>\n",
       "      <td>0</td>\n",
       "      <td>2</td>\n",
       "      <td>0</td>\n",
       "      <td>False</td>\n",
       "      <td>True</td>\n",
       "      <td>1</td>\n",
       "    </tr>\n",
       "    <tr>\n",
       "      <th>4</th>\n",
       "      <td>57</td>\n",
       "      <td>120</td>\n",
       "      <td>163</td>\n",
       "      <td>0.6</td>\n",
       "      <td>2</td>\n",
       "      <td>0</td>\n",
       "      <td>0</td>\n",
       "      <td>2</td>\n",
       "      <td>1</td>\n",
       "      <td>True</td>\n",
       "      <td>False</td>\n",
       "      <td>1</td>\n",
       "    </tr>\n",
       "  </tbody>\n",
       "</table>\n",
       "</div>"
      ],
      "text/plain": [
       "   age  trtbps  thalachh  oldpeak  slp  cp  caa  thall  exng  sex_0  sex_1  \\\n",
       "0   63     145       150      2.3    0   3    0      1     0  False   True   \n",
       "1   37     130       187      3.5    0   2    0      2     0  False   True   \n",
       "2   41     130       172      1.4    2   1    0      2     0   True  False   \n",
       "3   56     120       178      0.8    2   1    0      2     0  False   True   \n",
       "4   57     120       163      0.6    2   0    0      2     1   True  False   \n",
       "\n",
       "   output  \n",
       "0       1  \n",
       "1       1  \n",
       "2       1  \n",
       "3       1  \n",
       "4       1  "
      ]
     },
     "execution_count": 30,
     "metadata": {},
     "output_type": "execute_result"
    }
   ],
   "source": [
    "final_df = pd.get_dummies(final_df, columns=[\"sex\"])\n",
    "final_df[\"output\"] = df_copie[\"output\"]\n",
    "final_df.head()"
   ]
  },
  {
   "cell_type": "markdown",
   "id": "aa8a5f71",
   "metadata": {
    "papermill": {
     "duration": 0.042503,
     "end_time": "2024-08-31T14:10:07.190823",
     "exception": false,
     "start_time": "2024-08-31T14:10:07.148320",
     "status": "completed"
    },
    "tags": []
   },
   "source": [
    "### II- 2 Splitting the dataset"
   ]
  },
  {
   "cell_type": "code",
   "execution_count": 31,
   "id": "1ccfee9a",
   "metadata": {
    "execution": {
     "iopub.execute_input": "2024-08-31T14:10:07.290677Z",
     "iopub.status.busy": "2024-08-31T14:10:07.289589Z",
     "iopub.status.idle": "2024-08-31T14:10:07.300709Z",
     "shell.execute_reply": "2024-08-31T14:10:07.298439Z"
    },
    "papermill": {
     "duration": 0.061784,
     "end_time": "2024-08-31T14:10:07.305138",
     "exception": false,
     "start_time": "2024-08-31T14:10:07.243354",
     "status": "completed"
    },
    "tags": []
   },
   "outputs": [],
   "source": [
    "X, y = final_df.drop(columns=[\"output\"]), final_df[\"output\"]"
   ]
  },
  {
   "cell_type": "code",
   "execution_count": 32,
   "id": "abf1a3cf",
   "metadata": {
    "execution": {
     "iopub.execute_input": "2024-08-31T14:10:07.402143Z",
     "iopub.status.busy": "2024-08-31T14:10:07.399712Z",
     "iopub.status.idle": "2024-08-31T14:10:07.410458Z",
     "shell.execute_reply": "2024-08-31T14:10:07.408215Z"
    },
    "papermill": {
     "duration": 0.062956,
     "end_time": "2024-08-31T14:10:07.416047",
     "exception": false,
     "start_time": "2024-08-31T14:10:07.353091",
     "status": "completed"
    },
    "tags": []
   },
   "outputs": [],
   "source": [
    "from sklearn.model_selection import train_test_split"
   ]
  },
  {
   "cell_type": "code",
   "execution_count": 33,
   "id": "49c1c390",
   "metadata": {
    "execution": {
     "iopub.execute_input": "2024-08-31T14:10:07.503371Z",
     "iopub.status.busy": "2024-08-31T14:10:07.502231Z",
     "iopub.status.idle": "2024-08-31T14:10:07.515608Z",
     "shell.execute_reply": "2024-08-31T14:10:07.513153Z"
    },
    "papermill": {
     "duration": 0.057136,
     "end_time": "2024-08-31T14:10:07.519049",
     "exception": false,
     "start_time": "2024-08-31T14:10:07.461913",
     "status": "completed"
    },
    "tags": []
   },
   "outputs": [],
   "source": [
    "X_train, X_test, y_train, y_test = train_test_split(X, y, random_state=42, shuffle=True, stratify=y)"
   ]
  },
  {
   "cell_type": "code",
   "execution_count": 34,
   "id": "5cdcca51",
   "metadata": {
    "execution": {
     "iopub.execute_input": "2024-08-31T14:10:07.605265Z",
     "iopub.status.busy": "2024-08-31T14:10:07.604815Z",
     "iopub.status.idle": "2024-08-31T14:10:07.612282Z",
     "shell.execute_reply": "2024-08-31T14:10:07.610611Z"
    },
    "papermill": {
     "duration": 0.056453,
     "end_time": "2024-08-31T14:10:07.617534",
     "exception": false,
     "start_time": "2024-08-31T14:10:07.561081",
     "status": "completed"
    },
    "tags": []
   },
   "outputs": [
    {
     "name": "stdout",
     "output_type": "stream",
     "text": [
      "X_train: (226, 11) \n",
      "y_train: (226,)\n",
      "X_test: (76, 11)\n",
      "y_test: (76,)\n"
     ]
    }
   ],
   "source": [
    "print(f\"X_train: {X_train.shape} \")\n",
    "print(f\"y_train: {y_train.shape}\")\n",
    "print(f\"X_test: {X_test.shape}\")\n",
    "print(f\"y_test: {y_test.shape}\")"
   ]
  },
  {
   "cell_type": "markdown",
   "id": "3dd72c0d",
   "metadata": {
    "papermill": {
     "duration": 0.039703,
     "end_time": "2024-08-31T14:10:07.701014",
     "exception": false,
     "start_time": "2024-08-31T14:10:07.661311",
     "status": "completed"
    },
    "tags": []
   },
   "source": [
    "### II- 3 Standardisation"
   ]
  },
  {
   "cell_type": "code",
   "execution_count": 35,
   "id": "be9fc0c4",
   "metadata": {
    "execution": {
     "iopub.execute_input": "2024-08-31T14:10:07.787749Z",
     "iopub.status.busy": "2024-08-31T14:10:07.786340Z",
     "iopub.status.idle": "2024-08-31T14:10:07.793434Z",
     "shell.execute_reply": "2024-08-31T14:10:07.791727Z"
    },
    "papermill": {
     "duration": 0.055005,
     "end_time": "2024-08-31T14:10:07.797200",
     "exception": false,
     "start_time": "2024-08-31T14:10:07.742195",
     "status": "completed"
    },
    "tags": []
   },
   "outputs": [],
   "source": [
    "from sklearn.preprocessing import StandardScaler, MinMaxScaler, RobustScaler"
   ]
  },
  {
   "cell_type": "code",
   "execution_count": 36,
   "id": "93136569",
   "metadata": {
    "execution": {
     "iopub.execute_input": "2024-08-31T14:10:07.884941Z",
     "iopub.status.busy": "2024-08-31T14:10:07.884234Z",
     "iopub.status.idle": "2024-08-31T14:10:07.891464Z",
     "shell.execute_reply": "2024-08-31T14:10:07.889886Z"
    },
    "papermill": {
     "duration": 0.056186,
     "end_time": "2024-08-31T14:10:07.895447",
     "exception": false,
     "start_time": "2024-08-31T14:10:07.839261",
     "status": "completed"
    },
    "tags": []
   },
   "outputs": [],
   "source": [
    "scaler = StandardScaler()"
   ]
  },
  {
   "cell_type": "markdown",
   "id": "dbea7ea0",
   "metadata": {
    "papermill": {
     "duration": 0.037905,
     "end_time": "2024-08-31T14:10:07.979789",
     "exception": false,
     "start_time": "2024-08-31T14:10:07.941884",
     "status": "completed"
    },
    "tags": []
   },
   "source": [
    "# Partie III: Modeling"
   ]
  },
  {
   "cell_type": "code",
   "execution_count": 37,
   "id": "d1a3292e",
   "metadata": {
    "execution": {
     "iopub.execute_input": "2024-08-31T14:10:08.074723Z",
     "iopub.status.busy": "2024-08-31T14:10:08.073990Z",
     "iopub.status.idle": "2024-08-31T14:10:08.251203Z",
     "shell.execute_reply": "2024-08-31T14:10:08.248237Z"
    },
    "papermill": {
     "duration": 0.225544,
     "end_time": "2024-08-31T14:10:08.255178",
     "exception": false,
     "start_time": "2024-08-31T14:10:08.029634",
     "status": "completed"
    },
    "tags": []
   },
   "outputs": [],
   "source": [
    "from sklearn.linear_model import LogisticRegression, SGDClassifier\n",
    "from sklearn.svm import SVC, LinearSVC\n",
    "from sklearn.ensemble import RandomForestClassifier\n",
    "from sklearn.neighbors import KNeighborsClassifier\n",
    "from sklearn.linear_model import SGDClassifier\n",
    "from sklearn.ensemble import VotingClassifier\n",
    "from sklearn.pipeline import Pipeline\n",
    "\n",
    "# Les métrics\n",
    "from sklearn.metrics import classification_report,confusion_matrix,ConfusionMatrixDisplay, accuracy_score"
   ]
  },
  {
   "cell_type": "code",
   "execution_count": 38,
   "id": "1a735d1b",
   "metadata": {
    "execution": {
     "iopub.execute_input": "2024-08-31T14:10:08.341044Z",
     "iopub.status.busy": "2024-08-31T14:10:08.340135Z",
     "iopub.status.idle": "2024-08-31T14:10:08.352288Z",
     "shell.execute_reply": "2024-08-31T14:10:08.350686Z"
    },
    "papermill": {
     "duration": 0.065127,
     "end_time": "2024-08-31T14:10:08.357468",
     "exception": false,
     "start_time": "2024-08-31T14:10:08.292341",
     "status": "completed"
    },
    "tags": []
   },
   "outputs": [],
   "source": [
    "lr = LogisticRegression(random_state=42)\n",
    "lsvc = LinearSVC(random_state=42)\n",
    "svc = SVC(kernel=\"rbf\", C=8.0)\n",
    "rf = RandomForestClassifier(criterion='gini', max_depth=30, min_samples_split=2, n_estimators=50, random_state=42)\n",
    "knn = KNeighborsClassifier(n_neighbors=15)\n",
    "sgd = SGDClassifier()"
   ]
  },
  {
   "cell_type": "markdown",
   "id": "594f5ece",
   "metadata": {
    "papermill": {
     "duration": 0.040713,
     "end_time": "2024-08-31T14:10:08.438772",
     "exception": false,
     "start_time": "2024-08-31T14:10:08.398059",
     "status": "completed"
    },
    "tags": []
   },
   "source": [
    "#### Helper functions"
   ]
  },
  {
   "cell_type": "code",
   "execution_count": 39,
   "id": "6737d19f",
   "metadata": {
    "execution": {
     "iopub.execute_input": "2024-08-31T14:10:08.532384Z",
     "iopub.status.busy": "2024-08-31T14:10:08.531907Z",
     "iopub.status.idle": "2024-08-31T14:10:08.541417Z",
     "shell.execute_reply": "2024-08-31T14:10:08.538919Z"
    },
    "papermill": {
     "duration": 0.062089,
     "end_time": "2024-08-31T14:10:08.544825",
     "exception": false,
     "start_time": "2024-08-31T14:10:08.482736",
     "status": "completed"
    },
    "tags": []
   },
   "outputs": [],
   "source": [
    "def metric(y_test,y_pred, plot_confusion_matrice=False):\n",
    "    score = round(accuracy_score(y_test,y_pred),2)*100 \n",
    "   \n",
    "    if plot_confusion_matrice == True:\n",
    "        ConfusionMatrixDisplay.from_predictions(y_test,y_pred)\n",
    "        plt.title(\"Confusion matrix for prediction made on test set\")\n",
    "        plt.show()\n",
    "        \n",
    "    #print(classification_report(y_test, y_pred))\n",
    "    \n",
    "    return score"
   ]
  },
  {
   "cell_type": "code",
   "execution_count": 40,
   "id": "ef2b0288",
   "metadata": {
    "execution": {
     "iopub.execute_input": "2024-08-31T14:10:08.628628Z",
     "iopub.status.busy": "2024-08-31T14:10:08.628108Z",
     "iopub.status.idle": "2024-08-31T14:10:08.636778Z",
     "shell.execute_reply": "2024-08-31T14:10:08.634882Z"
    },
    "papermill": {
     "duration": 0.056118,
     "end_time": "2024-08-31T14:10:08.641056",
     "exception": false,
     "start_time": "2024-08-31T14:10:08.584938",
     "status": "completed"
    },
    "tags": []
   },
   "outputs": [],
   "source": [
    "def train_and_evaluate_model(model, plot_confusion_matrice=False, scaler=scaler, \n",
    "                             X_taint=X_train, y_train=y_train,\n",
    "                             X_test=X_test, y_test=y_test):\n",
    "    \n",
    "    model.fit(X_train,y_train)\n",
    "    train_score = metric(y_train, model.predict(X_train))\n",
    "    test_score = metric(y_test, model.predict(X_test), plot_confusion_matrice)\n",
    "    print(f\"Test accuracy score: {test_score}\")\n",
    "    return train_score, test_score"
   ]
  },
  {
   "cell_type": "markdown",
   "id": "b0181f8d",
   "metadata": {
    "papermill": {
     "duration": 0.040311,
     "end_time": "2024-08-31T14:10:08.722887",
     "exception": false,
     "start_time": "2024-08-31T14:10:08.682576",
     "status": "completed"
    },
    "tags": []
   },
   "source": [
    "### III-1  Train Models"
   ]
  },
  {
   "cell_type": "code",
   "execution_count": 41,
   "id": "70551215",
   "metadata": {
    "execution": {
     "iopub.execute_input": "2024-08-31T14:10:08.812829Z",
     "iopub.status.busy": "2024-08-31T14:10:08.812259Z",
     "iopub.status.idle": "2024-08-31T14:10:08.820145Z",
     "shell.execute_reply": "2024-08-31T14:10:08.818516Z"
    },
    "papermill": {
     "duration": 0.055631,
     "end_time": "2024-08-31T14:10:08.823455",
     "exception": false,
     "start_time": "2024-08-31T14:10:08.767824",
     "status": "completed"
    },
    "tags": []
   },
   "outputs": [],
   "source": [
    "model_names = []\n",
    "train_accuracy_score = []\n",
    "test_accuracy_score = []"
   ]
  },
  {
   "cell_type": "markdown",
   "id": "00e35049",
   "metadata": {
    "papermill": {
     "duration": 0.039811,
     "end_time": "2024-08-31T14:10:08.904269",
     "exception": false,
     "start_time": "2024-08-31T14:10:08.864458",
     "status": "completed"
    },
    "tags": []
   },
   "source": [
    "#### Logistic Regression"
   ]
  },
  {
   "cell_type": "code",
   "execution_count": 42,
   "id": "cba9c40a",
   "metadata": {
    "execution": {
     "iopub.execute_input": "2024-08-31T14:10:08.985175Z",
     "iopub.status.busy": "2024-08-31T14:10:08.984699Z",
     "iopub.status.idle": "2024-08-31T14:10:09.030865Z",
     "shell.execute_reply": "2024-08-31T14:10:09.028294Z"
    },
    "papermill": {
     "duration": 0.090901,
     "end_time": "2024-08-31T14:10:09.036305",
     "exception": false,
     "start_time": "2024-08-31T14:10:08.945404",
     "status": "completed"
    },
    "tags": []
   },
   "outputs": [
    {
     "name": "stdout",
     "output_type": "stream",
     "text": [
      "Test accuracy score: 78.0\n"
     ]
    }
   ],
   "source": [
    "pipe_lr = Pipeline(steps=[ (\"preprocesing\", scaler),\n",
    "                            (\"model\", lr) ])\n",
    "scores = train_and_evaluate_model(pipe_lr)\n",
    "\n",
    "# Save informations\n",
    "model_names.append(\"Logistic Regression\")\n",
    "train_accuracy_score.append(scores[0])\n",
    "test_accuracy_score.append(scores[1])"
   ]
  },
  {
   "cell_type": "markdown",
   "id": "f72306ec",
   "metadata": {
    "papermill": {
     "duration": 0.049449,
     "end_time": "2024-08-31T14:10:09.141260",
     "exception": false,
     "start_time": "2024-08-31T14:10:09.091811",
     "status": "completed"
    },
    "tags": []
   },
   "source": [
    "#### SVC"
   ]
  },
  {
   "cell_type": "code",
   "execution_count": 43,
   "id": "db056727",
   "metadata": {
    "execution": {
     "iopub.execute_input": "2024-08-31T14:10:09.227794Z",
     "iopub.status.busy": "2024-08-31T14:10:09.227215Z",
     "iopub.status.idle": "2024-08-31T14:10:09.259191Z",
     "shell.execute_reply": "2024-08-31T14:10:09.257601Z"
    },
    "papermill": {
     "duration": 0.079103,
     "end_time": "2024-08-31T14:10:09.262744",
     "exception": false,
     "start_time": "2024-08-31T14:10:09.183641",
     "status": "completed"
    },
    "tags": []
   },
   "outputs": [
    {
     "name": "stdout",
     "output_type": "stream",
     "text": [
      "Test accuracy score: 80.0\n"
     ]
    }
   ],
   "source": [
    "pipe_svc = Pipeline(steps=[ (\"preprocesing\", scaler),\n",
    "                            (\"model\", svc) ])\n",
    "scores = train_and_evaluate_model(pipe_svc)\n",
    "\n",
    "# Save informations\n",
    "model_names.append(\"SVC\")\n",
    "train_accuracy_score.append(scores[0])\n",
    "test_accuracy_score.append(scores[1])"
   ]
  },
  {
   "cell_type": "markdown",
   "id": "77668422",
   "metadata": {
    "papermill": {
     "duration": 0.043332,
     "end_time": "2024-08-31T14:10:09.346616",
     "exception": false,
     "start_time": "2024-08-31T14:10:09.303284",
     "status": "completed"
    },
    "tags": []
   },
   "source": [
    "#### Linear SVC"
   ]
  },
  {
   "cell_type": "code",
   "execution_count": 44,
   "id": "e027a42b",
   "metadata": {
    "execution": {
     "iopub.execute_input": "2024-08-31T14:10:09.435341Z",
     "iopub.status.busy": "2024-08-31T14:10:09.434783Z",
     "iopub.status.idle": "2024-08-31T14:10:09.466598Z",
     "shell.execute_reply": "2024-08-31T14:10:09.464636Z"
    },
    "papermill": {
     "duration": 0.080815,
     "end_time": "2024-08-31T14:10:09.469930",
     "exception": false,
     "start_time": "2024-08-31T14:10:09.389115",
     "status": "completed"
    },
    "tags": []
   },
   "outputs": [
    {
     "name": "stdout",
     "output_type": "stream",
     "text": [
      "Test accuracy score: 78.0\n"
     ]
    }
   ],
   "source": [
    "pipe_lsvc = Pipeline(steps=[ (\"preprocesing\", scaler),\n",
    "                            (\"model\", lsvc) ])\n",
    "scores = train_and_evaluate_model(pipe_lsvc)\n",
    "\n",
    "# Save informations\n",
    "model_names.append(\"Linear SVC\")\n",
    "train_accuracy_score.append(scores[0])\n",
    "test_accuracy_score.append(scores[1])"
   ]
  },
  {
   "cell_type": "markdown",
   "id": "1facd89a",
   "metadata": {
    "papermill": {
     "duration": 0.046974,
     "end_time": "2024-08-31T14:10:09.558802",
     "exception": false,
     "start_time": "2024-08-31T14:10:09.511828",
     "status": "completed"
    },
    "tags": []
   },
   "source": [
    "### Random Forest"
   ]
  },
  {
   "cell_type": "code",
   "execution_count": 45,
   "id": "fed51837",
   "metadata": {
    "execution": {
     "iopub.execute_input": "2024-08-31T14:10:09.640298Z",
     "iopub.status.busy": "2024-08-31T14:10:09.639707Z",
     "iopub.status.idle": "2024-08-31T14:10:09.823073Z",
     "shell.execute_reply": "2024-08-31T14:10:09.820470Z"
    },
    "papermill": {
     "duration": 0.231423,
     "end_time": "2024-08-31T14:10:09.828534",
     "exception": false,
     "start_time": "2024-08-31T14:10:09.597111",
     "status": "completed"
    },
    "tags": []
   },
   "outputs": [
    {
     "name": "stdout",
     "output_type": "stream",
     "text": [
      "Test accuracy score: 79.0\n"
     ]
    }
   ],
   "source": [
    "pipe_rf = Pipeline(steps=[ (\"preprocesing\", scaler),\n",
    "                            (\"model\", rf) ])\n",
    "scores = train_and_evaluate_model(pipe_rf)\n",
    "\n",
    "# Save informations\n",
    "model_names.append(\"Random Forest\")\n",
    "train_accuracy_score.append(scores[0])\n",
    "test_accuracy_score.append(scores[1])"
   ]
  },
  {
   "cell_type": "markdown",
   "id": "578704fe",
   "metadata": {
    "papermill": {
     "duration": 0.04024,
     "end_time": "2024-08-31T14:10:09.913288",
     "exception": false,
     "start_time": "2024-08-31T14:10:09.873048",
     "status": "completed"
    },
    "tags": []
   },
   "source": [
    "### Voting Classifier"
   ]
  },
  {
   "cell_type": "code",
   "execution_count": 46,
   "id": "11604663",
   "metadata": {
    "execution": {
     "iopub.execute_input": "2024-08-31T14:10:09.997944Z",
     "iopub.status.busy": "2024-08-31T14:10:09.997453Z",
     "iopub.status.idle": "2024-08-31T14:10:10.057025Z",
     "shell.execute_reply": "2024-08-31T14:10:10.054767Z"
    },
    "papermill": {
     "duration": 0.103134,
     "end_time": "2024-08-31T14:10:10.061123",
     "exception": false,
     "start_time": "2024-08-31T14:10:09.957989",
     "status": "completed"
    },
    "tags": []
   },
   "outputs": [
    {
     "name": "stdout",
     "output_type": "stream",
     "text": [
      "Test accuracy score: 78.0\n"
     ]
    }
   ],
   "source": [
    "pipe_vt = Pipeline(steps=[(\"preprocesing\", scaler),\n",
    "                          (\"model\", VotingClassifier(estimators=[('lr',lr),('svc',svc),('lsvc', lsvc)],voting='hard'))])\n",
    "scores = train_and_evaluate_model(pipe_vt)\n",
    "\n",
    "# Save informations\n",
    "model_names.append(\"Voting Classifier\")\n",
    "train_accuracy_score.append(scores[0])\n",
    "test_accuracy_score.append(scores[1])"
   ]
  },
  {
   "cell_type": "markdown",
   "id": "6aaa328e",
   "metadata": {
    "papermill": {
     "duration": 0.041113,
     "end_time": "2024-08-31T14:10:10.144813",
     "exception": false,
     "start_time": "2024-08-31T14:10:10.103700",
     "status": "completed"
    },
    "tags": []
   },
   "source": [
    "#### KNN classifier"
   ]
  },
  {
   "cell_type": "code",
   "execution_count": 47,
   "id": "f2133492",
   "metadata": {
    "execution": {
     "iopub.execute_input": "2024-08-31T14:10:10.235413Z",
     "iopub.status.busy": "2024-08-31T14:10:10.233310Z",
     "iopub.status.idle": "2024-08-31T14:10:10.288228Z",
     "shell.execute_reply": "2024-08-31T14:10:10.286624Z"
    },
    "papermill": {
     "duration": 0.104265,
     "end_time": "2024-08-31T14:10:10.292164",
     "exception": false,
     "start_time": "2024-08-31T14:10:10.187899",
     "status": "completed"
    },
    "tags": []
   },
   "outputs": [
    {
     "name": "stdout",
     "output_type": "stream",
     "text": [
      "Test accuracy score: 82.0\n"
     ]
    }
   ],
   "source": [
    "pipe_knn = Pipeline(steps=[ (\"preprocesing\", scaler),\n",
    "                            (\"model\", knn)])\n",
    "scores = train_and_evaluate_model(pipe_knn)\n",
    "\n",
    "# Save informations\n",
    "model_names.append(\"KNN Classifier\")\n",
    "train_accuracy_score.append(scores[0])\n",
    "test_accuracy_score.append(scores[1])"
   ]
  },
  {
   "cell_type": "markdown",
   "id": "f9f8102c",
   "metadata": {
    "papermill": {
     "duration": 0.043315,
     "end_time": "2024-08-31T14:10:10.376916",
     "exception": false,
     "start_time": "2024-08-31T14:10:10.333601",
     "status": "completed"
    },
    "tags": []
   },
   "source": [
    "#### SGD Classifier"
   ]
  },
  {
   "cell_type": "code",
   "execution_count": 48,
   "id": "805af648",
   "metadata": {
    "execution": {
     "iopub.execute_input": "2024-08-31T14:10:10.459764Z",
     "iopub.status.busy": "2024-08-31T14:10:10.459248Z",
     "iopub.status.idle": "2024-08-31T14:10:10.487240Z",
     "shell.execute_reply": "2024-08-31T14:10:10.485741Z"
    },
    "papermill": {
     "duration": 0.073243,
     "end_time": "2024-08-31T14:10:10.490853",
     "exception": false,
     "start_time": "2024-08-31T14:10:10.417610",
     "status": "completed"
    },
    "scrolled": true,
    "tags": []
   },
   "outputs": [
    {
     "name": "stdout",
     "output_type": "stream",
     "text": [
      "Test accuracy score: 72.0\n"
     ]
    }
   ],
   "source": [
    "pipe_sgd = Pipeline(steps=[ (\"preprocesing\", scaler),\n",
    "                            (\"model\", sgd) ])\n",
    "scores = train_and_evaluate_model(pipe_sgd)\n",
    "\n",
    "# Save informations\n",
    "model_names.append(\"SGD Classifier\")\n",
    "train_accuracy_score.append(scores[0])\n",
    "test_accuracy_score.append(scores[1])"
   ]
  },
  {
   "cell_type": "code",
   "execution_count": 49,
   "id": "39dff69b",
   "metadata": {
    "execution": {
     "iopub.execute_input": "2024-08-31T14:10:10.582869Z",
     "iopub.status.busy": "2024-08-31T14:10:10.582360Z",
     "iopub.status.idle": "2024-08-31T14:10:10.614280Z",
     "shell.execute_reply": "2024-08-31T14:10:10.612011Z"
    },
    "papermill": {
     "duration": 0.08299,
     "end_time": "2024-08-31T14:10:10.618249",
     "exception": false,
     "start_time": "2024-08-31T14:10:10.535259",
     "status": "completed"
    },
    "tags": []
   },
   "outputs": [
    {
     "data": {
      "text/html": [
       "<div>\n",
       "<style scoped>\n",
       "    .dataframe tbody tr th:only-of-type {\n",
       "        vertical-align: middle;\n",
       "    }\n",
       "\n",
       "    .dataframe tbody tr th {\n",
       "        vertical-align: top;\n",
       "    }\n",
       "\n",
       "    .dataframe thead th {\n",
       "        text-align: right;\n",
       "    }\n",
       "</style>\n",
       "<table border=\"1\" class=\"dataframe\">\n",
       "  <thead>\n",
       "    <tr style=\"text-align: right;\">\n",
       "      <th></th>\n",
       "      <th>models</th>\n",
       "      <th>train_accuracy_score</th>\n",
       "      <th>test_accuracy_score</th>\n",
       "      <th>difference_train_test_score</th>\n",
       "    </tr>\n",
       "  </thead>\n",
       "  <tbody>\n",
       "    <tr>\n",
       "      <th>5</th>\n",
       "      <td>KNN Classifier</td>\n",
       "      <td>85.0</td>\n",
       "      <td>82.0</td>\n",
       "      <td>3.0</td>\n",
       "    </tr>\n",
       "    <tr>\n",
       "      <th>2</th>\n",
       "      <td>Linear SVC</td>\n",
       "      <td>86.0</td>\n",
       "      <td>78.0</td>\n",
       "      <td>8.0</td>\n",
       "    </tr>\n",
       "    <tr>\n",
       "      <th>0</th>\n",
       "      <td>Logistic Regression</td>\n",
       "      <td>87.0</td>\n",
       "      <td>78.0</td>\n",
       "      <td>9.0</td>\n",
       "    </tr>\n",
       "    <tr>\n",
       "      <th>4</th>\n",
       "      <td>Voting Classifier</td>\n",
       "      <td>87.0</td>\n",
       "      <td>78.0</td>\n",
       "      <td>9.0</td>\n",
       "    </tr>\n",
       "    <tr>\n",
       "      <th>6</th>\n",
       "      <td>SGD Classifier</td>\n",
       "      <td>83.0</td>\n",
       "      <td>72.0</td>\n",
       "      <td>11.0</td>\n",
       "    </tr>\n",
       "    <tr>\n",
       "      <th>1</th>\n",
       "      <td>SVC</td>\n",
       "      <td>96.0</td>\n",
       "      <td>80.0</td>\n",
       "      <td>16.0</td>\n",
       "    </tr>\n",
       "    <tr>\n",
       "      <th>3</th>\n",
       "      <td>Random Forest</td>\n",
       "      <td>100.0</td>\n",
       "      <td>79.0</td>\n",
       "      <td>21.0</td>\n",
       "    </tr>\n",
       "  </tbody>\n",
       "</table>\n",
       "</div>"
      ],
      "text/plain": [
       "                models  train_accuracy_score  test_accuracy_score  \\\n",
       "5       KNN Classifier                  85.0                 82.0   \n",
       "2           Linear SVC                  86.0                 78.0   \n",
       "0  Logistic Regression                  87.0                 78.0   \n",
       "4    Voting Classifier                  87.0                 78.0   \n",
       "6       SGD Classifier                  83.0                 72.0   \n",
       "1                  SVC                  96.0                 80.0   \n",
       "3        Random Forest                 100.0                 79.0   \n",
       "\n",
       "   difference_train_test_score  \n",
       "5                          3.0  \n",
       "2                          8.0  \n",
       "0                          9.0  \n",
       "4                          9.0  \n",
       "6                         11.0  \n",
       "1                         16.0  \n",
       "3                         21.0  "
      ]
     },
     "execution_count": 49,
     "metadata": {},
     "output_type": "execute_result"
    }
   ],
   "source": [
    "data = {'models': model_names,\n",
    "        'train_accuracy_score': train_accuracy_score,\n",
    "        'test_accuracy_score': test_accuracy_score}\n",
    "df =pd.DataFrame(data)\n",
    "df[\"difference_train_test_score\"] = abs(df[\"train_accuracy_score\"] - df[\"test_accuracy_score\"])\n",
    "\n",
    "# Sorted by colomn difference_train_test_score\n",
    "df.sort_values(by='difference_train_test_score',ascending=True)"
   ]
  },
  {
   "cell_type": "markdown",
   "id": "9a4f475e",
   "metadata": {
    "papermill": {
     "duration": 0.039788,
     "end_time": "2024-08-31T14:10:10.697811",
     "exception": false,
     "start_time": "2024-08-31T14:10:10.658023",
     "status": "completed"
    },
    "tags": []
   },
   "source": [
    "### III-2 Learning curve"
   ]
  },
  {
   "cell_type": "code",
   "execution_count": 50,
   "id": "8a929b98",
   "metadata": {
    "execution": {
     "iopub.execute_input": "2024-08-31T14:10:10.780809Z",
     "iopub.status.busy": "2024-08-31T14:10:10.780180Z",
     "iopub.status.idle": "2024-08-31T14:10:10.788033Z",
     "shell.execute_reply": "2024-08-31T14:10:10.785713Z"
    },
    "papermill": {
     "duration": 0.051631,
     "end_time": "2024-08-31T14:10:10.791705",
     "exception": false,
     "start_time": "2024-08-31T14:10:10.740074",
     "status": "completed"
    },
    "tags": []
   },
   "outputs": [],
   "source": [
    "from sklearn.model_selection import GridSearchCV, StratifiedKFold\n",
    "from sklearn.model_selection import  learning_curve"
   ]
  },
  {
   "cell_type": "markdown",
   "id": "b0ce60bb",
   "metadata": {
    "papermill": {
     "duration": 0.042274,
     "end_time": "2024-08-31T14:10:10.876085",
     "exception": false,
     "start_time": "2024-08-31T14:10:10.833811",
     "status": "completed"
    },
    "tags": []
   },
   "source": [
    "#### KNN"
   ]
  },
  {
   "cell_type": "code",
   "execution_count": 51,
   "id": "04c8b7c8",
   "metadata": {
    "execution": {
     "iopub.execute_input": "2024-08-31T14:10:10.962935Z",
     "iopub.status.busy": "2024-08-31T14:10:10.962442Z",
     "iopub.status.idle": "2024-08-31T14:10:36.841946Z",
     "shell.execute_reply": "2024-08-31T14:10:36.840579Z"
    },
    "papermill": {
     "duration": 25.926789,
     "end_time": "2024-08-31T14:10:36.844619",
     "exception": false,
     "start_time": "2024-08-31T14:10:10.917830",
     "status": "completed"
    },
    "tags": []
   },
   "outputs": [
    {
     "data": {
      "text/plain": [
       "Text(0.5, 1.0, 'KNN: Learning cruve')"
      ]
     },
     "execution_count": 51,
     "metadata": {},
     "output_type": "execute_result"
    },
    {
     "data": {
      "image/png": "[encoded data removed]",
      "text/plain": [
       "<Figure size 500x400 with 1 Axes>"
      ]
     },
     "metadata": {},
     "output_type": "display_data"
    }
   ],
   "source": [
    "N, train_score, val_score = learning_curve(pipe_knn, X_train, y_train, cv=StratifiedKFold(10),\n",
    "                                              scoring=\"accuracy\", train_sizes=np.linspace(0.01, 1, 100))\n",
    "plt.figure(figsize=(5, 4))\n",
    "plt.plot(N, train_score.mean(axis=1), label='train score')\n",
    "plt.plot(N, val_score.mean(axis=1), label='val score')\n",
    "plt.legend()\n",
    "plt.title(\"KNN: Learning cruve\")"
   ]
  },
  {
   "cell_type": "markdown",
   "id": "081ae846",
   "metadata": {
    "papermill": {
     "duration": 0.039295,
     "end_time": "2024-08-31T14:10:36.923160",
     "exception": false,
     "start_time": "2024-08-31T14:10:36.883865",
     "status": "completed"
    },
    "tags": []
   },
   "source": [
    "### III-3 Searching for the best parameters"
   ]
  },
  {
   "cell_type": "code",
   "execution_count": 52,
   "id": "7b44e842",
   "metadata": {
    "execution": {
     "iopub.execute_input": "2024-08-31T14:10:37.003386Z",
     "iopub.status.busy": "2024-08-31T14:10:37.001989Z",
     "iopub.status.idle": "2024-08-31T14:10:37.008771Z",
     "shell.execute_reply": "2024-08-31T14:10:37.007505Z"
    },
    "papermill": {
     "duration": 0.04912,
     "end_time": "2024-08-31T14:10:37.011246",
     "exception": false,
     "start_time": "2024-08-31T14:10:36.962126",
     "status": "completed"
    },
    "tags": []
   },
   "outputs": [],
   "source": [
    "params_grid_knn = {\"model__n_neighbors\": [ i for i in range(3, 20)], \n",
    "                   \"model__weights\":[\"uniform\", \"distance\"],\n",
    "                   \"model__algorithm\": ['auto', 'ball_tree', 'kd_tree', 'brute']}"
   ]
  },
  {
   "cell_type": "code",
   "execution_count": 53,
   "id": "c19f52be",
   "metadata": {
    "execution": {
     "iopub.execute_input": "2024-08-31T14:10:37.093235Z",
     "iopub.status.busy": "2024-08-31T14:10:37.091813Z",
     "iopub.status.idle": "2024-08-31T14:10:51.605933Z",
     "shell.execute_reply": "2024-08-31T14:10:51.604237Z"
    },
    "papermill": {
     "duration": 14.559191,
     "end_time": "2024-08-31T14:10:51.608806",
     "exception": false,
     "start_time": "2024-08-31T14:10:37.049615",
     "status": "completed"
    },
    "tags": []
   },
   "outputs": [
    {
     "name": "stdout",
     "output_type": "stream",
     "text": [
      "Fitting 20 folds for each of 136 candidates, totalling 2720 fits\n",
      "Best hyperparameters:  {'model__algorithm': 'auto', 'model__n_neighbors': 18, 'model__weights': 'uniform'}\n",
      "Accuracy:  0.8026315789473685\n"
     ]
    }
   ],
   "source": [
    "# 3) \n",
    "#define gridSearh \n",
    "grid_search = GridSearchCV(pipe_knn, params_grid_knn, cv=StratifiedKFold(20), n_jobs=-1, verbose=1 )\n",
    "\n",
    "grid_search.fit(X_train, y_train)\n",
    "\n",
    "print(\"Best hyperparameters: \", grid_search.best_params_)\n",
    "\n",
    "accuracy = grid_search.best_estimator_.score(X_test, y_test)\n",
    "print(\"Accuracy: \", accuracy)"
   ]
  },
  {
   "cell_type": "code",
   "execution_count": 54,
   "id": "1c54ff86",
   "metadata": {
    "execution": {
     "iopub.execute_input": "2024-08-31T14:10:51.691285Z",
     "iopub.status.busy": "2024-08-31T14:10:51.690783Z",
     "iopub.status.idle": "2024-08-31T14:10:51.697027Z",
     "shell.execute_reply": "2024-08-31T14:10:51.695701Z"
    },
    "papermill": {
     "duration": 0.050721,
     "end_time": "2024-08-31T14:10:51.699922",
     "exception": false,
     "start_time": "2024-08-31T14:10:51.649201",
     "status": "completed"
    },
    "tags": []
   },
   "outputs": [],
   "source": [
    "best_model = grid_search.best_estimator_"
   ]
  },
  {
   "cell_type": "markdown",
   "id": "84a06731",
   "metadata": {
    "papermill": {
     "duration": 0.039342,
     "end_time": "2024-08-31T14:10:51.780221",
     "exception": false,
     "start_time": "2024-08-31T14:10:51.740879",
     "status": "completed"
    },
    "tags": []
   },
   "source": [
    "#### Let's evaluate the best model."
   ]
  },
  {
   "cell_type": "code",
   "execution_count": 55,
   "id": "e0e21720",
   "metadata": {
    "execution": {
     "iopub.execute_input": "2024-08-31T14:10:51.859770Z",
     "iopub.status.busy": "2024-08-31T14:10:51.859257Z",
     "iopub.status.idle": "2024-08-31T14:10:51.905862Z",
     "shell.execute_reply": "2024-08-31T14:10:51.903981Z"
    },
    "papermill": {
     "duration": 0.08989,
     "end_time": "2024-08-31T14:10:51.908787",
     "exception": false,
     "start_time": "2024-08-31T14:10:51.818897",
     "status": "completed"
    },
    "tags": []
   },
   "outputs": [
    {
     "name": "stdout",
     "output_type": "stream",
     "text": [
      "Test accuracy score: 80.0\n",
      "Train accuracy score: 85.0\n"
     ]
    }
   ],
   "source": [
    "scores = train_and_evaluate_model(best_model)\n",
    "print(f\"Train accuracy score: {scores[0]}\")"
   ]
  },
  {
   "cell_type": "code",
   "execution_count": 56,
   "id": "ebed73d8",
   "metadata": {
    "execution": {
     "iopub.execute_input": "2024-08-31T14:10:51.988672Z",
     "iopub.status.busy": "2024-08-31T14:10:51.988211Z",
     "iopub.status.idle": "2024-08-31T14:10:52.007332Z",
     "shell.execute_reply": "2024-08-31T14:10:52.006090Z"
    },
    "papermill": {
     "duration": 0.062375,
     "end_time": "2024-08-31T14:10:52.009912",
     "exception": false,
     "start_time": "2024-08-31T14:10:51.947537",
     "status": "completed"
    },
    "scrolled": true,
    "tags": []
   },
   "outputs": [
    {
     "data": {
      "text/html": [
       "<div>\n",
       "<style scoped>\n",
       "    .dataframe tbody tr th:only-of-type {\n",
       "        vertical-align: middle;\n",
       "    }\n",
       "\n",
       "    .dataframe tbody tr th {\n",
       "        vertical-align: top;\n",
       "    }\n",
       "\n",
       "    .dataframe thead th {\n",
       "        text-align: right;\n",
       "    }\n",
       "</style>\n",
       "<table border=\"1\" class=\"dataframe\">\n",
       "  <thead>\n",
       "    <tr style=\"text-align: right;\">\n",
       "      <th></th>\n",
       "      <th>age</th>\n",
       "      <th>trtbps</th>\n",
       "      <th>thalachh</th>\n",
       "      <th>oldpeak</th>\n",
       "      <th>slp</th>\n",
       "      <th>cp</th>\n",
       "      <th>caa</th>\n",
       "      <th>thall</th>\n",
       "      <th>exng</th>\n",
       "      <th>sex_0</th>\n",
       "      <th>sex_1</th>\n",
       "    </tr>\n",
       "  </thead>\n",
       "  <tbody>\n",
       "    <tr>\n",
       "      <th>223</th>\n",
       "      <td>56</td>\n",
       "      <td>200</td>\n",
       "      <td>133</td>\n",
       "      <td>4.0</td>\n",
       "      <td>0</td>\n",
       "      <td>0</td>\n",
       "      <td>2</td>\n",
       "      <td>3</td>\n",
       "      <td>1</td>\n",
       "      <td>True</td>\n",
       "      <td>False</td>\n",
       "    </tr>\n",
       "    <tr>\n",
       "      <th>236</th>\n",
       "      <td>58</td>\n",
       "      <td>125</td>\n",
       "      <td>171</td>\n",
       "      <td>0.0</td>\n",
       "      <td>2</td>\n",
       "      <td>0</td>\n",
       "      <td>2</td>\n",
       "      <td>3</td>\n",
       "      <td>0</td>\n",
       "      <td>False</td>\n",
       "      <td>True</td>\n",
       "    </tr>\n",
       "    <tr>\n",
       "      <th>240</th>\n",
       "      <td>70</td>\n",
       "      <td>160</td>\n",
       "      <td>112</td>\n",
       "      <td>2.9</td>\n",
       "      <td>1</td>\n",
       "      <td>2</td>\n",
       "      <td>1</td>\n",
       "      <td>3</td>\n",
       "      <td>1</td>\n",
       "      <td>False</td>\n",
       "      <td>True</td>\n",
       "    </tr>\n",
       "    <tr>\n",
       "      <th>255</th>\n",
       "      <td>45</td>\n",
       "      <td>142</td>\n",
       "      <td>147</td>\n",
       "      <td>0.0</td>\n",
       "      <td>1</td>\n",
       "      <td>0</td>\n",
       "      <td>3</td>\n",
       "      <td>3</td>\n",
       "      <td>1</td>\n",
       "      <td>False</td>\n",
       "      <td>True</td>\n",
       "    </tr>\n",
       "    <tr>\n",
       "      <th>287</th>\n",
       "      <td>57</td>\n",
       "      <td>154</td>\n",
       "      <td>164</td>\n",
       "      <td>0.0</td>\n",
       "      <td>2</td>\n",
       "      <td>1</td>\n",
       "      <td>1</td>\n",
       "      <td>2</td>\n",
       "      <td>0</td>\n",
       "      <td>False</td>\n",
       "      <td>True</td>\n",
       "    </tr>\n",
       "  </tbody>\n",
       "</table>\n",
       "</div>"
      ],
      "text/plain": [
       "     age  trtbps  thalachh  oldpeak  slp  cp  caa  thall  exng  sex_0  sex_1\n",
       "223   56     200       133      4.0    0   0    2      3     1   True  False\n",
       "236   58     125       171      0.0    2   0    2      3     0  False   True\n",
       "240   70     160       112      2.9    1   2    1      3     1  False   True\n",
       "255   45     142       147      0.0    1   0    3      3     1  False   True\n",
       "287   57     154       164      0.0    2   1    1      2     0  False   True"
      ]
     },
     "execution_count": 56,
     "metadata": {},
     "output_type": "execute_result"
    }
   ],
   "source": [
    "X_test.head()"
   ]
  },
  {
   "cell_type": "code",
   "execution_count": 57,
   "id": "7d9515a5",
   "metadata": {
    "execution": {
     "iopub.execute_input": "2024-08-31T14:10:52.094260Z",
     "iopub.status.busy": "2024-08-31T14:10:52.093779Z",
     "iopub.status.idle": "2024-08-31T14:10:52.100307Z",
     "shell.execute_reply": "2024-08-31T14:10:52.099096Z"
    },
    "papermill": {
     "duration": 0.052363,
     "end_time": "2024-08-31T14:10:52.103247",
     "exception": false,
     "start_time": "2024-08-31T14:10:52.050884",
     "status": "completed"
    },
    "tags": []
   },
   "outputs": [],
   "source": [
    "X_test, y_test = X_test.reset_index(drop=True), y_test.reset_index(drop=True)"
   ]
  },
  {
   "cell_type": "code",
   "execution_count": 58,
   "id": "de7a37b4",
   "metadata": {
    "execution": {
     "iopub.execute_input": "2024-08-31T14:10:52.185664Z",
     "iopub.status.busy": "2024-08-31T14:10:52.185175Z",
     "iopub.status.idle": "2024-08-31T14:10:52.200161Z",
     "shell.execute_reply": "2024-08-31T14:10:52.198747Z"
    },
    "papermill": {
     "duration": 0.058869,
     "end_time": "2024-08-31T14:10:52.202889",
     "exception": false,
     "start_time": "2024-08-31T14:10:52.144020",
     "status": "completed"
    },
    "tags": []
   },
   "outputs": [
    {
     "name": "stdout",
     "output_type": "stream",
     "text": [
      "Predicted class: 1\n",
      "Actual class: 1\n"
     ]
    }
   ],
   "source": [
    "random_index = np.random.randint(X_test.index.min(), X_test.index.max())\n",
    "X = X_test.loc[X_test.index==random_index, :]\n",
    "\n",
    "print(f\"Predicted class: {best_model.predict(X)[0]}\")\n",
    "print(f\"Actual class: {y_test.loc[y_test.index==random_index].values[0]}\")"
   ]
  },
  {
   "cell_type": "markdown",
   "id": "facb59ca",
   "metadata": {
    "papermill": {
     "duration": 0.038379,
     "end_time": "2024-08-31T14:10:52.281121",
     "exception": false,
     "start_time": "2024-08-31T14:10:52.242742",
     "status": "completed"
    },
    "tags": []
   },
   "source": [
    "For future analysis, it would be interesting to:\n",
    "\n",
    "1. Perform feature engineering to create new features that might improve the model\n",
    "2. Investigate the impact of O2 saturation levels on heart attack prediction\n",
    "\n",
    "\n",
    "What do you think would be useful to explore next? Let me know in the comments."
   ]
  }
 ],
 "metadata": {
  "kaggle": {
   "accelerator": "none",
   "dataSources": [
    {
     "datasetId": 1226038,
     "sourceId": 2047221,
     "sourceType": "datasetVersion"
    }
   ],
   "dockerImageVersionId": 30761,
   "isGpuEnabled": false,
   "isInternetEnabled": true,
   "language": "python",
   "sourceType": "notebook"
  },
  "kernelspec": {
   "display_name": "Python 3 (ipykernel)",
   "language": "python",
   "name": "python3"
  },
  "language_info": {
   "codemirror_mode": {
    "name": "ipython",
    "version": 3
   },
   "file_extension": ".py",
   "mimetype": "text/x-python",
   "name": "python",
   "nbconvert_exporter": "python",
   "pygments_lexer": "ipython3",
   "version": "3.11.9"
  },
  "papermill": {
   "default_parameters": {},
   "duration": 65.628978,
   "end_time": "2024-08-31T14:10:54.943683",
   "environment_variables": {},
   "exception": null,
   "input_path": "__notebook__.ipynb",
   "output_path": "__notebook__.ipynb",
   "parameters": {},
   "start_time": "2024-08-31T14:09:49.314705",
   "version": "2.6.0"
  }
 },
 "nbformat": 4,
 "nbformat_minor": 5
}
