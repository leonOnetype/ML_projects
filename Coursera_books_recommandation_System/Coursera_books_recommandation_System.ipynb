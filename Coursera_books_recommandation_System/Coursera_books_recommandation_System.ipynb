{
 "cells": [
  {
   "cell_type": "code",
   "execution_count": null,
   "id": "4f31ba40-8aaf-4505-a2a8-7d6e89fc2263",
   "metadata": {},
   "outputs": [],
   "source": []
  },
  {
   "cell_type": "markdown",
   "id": "8919d191-80e5-48ae-ae49-ec56b045e087",
   "metadata": {},
   "source": [
    "### Import of some necessary libraries"
   ]
  },
  {
   "cell_type": "code",
   "execution_count": 1,
   "id": "1a143922-f74a-4a6f-9ddb-2fbfbe034af6",
   "metadata": {},
   "outputs": [],
   "source": [
    "import pandas as pd\n",
    "import numpy as np\n",
    "import matplotlib.pyplot as plt\n",
    "import seaborn as sns\n",
    "\n",
    "import warnings"
   ]
  },
  {
   "cell_type": "code",
   "execution_count": 2,
   "id": "d20a8a70-7b80-4142-81ca-f32f38096b55",
   "metadata": {
    "tags": []
   },
   "outputs": [],
   "source": [
    "warnings.filterwarnings('ignore')"
   ]
  },
  {
   "cell_type": "markdown",
   "id": "fda53c59-08d8-4bf4-8580-3303a2e01c80",
   "metadata": {},
   "source": [
    " "
   ]
  },
  {
   "cell_type": "markdown",
   "id": "e0905452-2de0-4bf0-8d3a-0282d5b32ff8",
   "metadata": {},
   "source": [
    "### I- Familiarization with the dataset"
   ]
  },
  {
   "cell_type": "code",
   "execution_count": 3,
   "id": "952a9068-1e13-42f9-8f12-b7a6411f5190",
   "metadata": {
    "tags": []
   },
   "outputs": [
    {
     "data": {
      "text/html": [
       "<div>\n",
       "<style scoped>\n",
       "    .dataframe tbody tr th:only-of-type {\n",
       "        vertical-align: middle;\n",
       "    }\n",
       "\n",
       "    .dataframe tbody tr th {\n",
       "        vertical-align: top;\n",
       "    }\n",
       "\n",
       "    .dataframe thead th {\n",
       "        text-align: right;\n",
       "    }\n",
       "</style>\n",
       "<table border=\"1\" class=\"dataframe\">\n",
       "  <thead>\n",
       "    <tr style=\"text-align: right;\">\n",
       "      <th></th>\n",
       "      <th>Course Name</th>\n",
       "      <th>University</th>\n",
       "      <th>Difficulty Level</th>\n",
       "      <th>Course Rating</th>\n",
       "      <th>Course URL</th>\n",
       "      <th>Course Description</th>\n",
       "      <th>Skills</th>\n",
       "    </tr>\n",
       "  </thead>\n",
       "  <tbody>\n",
       "    <tr>\n",
       "      <th>0</th>\n",
       "      <td>Write A Feature Length Screenplay For Film Or ...</td>\n",
       "      <td>Michigan State University</td>\n",
       "      <td>Beginner</td>\n",
       "      <td>4.8</td>\n",
       "      <td>https://www.coursera.org/learn/write-a-feature...</td>\n",
       "      <td>Write a Full Length Feature Film Script  In th...</td>\n",
       "      <td>Drama  Comedy  peering  screenwriting  film  D...</td>\n",
       "    </tr>\n",
       "    <tr>\n",
       "      <th>1</th>\n",
       "      <td>Business Strategy: Business Model Canvas Analy...</td>\n",
       "      <td>Coursera Project Network</td>\n",
       "      <td>Beginner</td>\n",
       "      <td>4.8</td>\n",
       "      <td>https://www.coursera.org/learn/canvas-analysis...</td>\n",
       "      <td>By the end of this guided project, you will be...</td>\n",
       "      <td>Finance  business plan  persona (user experien...</td>\n",
       "    </tr>\n",
       "    <tr>\n",
       "      <th>2</th>\n",
       "      <td>Silicon Thin Film Solar Cells</td>\n",
       "      <td>�cole Polytechnique</td>\n",
       "      <td>Advanced</td>\n",
       "      <td>4.1</td>\n",
       "      <td>https://www.coursera.org/learn/silicon-thin-fi...</td>\n",
       "      <td>This course consists of a general presentation...</td>\n",
       "      <td>chemistry  physics  Solar Energy  film  lambda...</td>\n",
       "    </tr>\n",
       "    <tr>\n",
       "      <th>3</th>\n",
       "      <td>Finance for Managers</td>\n",
       "      <td>IESE Business School</td>\n",
       "      <td>Intermediate</td>\n",
       "      <td>4.8</td>\n",
       "      <td>https://www.coursera.org/learn/operational-fin...</td>\n",
       "      <td>When it comes to numbers, there is always more...</td>\n",
       "      <td>accounts receivable  dupont analysis  analysis...</td>\n",
       "    </tr>\n",
       "    <tr>\n",
       "      <th>4</th>\n",
       "      <td>Retrieve Data using Single-Table SQL Queries</td>\n",
       "      <td>Coursera Project Network</td>\n",
       "      <td>Beginner</td>\n",
       "      <td>4.6</td>\n",
       "      <td>https://www.coursera.org/learn/single-table-sq...</td>\n",
       "      <td>In this course you�ll learn how to effectively...</td>\n",
       "      <td>Data Analysis  select (sql)  database manageme...</td>\n",
       "    </tr>\n",
       "  </tbody>\n",
       "</table>\n",
       "</div>"
      ],
      "text/plain": [
       "                                         Course Name  \\\n",
       "0  Write A Feature Length Screenplay For Film Or ...   \n",
       "1  Business Strategy: Business Model Canvas Analy...   \n",
       "2                      Silicon Thin Film Solar Cells   \n",
       "3                               Finance for Managers   \n",
       "4       Retrieve Data using Single-Table SQL Queries   \n",
       "\n",
       "                  University Difficulty Level Course Rating  \\\n",
       "0  Michigan State University         Beginner           4.8   \n",
       "1   Coursera Project Network         Beginner           4.8   \n",
       "2        �cole Polytechnique         Advanced           4.1   \n",
       "3       IESE Business School     Intermediate           4.8   \n",
       "4   Coursera Project Network         Beginner           4.6   \n",
       "\n",
       "                                          Course URL  \\\n",
       "0  https://www.coursera.org/learn/write-a-feature...   \n",
       "1  https://www.coursera.org/learn/canvas-analysis...   \n",
       "2  https://www.coursera.org/learn/silicon-thin-fi...   \n",
       "3  https://www.coursera.org/learn/operational-fin...   \n",
       "4  https://www.coursera.org/learn/single-table-sq...   \n",
       "\n",
       "                                  Course Description  \\\n",
       "0  Write a Full Length Feature Film Script  In th...   \n",
       "1  By the end of this guided project, you will be...   \n",
       "2  This course consists of a general presentation...   \n",
       "3  When it comes to numbers, there is always more...   \n",
       "4  In this course you�ll learn how to effectively...   \n",
       "\n",
       "                                              Skills  \n",
       "0  Drama  Comedy  peering  screenwriting  film  D...  \n",
       "1  Finance  business plan  persona (user experien...  \n",
       "2  chemistry  physics  Solar Energy  film  lambda...  \n",
       "3  accounts receivable  dupont analysis  analysis...  \n",
       "4  Data Analysis  select (sql)  database manageme...  "
      ]
     },
     "execution_count": 3,
     "metadata": {},
     "output_type": "execute_result"
    }
   ],
   "source": [
    "# Load the dataset\n",
    "df = pd.read_csv(\"datas/Coursera.csv\")\n",
    "df.head()"
   ]
  },
  {
   "cell_type": "markdown",
   "id": "1b33c1d4-d7bc-4c89-8c25-30ce5e99857e",
   "metadata": {},
   "source": [
    "### Basic data investigation"
   ]
  },
  {
   "cell_type": "code",
   "execution_count": 4,
   "id": "375a9b27-d02e-452c-b94d-1e2bd8d92bd5",
   "metadata": {
    "tags": []
   },
   "outputs": [
    {
     "name": "stdout",
     "output_type": "stream",
     "text": [
      "Size of dataset:  (3522, 7)\n"
     ]
    }
   ],
   "source": [
    "print(\"Size of dataset: \", df.shape)"
   ]
  },
  {
   "cell_type": "code",
   "execution_count": 5,
   "id": "7de91888-1fc4-433d-8c09-387e0cd1b6ed",
   "metadata": {
    "tags": []
   },
   "outputs": [
    {
     "name": "stdout",
     "output_type": "stream",
     "text": [
      "Number of duplicated rows:  98\n"
     ]
    }
   ],
   "source": [
    "print(\"Number of duplicated rows: \", df.duplicated().sum())"
   ]
  },
  {
   "cell_type": "code",
   "execution_count": 6,
   "id": "143e0af6-c2c3-4f27-b1ff-a9fdf20df26e",
   "metadata": {
    "tags": []
   },
   "outputs": [
    {
     "name": "stdout",
     "output_type": "stream",
     "text": [
      "<class 'pandas.core.frame.DataFrame'>\n",
      "RangeIndex: 3522 entries, 0 to 3521\n",
      "Data columns (total 7 columns):\n",
      " #   Column              Non-Null Count  Dtype \n",
      "---  ------              --------------  ----- \n",
      " 0   Course Name         3522 non-null   object\n",
      " 1   University          3522 non-null   object\n",
      " 2   Difficulty Level    3522 non-null   object\n",
      " 3   Course Rating       3522 non-null   object\n",
      " 4   Course URL          3522 non-null   object\n",
      " 5   Course Description  3522 non-null   object\n",
      " 6   Skills              3522 non-null   object\n",
      "dtypes: object(7)\n",
      "memory usage: 192.7+ KB\n"
     ]
    }
   ],
   "source": [
    "df.info()"
   ]
  },
  {
   "cell_type": "markdown",
   "id": "8d3f39f2-1068-4c35-b0a1-932c05817f0c",
   "metadata": {},
   "source": [
    "Nikel: There are no missing values in any of the columns"
   ]
  },
  {
   "cell_type": "markdown",
   "id": "2cc950ee-42d7-432b-846d-3571362aa842",
   "metadata": {},
   "source": [
    "### II- Data cleaning"
   ]
  },
  {
   "cell_type": "code",
   "execution_count": 7,
   "id": "79de48cb-df59-4b70-99b9-c5edea793256",
   "metadata": {
    "tags": []
   },
   "outputs": [
    {
     "data": {
      "text/plain": [
       "0"
      ]
     },
     "execution_count": 7,
     "metadata": {},
     "output_type": "execute_result"
    }
   ],
   "source": [
    "# Drop duplicated rows\n",
    "df.drop_duplicates(inplace=True)\n",
    "df.duplicated().sum()"
   ]
  },
  {
   "cell_type": "code",
   "execution_count": 8,
   "id": "ba0103ea-0697-4bf9-b3bb-f69f7c8d9086",
   "metadata": {
    "tags": []
   },
   "outputs": [
    {
     "data": {
      "text/plain": [
       "Index(['Course Name', 'University', 'Difficulty Level', 'Course Rating',\n",
       "       'Course URL', 'Course Description', 'Skills'],\n",
       "      dtype='object')"
      ]
     },
     "execution_count": 8,
     "metadata": {},
     "output_type": "execute_result"
    }
   ],
   "source": [
    "df.columns"
   ]
  },
  {
   "cell_type": "code",
   "execution_count": 9,
   "id": "ebdf1f70-cc2c-475d-ac4b-275978079327",
   "metadata": {
    "tags": []
   },
   "outputs": [],
   "source": [
    "def rename_col(col_name):\n",
    "    col_name = col_name.split(' ')\n",
    "    col_name = '_'.join(col_name)\n",
    "    return col_name"
   ]
  },
  {
   "cell_type": "code",
   "execution_count": 10,
   "id": "ee7f6995-8a9e-484b-9cf5-66832fc1af80",
   "metadata": {
    "tags": []
   },
   "outputs": [
    {
     "name": "stdout",
     "output_type": "stream",
     "text": [
      "Columns names before renaming:  ['Course Name', 'University', 'Difficulty Level', 'Course Rating', 'Course URL', 'Course Description', 'Skills']\n",
      "Columns names after renaming:  ['Course_Name', 'University', 'Difficulty_Level', 'Course_Rating', 'Course_URL', 'Course_Description', 'Skills']\n"
     ]
    }
   ],
   "source": [
    "print(\"Columns names before renaming: \", df.columns.to_list())\n",
    "df.columns = [rename_col(col) for col in df.columns]\n",
    "print(\"Columns names after renaming: \", df.columns.to_list())"
   ]
  },
  {
   "cell_type": "markdown",
   "id": "74378d98-d9b9-4055-8de7-3453206631b4",
   "metadata": {},
   "source": [
    "### III- Feature selection"
   ]
  },
  {
   "cell_type": "markdown",
   "id": "4b2f81f8-2021-483d-8a40-40a0a39e181b",
   "metadata": {},
   "source": [
    "Our goal is to make a content-base recommandation system, so we will only retain features related to the content of a course. We will therefore select:\n",
    "- **Course_Name**: The name of the course\n",
    "- **Course_Description**: The descrition of the course\n",
    "- **Skills**: The topics covered in the course \n",
    "- **Difficulty_Level**:  The course's level difficulty"
   ]
  },
  {
   "cell_type": "code",
   "execution_count": 11,
   "id": "7a4a16e1-02d9-4422-ba7f-0ec06add111a",
   "metadata": {
    "tags": []
   },
   "outputs": [],
   "source": [
    "features_selected = [\"Course_Name\", \"Course_Description\", \"Skills\", \"Difficulty_Level\"]"
   ]
  },
  {
   "cell_type": "code",
   "execution_count": 12,
   "id": "cb969aae-6fd3-47e3-826c-08a34f0491c8",
   "metadata": {
    "tags": []
   },
   "outputs": [
    {
     "data": {
      "text/html": [
       "<div>\n",
       "<style scoped>\n",
       "    .dataframe tbody tr th:only-of-type {\n",
       "        vertical-align: middle;\n",
       "    }\n",
       "\n",
       "    .dataframe tbody tr th {\n",
       "        vertical-align: top;\n",
       "    }\n",
       "\n",
       "    .dataframe thead th {\n",
       "        text-align: right;\n",
       "    }\n",
       "</style>\n",
       "<table border=\"1\" class=\"dataframe\">\n",
       "  <thead>\n",
       "    <tr style=\"text-align: right;\">\n",
       "      <th></th>\n",
       "      <th>Course_Name</th>\n",
       "      <th>Course_Description</th>\n",
       "      <th>Skills</th>\n",
       "      <th>Difficulty_Level</th>\n",
       "    </tr>\n",
       "  </thead>\n",
       "  <tbody>\n",
       "    <tr>\n",
       "      <th>0</th>\n",
       "      <td>Write A Feature Length Screenplay For Film Or ...</td>\n",
       "      <td>Write a Full Length Feature Film Script  In th...</td>\n",
       "      <td>Drama  Comedy  peering  screenwriting  film  D...</td>\n",
       "      <td>Beginner</td>\n",
       "    </tr>\n",
       "    <tr>\n",
       "      <th>1</th>\n",
       "      <td>Business Strategy: Business Model Canvas Analy...</td>\n",
       "      <td>By the end of this guided project, you will be...</td>\n",
       "      <td>Finance  business plan  persona (user experien...</td>\n",
       "      <td>Beginner</td>\n",
       "    </tr>\n",
       "    <tr>\n",
       "      <th>2</th>\n",
       "      <td>Silicon Thin Film Solar Cells</td>\n",
       "      <td>This course consists of a general presentation...</td>\n",
       "      <td>chemistry  physics  Solar Energy  film  lambda...</td>\n",
       "      <td>Advanced</td>\n",
       "    </tr>\n",
       "    <tr>\n",
       "      <th>3</th>\n",
       "      <td>Finance for Managers</td>\n",
       "      <td>When it comes to numbers, there is always more...</td>\n",
       "      <td>accounts receivable  dupont analysis  analysis...</td>\n",
       "      <td>Intermediate</td>\n",
       "    </tr>\n",
       "    <tr>\n",
       "      <th>4</th>\n",
       "      <td>Retrieve Data using Single-Table SQL Queries</td>\n",
       "      <td>In this course you�ll learn how to effectively...</td>\n",
       "      <td>Data Analysis  select (sql)  database manageme...</td>\n",
       "      <td>Beginner</td>\n",
       "    </tr>\n",
       "  </tbody>\n",
       "</table>\n",
       "</div>"
      ],
      "text/plain": [
       "                                         Course_Name  \\\n",
       "0  Write A Feature Length Screenplay For Film Or ...   \n",
       "1  Business Strategy: Business Model Canvas Analy...   \n",
       "2                      Silicon Thin Film Solar Cells   \n",
       "3                               Finance for Managers   \n",
       "4       Retrieve Data using Single-Table SQL Queries   \n",
       "\n",
       "                                  Course_Description  \\\n",
       "0  Write a Full Length Feature Film Script  In th...   \n",
       "1  By the end of this guided project, you will be...   \n",
       "2  This course consists of a general presentation...   \n",
       "3  When it comes to numbers, there is always more...   \n",
       "4  In this course you�ll learn how to effectively...   \n",
       "\n",
       "                                              Skills Difficulty_Level  \n",
       "0  Drama  Comedy  peering  screenwriting  film  D...         Beginner  \n",
       "1  Finance  business plan  persona (user experien...         Beginner  \n",
       "2  chemistry  physics  Solar Energy  film  lambda...         Advanced  \n",
       "3  accounts receivable  dupont analysis  analysis...     Intermediate  \n",
       "4  Data Analysis  select (sql)  database manageme...         Beginner  "
      ]
     },
     "execution_count": 12,
     "metadata": {},
     "output_type": "execute_result"
    }
   ],
   "source": [
    "new_df = df[features_selected]\n",
    "new_df.head()"
   ]
  },
  {
   "cell_type": "markdown",
   "id": "867ea0f0-0f5d-4f02-8a03-7146e57df3cf",
   "metadata": {},
   "source": [
    "**Then we combine the content of all these features to form a single feature**"
   ]
  },
  {
   "cell_type": "code",
   "execution_count": 13,
   "id": "4432cafc-eeb7-4e8e-b578-d912f94b0259",
   "metadata": {
    "tags": []
   },
   "outputs": [
    {
     "data": {
      "text/html": [
       "<div>\n",
       "<style scoped>\n",
       "    .dataframe tbody tr th:only-of-type {\n",
       "        vertical-align: middle;\n",
       "    }\n",
       "\n",
       "    .dataframe tbody tr th {\n",
       "        vertical-align: top;\n",
       "    }\n",
       "\n",
       "    .dataframe thead th {\n",
       "        text-align: right;\n",
       "    }\n",
       "</style>\n",
       "<table border=\"1\" class=\"dataframe\">\n",
       "  <thead>\n",
       "    <tr style=\"text-align: right;\">\n",
       "      <th></th>\n",
       "      <th>Course_Name</th>\n",
       "      <th>Course_Description</th>\n",
       "      <th>Skills</th>\n",
       "      <th>Difficulty_Level</th>\n",
       "      <th>description_key_words</th>\n",
       "    </tr>\n",
       "  </thead>\n",
       "  <tbody>\n",
       "    <tr>\n",
       "      <th>0</th>\n",
       "      <td>Write A Feature Length Screenplay For Film Or ...</td>\n",
       "      <td>Write a Full Length Feature Film Script  In th...</td>\n",
       "      <td>Drama  Comedy  peering  screenwriting  film  D...</td>\n",
       "      <td>Beginner</td>\n",
       "      <td>Write A Feature Length Screenplay For Film Or...</td>\n",
       "    </tr>\n",
       "    <tr>\n",
       "      <th>1</th>\n",
       "      <td>Business Strategy: Business Model Canvas Analy...</td>\n",
       "      <td>By the end of this guided project, you will be...</td>\n",
       "      <td>Finance  business plan  persona (user experien...</td>\n",
       "      <td>Beginner</td>\n",
       "      <td>Business Strategy: Business Model Canvas Anal...</td>\n",
       "    </tr>\n",
       "    <tr>\n",
       "      <th>2</th>\n",
       "      <td>Silicon Thin Film Solar Cells</td>\n",
       "      <td>This course consists of a general presentation...</td>\n",
       "      <td>chemistry  physics  Solar Energy  film  lambda...</td>\n",
       "      <td>Advanced</td>\n",
       "      <td>Silicon Thin Film Solar Cells This course con...</td>\n",
       "    </tr>\n",
       "    <tr>\n",
       "      <th>3</th>\n",
       "      <td>Finance for Managers</td>\n",
       "      <td>When it comes to numbers, there is always more...</td>\n",
       "      <td>accounts receivable  dupont analysis  analysis...</td>\n",
       "      <td>Intermediate</td>\n",
       "      <td>Finance for Managers When it comes to numbers...</td>\n",
       "    </tr>\n",
       "    <tr>\n",
       "      <th>4</th>\n",
       "      <td>Retrieve Data using Single-Table SQL Queries</td>\n",
       "      <td>In this course you�ll learn how to effectively...</td>\n",
       "      <td>Data Analysis  select (sql)  database manageme...</td>\n",
       "      <td>Beginner</td>\n",
       "      <td>Retrieve Data using Single-Table SQL Queries ...</td>\n",
       "    </tr>\n",
       "  </tbody>\n",
       "</table>\n",
       "</div>"
      ],
      "text/plain": [
       "                                         Course_Name  \\\n",
       "0  Write A Feature Length Screenplay For Film Or ...   \n",
       "1  Business Strategy: Business Model Canvas Analy...   \n",
       "2                      Silicon Thin Film Solar Cells   \n",
       "3                               Finance for Managers   \n",
       "4       Retrieve Data using Single-Table SQL Queries   \n",
       "\n",
       "                                  Course_Description  \\\n",
       "0  Write a Full Length Feature Film Script  In th...   \n",
       "1  By the end of this guided project, you will be...   \n",
       "2  This course consists of a general presentation...   \n",
       "3  When it comes to numbers, there is always more...   \n",
       "4  In this course you�ll learn how to effectively...   \n",
       "\n",
       "                                              Skills Difficulty_Level  \\\n",
       "0  Drama  Comedy  peering  screenwriting  film  D...         Beginner   \n",
       "1  Finance  business plan  persona (user experien...         Beginner   \n",
       "2  chemistry  physics  Solar Energy  film  lambda...         Advanced   \n",
       "3  accounts receivable  dupont analysis  analysis...     Intermediate   \n",
       "4  Data Analysis  select (sql)  database manageme...         Beginner   \n",
       "\n",
       "                               description_key_words  \n",
       "0   Write A Feature Length Screenplay For Film Or...  \n",
       "1   Business Strategy: Business Model Canvas Anal...  \n",
       "2   Silicon Thin Film Solar Cells This course con...  \n",
       "3   Finance for Managers When it comes to numbers...  \n",
       "4   Retrieve Data using Single-Table SQL Queries ...  "
      ]
     },
     "execution_count": 13,
     "metadata": {},
     "output_type": "execute_result"
    }
   ],
   "source": [
    "new_df[\"description_key_words\"] = ['' for i in range(new_df.shape[0])]\n",
    "for col in features_selected:\n",
    "    new_df[\"description_key_words\"] += [' ' for i in range(new_df.shape[0])] + new_df[col]\n",
    "new_df.head()"
   ]
  },
  {
   "cell_type": "markdown",
   "id": "32a6c5ec-d251-4552-a3d0-6e4c660db0b1",
   "metadata": {},
   "source": [
    "**We maintain now only  **Course_Name** et **description_key_words****"
   ]
  },
  {
   "cell_type": "code",
   "execution_count": 14,
   "id": "d6b13ef9-2168-4e3e-a69e-1efe19be6f2a",
   "metadata": {
    "tags": []
   },
   "outputs": [
    {
     "data": {
      "text/html": [
       "<div>\n",
       "<style scoped>\n",
       "    .dataframe tbody tr th:only-of-type {\n",
       "        vertical-align: middle;\n",
       "    }\n",
       "\n",
       "    .dataframe tbody tr th {\n",
       "        vertical-align: top;\n",
       "    }\n",
       "\n",
       "    .dataframe thead th {\n",
       "        text-align: right;\n",
       "    }\n",
       "</style>\n",
       "<table border=\"1\" class=\"dataframe\">\n",
       "  <thead>\n",
       "    <tr style=\"text-align: right;\">\n",
       "      <th></th>\n",
       "      <th>Course_Name</th>\n",
       "      <th>description_key_words</th>\n",
       "    </tr>\n",
       "  </thead>\n",
       "  <tbody>\n",
       "    <tr>\n",
       "      <th>0</th>\n",
       "      <td>Write A Feature Length Screenplay For Film Or ...</td>\n",
       "      <td>Write A Feature Length Screenplay For Film Or...</td>\n",
       "    </tr>\n",
       "    <tr>\n",
       "      <th>1</th>\n",
       "      <td>Business Strategy: Business Model Canvas Analy...</td>\n",
       "      <td>Business Strategy: Business Model Canvas Anal...</td>\n",
       "    </tr>\n",
       "    <tr>\n",
       "      <th>2</th>\n",
       "      <td>Silicon Thin Film Solar Cells</td>\n",
       "      <td>Silicon Thin Film Solar Cells This course con...</td>\n",
       "    </tr>\n",
       "    <tr>\n",
       "      <th>3</th>\n",
       "      <td>Finance for Managers</td>\n",
       "      <td>Finance for Managers When it comes to numbers...</td>\n",
       "    </tr>\n",
       "    <tr>\n",
       "      <th>4</th>\n",
       "      <td>Retrieve Data using Single-Table SQL Queries</td>\n",
       "      <td>Retrieve Data using Single-Table SQL Queries ...</td>\n",
       "    </tr>\n",
       "    <tr>\n",
       "      <th>...</th>\n",
       "      <td>...</td>\n",
       "      <td>...</td>\n",
       "    </tr>\n",
       "    <tr>\n",
       "      <th>3517</th>\n",
       "      <td>Capstone: Retrieving, Processing, and Visualiz...</td>\n",
       "      <td>Capstone: Retrieving, Processing, and Visuali...</td>\n",
       "    </tr>\n",
       "    <tr>\n",
       "      <th>3518</th>\n",
       "      <td>Patrick Henry: Forgotten Founder</td>\n",
       "      <td>Patrick Henry: Forgotten Founder �Give me lib...</td>\n",
       "    </tr>\n",
       "    <tr>\n",
       "      <th>3519</th>\n",
       "      <td>Business intelligence and data analytics: Gene...</td>\n",
       "      <td>Business intelligence and data analytics: Gen...</td>\n",
       "    </tr>\n",
       "    <tr>\n",
       "      <th>3520</th>\n",
       "      <td>Rigid Body Dynamics</td>\n",
       "      <td>Rigid Body Dynamics This course teaches dynam...</td>\n",
       "    </tr>\n",
       "    <tr>\n",
       "      <th>3521</th>\n",
       "      <td>Architecting with Google Kubernetes Engine: Pr...</td>\n",
       "      <td>Architecting with Google Kubernetes Engine: P...</td>\n",
       "    </tr>\n",
       "  </tbody>\n",
       "</table>\n",
       "<p>3424 rows × 2 columns</p>\n",
       "</div>"
      ],
      "text/plain": [
       "                                            Course_Name  \\\n",
       "0     Write A Feature Length Screenplay For Film Or ...   \n",
       "1     Business Strategy: Business Model Canvas Analy...   \n",
       "2                         Silicon Thin Film Solar Cells   \n",
       "3                                  Finance for Managers   \n",
       "4          Retrieve Data using Single-Table SQL Queries   \n",
       "...                                                 ...   \n",
       "3517  Capstone: Retrieving, Processing, and Visualiz...   \n",
       "3518                   Patrick Henry: Forgotten Founder   \n",
       "3519  Business intelligence and data analytics: Gene...   \n",
       "3520                                Rigid Body Dynamics   \n",
       "3521  Architecting with Google Kubernetes Engine: Pr...   \n",
       "\n",
       "                                  description_key_words  \n",
       "0      Write A Feature Length Screenplay For Film Or...  \n",
       "1      Business Strategy: Business Model Canvas Anal...  \n",
       "2      Silicon Thin Film Solar Cells This course con...  \n",
       "3      Finance for Managers When it comes to numbers...  \n",
       "4      Retrieve Data using Single-Table SQL Queries ...  \n",
       "...                                                 ...  \n",
       "3517   Capstone: Retrieving, Processing, and Visuali...  \n",
       "3518   Patrick Henry: Forgotten Founder �Give me lib...  \n",
       "3519   Business intelligence and data analytics: Gen...  \n",
       "3520   Rigid Body Dynamics This course teaches dynam...  \n",
       "3521   Architecting with Google Kubernetes Engine: P...  \n",
       "\n",
       "[3424 rows x 2 columns]"
      ]
     },
     "execution_count": 14,
     "metadata": {},
     "output_type": "execute_result"
    }
   ],
   "source": [
    "new_df = new_df[[\"Course_Name\", \"description_key_words\"]]\n",
    "new_df"
   ]
  },
  {
   "cell_type": "markdown",
   "id": "4616dd32-b3b5-4f8a-92d9-b608f034d64f",
   "metadata": {},
   "source": [
    "### Data preprocessing"
   ]
  },
  {
   "cell_type": "code",
   "execution_count": 15,
   "id": "a2eda97e-91c6-4378-9b96-b51007acfffa",
   "metadata": {
    "tags": []
   },
   "outputs": [],
   "source": [
    "from sklearn.feature_extraction.text import CountVectorizer\n",
    "import re\n",
    "import nltk\n",
    "from nltk.stem import WordNetLemmatizer"
   ]
  },
  {
   "cell_type": "code",
   "execution_count": 16,
   "id": "632962f5-4c9f-4ca5-8b07-9908c2379c01",
   "metadata": {
    "tags": []
   },
   "outputs": [
    {
     "data": {
      "text/plain": [
       "' Building Test Automation Framework using Selenium and TestNG Selenium is one of the most widely used functional UI automation testing tools and TestNG is a brilliant testing framework.  Test automation frameworks are a set of guidelines or rules for writing test cases.  They can reduce maintenance costs and testing efforts and will provide a higher return on investment (ROI) for teams looking to optimize their processes.  Testing guidelines include coding standards, test-data management, defining object repositories, reporting guidelines, and logging strategies.  Through hands-on, practical experience, you will go through concepts writing reusable and structure code which is easy to maintain and understand, creating helper classes or utilities, write effective testcases, and generating reports and logs. maintenance  test case  test automation  screenshot  project  helper class  selenium  reusability  debugging  php computer-science software-development Beginner'"
      ]
     },
     "execution_count": 16,
     "metadata": {},
     "output_type": "execute_result"
    }
   ],
   "source": [
    "new_df[\"description_key_words\"].iloc[5]"
   ]
  },
  {
   "cell_type": "code",
   "execution_count": 17,
   "id": "7d2efb4a-1ad5-439b-9dd1-a10048151d44",
   "metadata": {
    "tags": []
   },
   "outputs": [],
   "source": [
    "my_lematizer = WordNetLemmatizer()\n",
    "\n",
    "def PreprocessTexte(text):\n",
    "    \n",
    "    cleaned_text = re.sub(r'-',' ',text) \n",
    "    \n",
    "    # remove  urls\n",
    "    cleaned_text = re.sub(r'https?://\\S+|www\\.\\S+|http?://\\S+',' ',cleaned_text) \n",
    "    # remove html tags\n",
    "    cleaned_text = re.sub(r'<.*?>',' ',cleaned_text) \n",
    "    # replace all numbers \n",
    "    cleaned_text = re.sub(r'[0-9]', '', cleaned_text)\n",
    "    # filtering out miscellaneous text.\n",
    "    cleaned_text = re.sub(r\"\\([^()]*\\)\", \"\", cleaned_text)\n",
    "    # remove mentions\n",
    "    cleaned_text = re.sub('@\\S+', '', cleaned_text)  \n",
    "    # removes ponctuations\n",
    "    cleaned_text = re.sub('[%s]' % re.escape(\"\"\"!\"#$%&'()*+,-./:;<=>?@[\\]^_`{|}~\"\"\"), '', cleaned_text)  \n",
    "\n",
    "    cleaned_text = re.sub(r'ML',' Machine Learning ',cleaned_text) \n",
    "    \n",
    "    cleaned_text = re.sub(r'DL',' Deep Learning ',cleaned_text)\n",
    "    \n",
    "    cleaned_text = cleaned_text.lower() # \n",
    "    cleaned_text = cleaned_text.split()\n",
    "\n",
    "    # apply lematisation\n",
    "    cleaned_text = ' '.join([my_lematizer.lemmatize(word) for word in cleaned_text])\n",
    "    \n",
    "    return cleaned_text"
   ]
  },
  {
   "cell_type": "code",
   "execution_count": 18,
   "id": "669f5acd-4dfb-4fbd-a018-8193b3800adf",
   "metadata": {
    "tags": []
   },
   "outputs": [],
   "source": [
    "#nltk.download('wordnet')\n",
    "#nltk.download('omw-1.4')"
   ]
  },
  {
   "cell_type": "code",
   "execution_count": 19,
   "id": "24b6947e-f289-4e15-8161-0eb2cf2c2039",
   "metadata": {
    "tags": []
   },
   "outputs": [],
   "source": [
    "new_df[\"description_key_words\"] = new_df[\"description_key_words\"].apply(PreprocessTexte)"
   ]
  },
  {
   "cell_type": "code",
   "execution_count": 20,
   "id": "56b3848f-4f7d-486e-bd76-360e52b336c8",
   "metadata": {},
   "outputs": [
    {
     "data": {
      "text/plain": [
       "'building test automation framework using selenium and testng selenium is one of the most widely used functional ui automation testing tool and testng is a brilliant testing framework test automation framework are a set of guideline or rule for writing test case they can reduce maintenance cost and testing effort and will provide a higher return on investment for team looking to optimize their process testing guideline include coding standard test data management defining object repository reporting guideline and logging strategy through hand on practical experience you will go through concept writing reusable and structure code which is easy to maintain and understand creating helper class or utility write effective testcases and generating report and log maintenance test case test automation screenshot project helper class selenium reusability debugging php computer science software development beginner'"
      ]
     },
     "execution_count": 20,
     "metadata": {},
     "output_type": "execute_result"
    }
   ],
   "source": [
    "new_df[\"description_key_words\"].iloc[5]"
   ]
  },
  {
   "cell_type": "markdown",
   "id": "7d1dd582-0af2-40ca-afdd-071da6b65923",
   "metadata": {
    "tags": []
   },
   "source": [
    "### Vectorisation"
   ]
  },
  {
   "cell_type": "code",
   "execution_count": 21,
   "id": "302224e4-613c-4ec4-8ec5-1c4a6a10765f",
   "metadata": {},
   "outputs": [],
   "source": [
    "vectorizer = CountVectorizer(max_features=10000, stop_words='english')\n",
    "vectors = vectorizer.fit_transform(new_df[\"description_key_words\"]).toarray()"
   ]
  },
  {
   "cell_type": "code",
   "execution_count": 22,
   "id": "87378827-a342-49fc-8cd5-af323f52a044",
   "metadata": {},
   "outputs": [
    {
     "name": "stdout",
     "output_type": "stream",
     "text": [
      "Shape of feature  matrix:  (3424, 10000)\n",
      "Vocabulary size :  10000\n"
     ]
    }
   ],
   "source": [
    "print(\"Shape of feature  matrix: \", vectors.shape)\n",
    "print(\"Vocabulary size : \", len(vectorizer.vocabulary_))\n",
    "#print(\"The vocabulary: \", vectorizer.vocabulary_)"
   ]
  },
  {
   "cell_type": "markdown",
   "id": "5d923007-f0e8-4a4f-9c33-ecf63f387aad",
   "metadata": {},
   "source": [
    "### Recommandation"
   ]
  },
  {
   "cell_type": "code",
   "execution_count": 23,
   "id": "c7731920-1699-43eb-a53a-697743ce32ce",
   "metadata": {
    "tags": []
   },
   "outputs": [],
   "source": [
    "from sklearn.metrics.pairwise import cosine_similarity"
   ]
  },
  {
   "cell_type": "code",
   "execution_count": 24,
   "id": "23315811-83da-464e-a7cb-9aa8a456f570",
   "metadata": {
    "tags": []
   },
   "outputs": [],
   "source": [
    "def books_id_recommended(description, vectorizer, vectors, number_of_recommendation=5):\n",
    "    # preprocess text\n",
    "    description = [PreprocessTexte(description)]\n",
    "    \n",
    "    # do vectorization \n",
    "    vect = vectorizer.transform(description)\n",
    "\n",
    "    # compute similarity with other feature vectors\n",
    "    similars_vectors = cosine_similarity(vect, vectors)[0]\n",
    "\n",
    "    # We sort the similarity values in ascending order(The result is a list of indices)\n",
    "    ordered_similars_vectors = list(similars_vectors.argsort()) \n",
    "\n",
    "    # We reverse to order\n",
    "    reverse_ordered_similars_vectors = [index for index in reversed(ordered_similars_vectors)] \n",
    "    \n",
    "    # We select the number_of_recommendation indices corresponding to the highest similarity coeficients\n",
    "    best_indexs = reverse_ordered_similars_vectors[1:number_of_recommendation]\n",
    "        \n",
    "    return best_indexs"
   ]
  },
  {
   "cell_type": "code",
   "execution_count": 25,
   "id": "b1963e31-2c58-4a0b-970c-9a8c7cfb5de9",
   "metadata": {
    "tags": []
   },
   "outputs": [],
   "source": [
    "def recommend_me():\n",
    "    description = input(\"Enter a  description: \")\n",
    "    books_index = books_id_recommended(description, vectorizer, vectors, number_of_recommendation=5)\n",
    "    if books_index != None:\n",
    "        books_to_recommend = list(new_df.iloc[books_index][\"Course_Name\"])\n",
    "        print(\"Books to recommend to user: \")\n",
    "        print(\"------------------------------------------------------------------\")\n",
    "        for i, book in enumerate(books_to_recommend):\n",
    "            print(f\"\\t{i+1}- {book}\")\n",
    "        print(\"------------------------------------------------------------------\")\n",
    "    else:\n",
    "        print(\"No book to recommend to you\")"
   ]
  },
  {
   "cell_type": "code",
   "execution_count": 26,
   "id": "23cd50e1-7e26-43e1-ae66-e58637634a2c",
   "metadata": {
    "tags": []
   },
   "outputs": [
    {
     "name": "stdin",
     "output_type": "stream",
     "text": [
      "Enter a  description:  Django for web\n"
     ]
    },
    {
     "name": "stdout",
     "output_type": "stream",
     "text": [
      "Books to recommend to user: \n",
      "------------------------------------------------------------------\n",
      "\t1- Building Web Applications in Django\n",
      "\t2- Django Features and Libraries\n",
      "\t3- Introduction to Web Development\n",
      "\t4- Web Application Development: Basic Concepts\n",
      "------------------------------------------------------------------\n"
     ]
    },
    {
     "name": "stdin",
     "output_type": "stream",
     "text": [
      "Exit ? y(yes) n(no) n\n",
      "Enter a  description:  Python programming\n"
     ]
    },
    {
     "name": "stdout",
     "output_type": "stream",
     "text": [
      "Books to recommend to user: \n",
      "------------------------------------------------------------------\n",
      "\t1- Python Programming Essentials\n",
      "\t2- Python Data Representations\n",
      "\t3- Python Basics\n",
      "\t4- Python Programming: A Concise Introduction\n",
      "------------------------------------------------------------------\n"
     ]
    },
    {
     "name": "stdin",
     "output_type": "stream",
     "text": [
      "Exit ? y(yes) n(no) y\n"
     ]
    }
   ],
   "source": [
    "quit = 'n'\n",
    "while quit == 'n':\n",
    "    recommend_me()\n",
    "    quit = str(input(\"Exit ? y(yes) n(no)\")).lower()"
   ]
  }
 ],
 "metadata": {
  "kernelspec": {
   "display_name": "Python 3 (ipykernel)",
   "language": "python",
   "name": "python3"
  },
  "language_info": {
   "codemirror_mode": {
    "name": "ipython",
    "version": 3
   },
   "file_extension": ".py",
   "mimetype": "text/x-python",
   "name": "python",
   "nbconvert_exporter": "python",
   "pygments_lexer": "ipython3",
   "version": "3.11.3"
  }
 },
 "nbformat": 4,
 "nbformat_minor": 5
}
